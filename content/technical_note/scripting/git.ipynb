{
 "cells": [
  {
   "cell_type": "raw",
   "metadata": {},
   "source": [
    "---\n",
    "title: \"Working with git\"\n",
    "date: 2020-04-12T14:41:32+02:00\n",
    "author: \"Othmane Rifki\"\n",
    "type: technical_note\n",
    "draft: false\n",
    "---"
   ]
  },
  {
   "cell_type": "markdown",
   "metadata": {},
   "source": [
    "# Working with git"
   ]
  },
  {
   "cell_type": "markdown",
   "metadata": {},
   "source": [
    "### Remove submodule"
   ]
  },
  {
   "cell_type": "markdown",
   "metadata": {},
   "source": [
    "To remove a submodule from a git repository you need to:\n",
    "\n",
    "Delete the relevant section from the `.gitmodules` file  \n",
    "Stage the `.gitmodules` changes: `git add .gitmodules`   \n",
    "Delete the relevant section from `.git/config`   \n",
    "Run `git rm --cached path_to_submodule` (no trailing slash)    \n",
    "Run `rm -rf .git/modules/path_to_submodule` (no trailing slash)   \n",
    "Commit `git commit -m \"Removed submodule\"`    \n",
    "Delete the now untracked submodule files `rm -rf path_to_submodule`   "
   ]
  },
  {
   "cell_type": "markdown",
   "metadata": {},
   "source": [
    "Foldable text:\n",
    "\n",
    "<details>\n",
    "  <summary>Title 1</summary>\n",
    "  <p>Content 1 Content 1 Content 1 Content 1 Content 1</p>\n",
    "</details>\n",
    "<details>\n",
    "  <summary>Title 2</summary>\n",
    "  <p>Content 2 Content 2 Content 2 Content 2 Content 2</p>\n",
    "</details>\n",
    "\n",
    "    Markup : <details>\n",
    "               <summary>Title 1</summary>\n",
    "               <p>Content 1 Content 1 Content 1 Content 1 Content 1</p>\n",
    "             </details>\n"
   ]
  },
  {
   "cell_type": "code",
   "execution_count": null,
   "metadata": {},
   "outputs": [],
   "source": []
  }
 ],
 "metadata": {
  "kernelspec": {
   "display_name": "Python 3",
   "language": "python",
   "name": "python3"
  },
  "language_info": {
   "codemirror_mode": {
    "name": "ipython",
    "version": 3
   },
   "file_extension": ".py",
   "mimetype": "text/x-python",
   "name": "python",
   "nbconvert_exporter": "python",
   "pygments_lexer": "ipython3",
   "version": "3.7.3"
  }
 },
 "nbformat": 4,
 "nbformat_minor": 4
}
