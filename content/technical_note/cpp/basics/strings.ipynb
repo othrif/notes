{
 "cells": [
  {
   "cell_type": "raw",
   "metadata": {},
   "source": [
    "---\n",
    "title: \"Bitwise Operations\"\n",
    "date: 2020-04-12T14:41:32+02:00\n",
    "author: \"Othmane Rifki\"\n",
    "type: technical_note\n",
    "draft: false\n",
    "---"
   ]
  },
  {
   "cell_type": "code",
   "execution_count": null,
   "metadata": {},
   "outputs": [],
   "source": [
    "#include <iostream>\n",
    "#include <string>\n",
    "using namespace std;"
   ]
  },
  {
   "cell_type": "markdown",
   "metadata": {},
   "source": [
    "### String size"
   ]
  },
  {
   "cell_type": "code",
   "execution_count": 3,
   "metadata": {},
   "outputs": [
    {
     "name": "stdout",
     "output_type": "stream",
     "text": [
      "String size is 5\n"
     ]
    }
   ],
   "source": [
    "{\n",
    "string str = \"hello\";\n",
    "cout << \"String size is \" << str.length() << endl;\n",
    "}"
   ]
  },
  {
   "cell_type": "markdown",
   "metadata": {},
   "source": [
    "### String append"
   ]
  },
  {
   "cell_type": "markdown",
   "metadata": {},
   "source": [
    "For one character, use `pash_back()` otherwise `append()`"
   ]
  },
  {
   "cell_type": "code",
   "execution_count": 13,
   "metadata": {},
   "outputs": [
    {
     "name": "stdout",
     "output_type": "stream",
     "text": [
      "4123X\n"
     ]
    }
   ],
   "source": [
    "{\n",
    "string inStr = \"123\"; \n",
    "string outStr = \"\"; \n",
    "outStr.append(\"4\"); \n",
    "outStr.append(inStr);\n",
    "char x = 'X';\n",
    "outStr.push_back(x); // Valid when appending 1 char\n",
    "cout << outStr << endl;\n",
    "}"
   ]
  },
  {
   "cell_type": "markdown",
   "metadata": {},
   "source": [
    "### String check space"
   ]
  },
  {
   "cell_type": "code",
   "execution_count": 2,
   "metadata": {},
   "outputs": [
    {
     "name": "stdout",
     "output_type": "stream",
     "text": [
      "Found space!\n",
      "Space Not found!\n",
      "Space Not found!\n",
      "Space Not found!\n",
      "Found space!\n"
     ]
    }
   ],
   "source": [
    "{string str = \" HEY \";\n",
    " \n",
    " for(size_t i = 0; i<str.length(); i++){\n",
    "     if( isspace(str[i]) )\n",
    "         cout << \"Found space!\" << endl;\n",
    "     else\n",
    "         cout << \"Space Not found!\" << endl;\n",
    " }\n",
    "}"
   ]
  },
  {
   "cell_type": "code",
   "execution_count": 3,
   "metadata": {},
   "outputs": [
    {
     "name": "stdout",
     "output_type": "stream",
     "text": [
      "Found!\n"
     ]
    }
   ],
   "source": [
    "{string str = \" \";\n",
    "if(str == \" \")\n",
    "    cout << \"Found!\" << endl;\n",
    " else\n",
    "     cout << \"Not found!\" << endl;\n",
    "}"
   ]
  },
  {
   "cell_type": "markdown",
   "metadata": {},
   "source": [
    "### Erase a string"
   ]
  },
  {
   "cell_type": "code",
   "execution_count": 3,
   "metadata": {},
   "outputs": [
    {
     "name": "stdout",
     "output_type": "stream",
     "text": [
      "This sentence.\n"
     ]
    }
   ],
   "source": [
    "{\n",
    "    string str (\"This is an example sentence.\");\n",
    "    str.erase (str.begin()+5, str.end()-9);\n",
    "    cout << str << endl;\n",
    "}"
   ]
  },
  {
   "cell_type": "markdown",
   "metadata": {},
   "source": [
    "### Copy string to char array"
   ]
  },
  {
   "cell_type": "code",
   "execution_count": 1,
   "metadata": {},
   "outputs": [],
   "source": [
    "#include <iostream>\n",
    "#include <string>\n",
    "#include <cstring>\n",
    "using namespace std;"
   ]
  },
  {
   "cell_type": "code",
   "execution_count": 2,
   "metadata": {},
   "outputs": [
    {
     "name": "stdout",
     "output_type": "stream",
     "text": [
      "Hello World!\n"
     ]
    }
   ],
   "source": [
    "{std::string s = \"Hello World!\";\n",
    "\n",
    "char cstr[s.size() + 1]; // +1 for /0 character\n",
    "strcpy(cstr, s.c_str()); // or pass &s[0]\n",
    "\n",
    "std::cout << cstr << '\\n';\n",
    "}"
   ]
  },
  {
   "cell_type": "markdown",
   "metadata": {},
   "source": [
    "alternatively, if you will not remember `strcpy`:"
   ]
  },
  {
   "cell_type": "code",
   "execution_count": 3,
   "metadata": {},
   "outputs": [
    {
     "name": "stdout",
     "output_type": "stream",
     "text": [
      "Hello World!\u0001\n"
     ]
    }
   ],
   "source": [
    "{\n",
    "    std::string s = \"Hello World!\";\n",
    "    char cstr[s.size() + 1]; // +1 for /0 character\n",
    "    for (int i=0; i<s.size(); i++)\n",
    "        cstr[i] = s[i];\n",
    "    std::cout << cstr << '\\n';\n",
    "    \n",
    "}"
   ]
  },
  {
   "cell_type": "code",
   "execution_count": null,
   "metadata": {},
   "outputs": [],
   "source": []
  }
 ],
 "metadata": {
  "kernelspec": {
   "display_name": "C++17",
   "language": "C++17",
   "name": "xcpp17"
  },
  "language_info": {
   "codemirror_mode": "text/x-c++src",
   "file_extension": ".cpp",
   "mimetype": "text/x-c++src",
   "name": "c++",
   "version": "-std=c++17"
  }
 },
 "nbformat": 4,
 "nbformat_minor": 4
}
