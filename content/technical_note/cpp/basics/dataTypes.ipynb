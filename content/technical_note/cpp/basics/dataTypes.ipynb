{
 "cells": [
  {
   "cell_type": "raw",
   "metadata": {},
   "source": [
    "---\n",
    "title: \"Data types\"\n",
    "date: 2020-04-12T14:41:32+02:00\n",
    "author: \"Othmane Rifki\"\n",
    "type: technical_note\n",
    "draft: false\n",
    "---"
   ]
  },
  {
   "cell_type": "code",
   "execution_count": 1,
   "metadata": {},
   "outputs": [],
   "source": [
    "#include <iostream>\n",
    "using namespace std;"
   ]
  },
  {
   "cell_type": "markdown",
   "metadata": {},
   "source": [
    "### Size of common data types"
   ]
  },
  {
   "cell_type": "code",
   "execution_count": 3,
   "metadata": {},
   "outputs": [
    {
     "name": "stdout",
     "output_type": "stream",
     "text": [
      "Size of char : 1\n",
      "Size of int : 4\n",
      "Size of unsigned int : 4\n",
      "Size of short int : 2\n",
      "Size of long int : 8\n",
      "Size of float : 4\n",
      "Size of double : 8\n",
      "Size of wchar_t : 4\n"
     ]
    }
   ],
   "source": [
    "   cout << \"Size of char : \" << sizeof(char) << endl;\n",
    "   cout << \"Size of int : \" << sizeof(int) << endl;\n",
    "   cout << \"Size of unsigned int : \" << sizeof(unsigned int) << endl;\n",
    "   cout << \"Size of short int : \" << sizeof(short int) << endl;\n",
    "   cout << \"Size of long int : \" << sizeof(long int) << endl;\n",
    "   cout << \"Size of float : \" << sizeof(float) << endl;\n",
    "   cout << \"Size of double : \" << sizeof(double) << endl;\n",
    "   cout << \"Size of wchar_t : \" << sizeof(wchar_t) << endl;"
   ]
  },
  {
   "cell_type": "code",
   "execution_count": null,
   "metadata": {},
   "outputs": [],
   "source": []
  }
 ],
 "metadata": {
  "kernelspec": {
   "display_name": "C++17",
   "language": "C++17",
   "name": "xcpp17"
  },
  "language_info": {
   "codemirror_mode": "text/x-c++src",
   "file_extension": ".cpp",
   "mimetype": "text/x-c++src",
   "name": "c++",
   "version": "-std=c++17"
  }
 },
 "nbformat": 4,
 "nbformat_minor": 4
}
