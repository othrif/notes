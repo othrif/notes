{
 "cells": [
  {
   "cell_type": "raw",
   "metadata": {},
   "source": [
    "---\n",
    "title: \"String manipulation\"\n",
    "date: 2020-04-12T14:41:32+02:00\n",
    "author: \"Othmane Rifki\"\n",
    "type: technical_note\n",
    "draft: false\n",
    "---"
   ]
  },
  {
   "cell_type": "code",
   "execution_count": 3,
   "metadata": {},
   "outputs": [],
   "source": [
    "#include <iostream>\n",
    "#include <string>\n",
    "using namespace std;"
   ]
  },
  {
   "cell_type": "markdown",
   "metadata": {},
   "source": [
    "### Convert between different Dec and Binary"
   ]
  },
  {
   "cell_type": "code",
   "execution_count": 4,
   "metadata": {},
   "outputs": [
    {
     "data": {
      "text/plain": [
       "\"00000000000000000000000000000001\""
      ]
     },
     "execution_count": 4,
     "metadata": {},
     "output_type": "execute_result"
    }
   ],
   "source": [
    "#include <bitset>\n",
    "\n",
    "std::bitset<32>(1).to_string()"
   ]
  },
  {
   "cell_type": "markdown",
   "metadata": {},
   "source": [
    "### Bitwise operations"
   ]
  },
  {
   "cell_type": "code",
   "execution_count": 9,
   "metadata": {},
   "outputs": [
    {
     "name": "stdout",
     "output_type": "stream",
     "text": [
      "00000000000000000000000000000001\n",
      "================================\n",
      "00000000000000000000000000000001\n",
      "00000000000000000000000000000010\n",
      "00000000000000000000000000000100\n",
      "00000000000000000000000000001000\n",
      "00000000000000000000000000010000\n",
      "00000000000000000000000000100000\n",
      "00000000000000000000000001000000\n",
      "00000000000000000000000010000000\n",
      "00000000000000000000000100000000\n",
      "00000000000000000000001000000000\n",
      "00000000000000000000010000000000\n",
      "00000000000000000000100000000000\n",
      "00000000000000000001000000000000\n",
      "00000000000000000010000000000000\n",
      "00000000000000000100000000000000\n",
      "00000000000000001000000000000000\n",
      "00000000000000010000000000000000\n",
      "00000000000000100000000000000000\n",
      "00000000000001000000000000000000\n",
      "00000000000010000000000000000000\n",
      "00000000000100000000000000000000\n",
      "00000000001000000000000000000000\n",
      "00000000010000000000000000000000\n",
      "00000000100000000000000000000000\n",
      "00000001000000000000000000000000\n",
      "00000010000000000000000000000000\n",
      "00000100000000000000000000000000\n",
      "00001000000000000000000000000000\n",
      "00010000000000000000000000000000\n",
      "00100000000000000000000000000000\n",
      "01000000000000000000000000000000\n",
      "10000000000000000000000000000000\n"
     ]
    }
   ],
   "source": [
    "cout << bitset<32>(1) << endl;\n",
    "cout << \"================================\" << endl;\n",
    "for (int i = 0; i < 32; i++)\n",
    "cout << bitset<32>(1 << i) << endl;"
   ]
  },
  {
   "cell_type": "markdown",
   "metadata": {},
   "source": [
    "### Check bits"
   ]
  },
  {
   "cell_type": "code",
   "execution_count": 10,
   "metadata": {},
   "outputs": [
    {
     "name": "stdout",
     "output_type": "stream",
     "text": [
      "7\n",
      "00000000000000000000000000000001\n",
      "00000000000000000000000010000000\n",
      "00000000000000000000000000000000\n",
      "00000000000000000000000010000000\n",
      "00000000000000000000000010001000\n",
      "1\n"
     ]
    }
   ],
   "source": [
    "{\n",
    "    int value = 7;\n",
    "    cout << value << endl;\n",
    "    cout << std::bitset<32>(1 ) << endl;\n",
    "    cout << std::bitset<32>(1 << value) << endl;\n",
    "    unsigned int checker = 0;\n",
    "    cout << std::bitset<32>(checker) << endl;\n",
    "    checker = (1 << value);\n",
    "    cout << std::bitset<32>(checker) << endl;\n",
    "    checker |= (1 << 3);\n",
    "    cout << std::bitset<32>(checker) << endl;\n",
    "    cout << bool(checker & 1 << value) << endl;\n",
    "}"
   ]
  },
  {
   "cell_type": "code",
   "execution_count": null,
   "metadata": {},
   "outputs": [],
   "source": []
  }
 ],
 "metadata": {
  "kernelspec": {
   "display_name": "C++17",
   "language": "C++17",
   "name": "xcpp17"
  },
  "language_info": {
   "codemirror_mode": "text/x-c++src",
   "file_extension": ".cpp",
   "mimetype": "text/x-c++src",
   "name": "c++",
   "version": "-std=c++17"
  }
 },
 "nbformat": 4,
 "nbformat_minor": 4
}
