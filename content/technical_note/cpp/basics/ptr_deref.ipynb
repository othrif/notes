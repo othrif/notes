{
 "cells": [
  {
   "cell_type": "raw",
   "metadata": {},
   "source": [
    "---\n",
    "title: \"++*ptr vs. *ptr++\"\n",
    "date: 2020-04-12T14:41:32+02:00\n",
    "author: \"Othmane Rifki\"\n",
    "type: technical_note\n",
    "draft: false\n",
    "---"
   ]
  },
  {
   "cell_type": "code",
   "execution_count": 5,
   "metadata": {},
   "outputs": [],
   "source": [
    "#include <iostream>\n",
    "using namespace std;"
   ]
  },
  {
   "cell_type": "markdown",
   "metadata": {},
   "source": [
    "### Rules\n",
    "Prefix operator `++` has the same precedence as dereference: `++*ptr` = `++(*ptr)`. `++ptr` evaluates to the *incremented* value of `ptr`   \n",
    "Postfix operator `++` has a higher precedence than dereference: So `*ptr++` gets evaluated as `*(ptr++)`. `ptr++` evaluates to the current value of `ptr`"
   ]
  },
  {
   "cell_type": "code",
   "execution_count": 13,
   "metadata": {},
   "outputs": [
    {
     "name": "stdout",
     "output_type": "stream",
     "text": [
      "19\n",
      "20\n",
      "20\n"
     ]
    }
   ],
   "source": [
    "{int x = 19;\n",
    "int *ptr = &x;\n",
    "cout << *ptr << endl;\n",
    "cout << ++(*ptr) << endl;\n",
    "cout << *ptr << endl;\n",
    " }"
   ]
  },
  {
   "cell_type": "code",
   "execution_count": 6,
   "metadata": {},
   "outputs": [
    {
     "name": "stdout",
     "output_type": "stream",
     "text": [
      "19\n",
      "19\n",
      "20\n"
     ]
    }
   ],
   "source": [
    "{int x = 19;\n",
    "int *ptr = &x;\n",
    "cout << *ptr << endl;\n",
    "cout << (*ptr)++ << endl; // *ptr++ means *(ptr++) and will give garbage\n",
    "cout << *ptr << endl;\n",
    " }"
   ]
  }
 ],
 "metadata": {
  "kernelspec": {
   "display_name": "C++17",
   "language": "C++17",
   "name": "xcpp17"
  },
  "language_info": {
   "codemirror_mode": "text/x-c++src",
   "file_extension": ".cpp",
   "mimetype": "text/x-c++src",
   "name": "c++",
   "version": "-std=c++17"
  }
 },
 "nbformat": 4,
 "nbformat_minor": 4
}
