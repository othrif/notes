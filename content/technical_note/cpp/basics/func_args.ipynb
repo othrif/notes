{
 "cells": [
  {
   "cell_type": "raw",
   "metadata": {},
   "source": [
    "---\n",
    "title: \"Function arguments, by reference\"\n",
    "date: 2020-04-12T14:41:32+02:00\n",
    "author: \"Othmane Rifki\"\n",
    "type: technical_note\n",
    "draft: false\n",
    "---"
   ]
  },
  {
   "cell_type": "code",
   "execution_count": 1,
   "metadata": {},
   "outputs": [],
   "source": [
    "#include <iostream>\n",
    "using namespace std;"
   ]
  },
  {
   "cell_type": "markdown",
   "metadata": {},
   "source": [
    "### Pass by pointer"
   ]
  },
  {
   "cell_type": "markdown",
   "metadata": {},
   "source": [
    "Pass-by-pointer means to pass a pointer argument in the calling function to the corresponding formal parameter of the called function. The called function can modify the value of the variable to which the pointer argument points\n",
    "Pass by pointer using a pointer, here you can pass a `NULL` pointer"
   ]
  },
  {
   "cell_type": "code",
   "execution_count": 2,
   "metadata": {},
   "outputs": [],
   "source": [
    "double f1(double* x, double* y)\n",
    "{\n",
    "    std::cout << \"val x: \" << *x << \"\\n\";\n",
    "    std::cout << \"val y: \" << *y << \"\\n\";\n",
    "    return *x * *y;\n",
    "}"
   ]
  },
  {
   "cell_type": "code",
   "execution_count": 3,
   "metadata": {},
   "outputs": [],
   "source": [
    "void swapnum_byPointer(int *i, int *j) {\n",
    "  int temp = *i;\n",
    "  *i = *j;\n",
    "  *j = temp;\n",
    "}"
   ]
  },
  {
   "cell_type": "code",
   "execution_count": 4,
   "metadata": {},
   "outputs": [
    {
     "name": "stdout",
     "output_type": "stream",
     "text": [
      "A is 20 and B is 10\n"
     ]
    }
   ],
   "source": [
    "{int a = 10;\n",
    "int b = 20;\n",
    "swapnum_byPointer(&a, &b);\n",
    "cout << \"A is \" << a << \" and B is \" << b << endl;\n",
    "}"
   ]
  },
  {
   "cell_type": "markdown",
   "metadata": {},
   "source": [
    "### Pass by reference"
   ]
  },
  {
   "cell_type": "markdown",
   "metadata": {},
   "source": [
    "Pass by reference by creating an alias to the arguments you pass. Use `const` to not change these arguments"
   ]
  },
  {
   "cell_type": "code",
   "execution_count": 5,
   "metadata": {},
   "outputs": [],
   "source": [
    "double f2(double const &x, double const &y)\n",
    "{\n",
    "    std::cout << \"val x: \" << x << \"\\n\";\n",
    "    std::cout << \"val y: \" << y << \"\\n\";\n",
    "    return x * y;\n",
    "}"
   ]
  },
  {
   "cell_type": "markdown",
   "metadata": {},
   "source": [
    "Pass by reference by creating an alias to the arguments you pass. Do not use `const` if you plan to modify the arguments"
   ]
  },
  {
   "cell_type": "code",
   "execution_count": 6,
   "metadata": {},
   "outputs": [],
   "source": [
    "double f3(double &x, double &y)\n",
    "{\n",
    "    std::cout << \"val x: \" << x << \"\\n\";\n",
    "    std::cout << \"val y: \" << y << \"\\n\";\n",
    "    return x * y;\n",
    "}"
   ]
  },
  {
   "cell_type": "code",
   "execution_count": 7,
   "metadata": {},
   "outputs": [
    {
     "name": "stdout",
     "output_type": "stream",
     "text": [
      "val x: 2\n",
      "val y: 3\n",
      "6\n",
      "val x: 2\n",
      "val y: 3\n",
      "6\n",
      "val x: 2\n",
      "val y: 3\n",
      "6\n"
     ]
    }
   ],
   "source": [
    "{double a, b;\n",
    "a = 2;\n",
    "b = 3; \n",
    "std::cout << f1(&a, &b) << \"\\n\";\n",
    "std::cout << f2(a, b) << \"\\n\";\n",
    "std::cout << f3(a, b) << \"\\n\";\n",
    "}"
   ]
  },
  {
   "cell_type": "code",
   "execution_count": 8,
   "metadata": {},
   "outputs": [],
   "source": [
    "void swapnum(int &i, int &j) {\n",
    "  int temp = i;\n",
    "  i = j;\n",
    "  j = temp;\n",
    "}"
   ]
  },
  {
   "cell_type": "code",
   "execution_count": 9,
   "metadata": {},
   "outputs": [
    {
     "name": "stdout",
     "output_type": "stream",
     "text": [
      "A is 20 and B is 10\n"
     ]
    }
   ],
   "source": [
    "{int a = 10;\n",
    "int b = 20;\n",
    "swapnum(a, b);\n",
    "cout << \"A is \" << a << \" and B is \" << b << endl;\n",
    "}"
   ]
  },
  {
   "cell_type": "code",
   "execution_count": 10,
   "metadata": {},
   "outputs": [],
   "source": [
    "void modify_const(const int& x) {\n",
    "  int& y = const_cast<int&>(x);\n",
    "  ++y;\n",
    "}"
   ]
  },
  {
   "cell_type": "code",
   "execution_count": 11,
   "metadata": {},
   "outputs": [
    {
     "name": "stdout",
     "output_type": "stream",
     "text": [
      "6\n"
     ]
    }
   ],
   "source": [
    "{int a = 5;\n",
    "  modify_const(a);\n",
    "  cout << a << endl;}"
   ]
  },
  {
   "cell_type": "markdown",
   "metadata": {},
   "source": [
    "### Pass by value\n",
    "The value of an argument is copied to a non-pointer or non-reference parameter in the called function definition. The parameter in the called function is initialized with the value of the passed argument. As long as the parameter has not been declared as constant, the value of the parameter can be changed, but the changes are only performed within the scope of the called function only; they have no effect on the value of the argument in the calling function.   \n",
    "\n",
    "Pass-by-reference is more efficient than pass-by-value, because it does not copy the arguments."
   ]
  },
  {
   "cell_type": "code",
   "execution_count": 12,
   "metadata": {},
   "outputs": [],
   "source": [
    "double f4(double x, double y)\n",
    "{\n",
    "    std::cout << \"val x: \" << x << \"\\n\";\n",
    "    std::cout << \"val y: \" << y << \"\\n\";\n",
    "    return x * y;\n",
    "}"
   ]
  },
  {
   "cell_type": "markdown",
   "metadata": {},
   "source": [
    "#### Result"
   ]
  },
  {
   "cell_type": "code",
   "execution_count": 13,
   "metadata": {},
   "outputs": [
    {
     "name": "stdout",
     "output_type": "stream",
     "text": [
      "val x: 2\n",
      "val y: 3\n",
      "6\n"
     ]
    }
   ],
   "source": [
    "{double a, b;\n",
    "a = 2;\n",
    "b = 3; \n",
    "std::cout << f4(a, b) << \"\\n\";\n",
    "}"
   ]
  },
  {
   "cell_type": "code",
   "execution_count": null,
   "metadata": {},
   "outputs": [],
   "source": []
  }
 ],
 "metadata": {
  "kernelspec": {
   "display_name": "C++17",
   "language": "C++17",
   "name": "xcpp17"
  },
  "language_info": {
   "codemirror_mode": "text/x-c++src",
   "file_extension": ".cpp",
   "mimetype": "text/x-c++src",
   "name": "c++",
   "version": "-std=c++17"
  }
 },
 "nbformat": 4,
 "nbformat_minor": 4
}
