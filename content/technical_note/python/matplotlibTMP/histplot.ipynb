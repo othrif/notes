{
 "cells": [
  {
   "cell_type": "raw",
   "metadata": {},
   "source": [
    "---\n",
    "title: \"Make comnparison histograms\"\n",
    "date: 2020-04-12T14:41:32+02:00\n",
    "author: \"Othmane Rifki\"\n",
    "type: technical_note\n",
    "draft: false\n",
    "---"
   ]
  },
  {
   "cell_type": "code",
   "execution_count": 6,
   "metadata": {},
   "outputs": [],
   "source": [
    "import matplotlib.pyplot as plt\n",
    "import pandas as pd\n",
    "\n",
    "summer2016 = pd.read_csv('summer2016.csv', index_col=0)\n",
    "mens_rowing = summer2016[summer2016['Sport'] == 'Rowing']\n",
    "mens_gymnastics = summer2016[summer2016['Sport'] == 'Gymnastics']"
   ]
  },
  {
   "cell_type": "code",
   "execution_count": 7,
   "metadata": {},
   "outputs": [
    {
     "data": {
      "image/png": "[encoded data removed]",
      "text/plain": [
       "<Figure size 432x288 with 1 Axes>"
      ]
     },
     "metadata": {
      "needs_background": "light"
     },
     "output_type": "display_data"
    }
   ],
   "source": [
    "fig, ax = plt.subplots()\n",
    "\n",
    "# Plot a histogram of \"Weight\" for mens_rowing\n",
    "ax.hist(mens_rowing['Weight'], label='Rowing', histtype='step', bins=5)\n",
    "\n",
    "# Compare to histogram of \"Weight\" for mens_gymnastics\n",
    "ax.hist(mens_gymnastics['Weight'], label='Gymnastics', histtype='step', bins=5)\n",
    "\n",
    "ax.set_xlabel(\"Weight (kg)\")\n",
    "ax.set_ylabel(\"# of observations\")\n",
    "\n",
    "# Add the legend and show the Figure\n",
    "ax.legend()\n",
    "plt.show()\n"
   ]
  }
 ],
 "metadata": {
  "kernelspec": {
   "display_name": "Python 3",
   "language": "python",
   "name": "python3"
  },
  "language_info": {
   "codemirror_mode": {
    "name": "ipython",
    "version": 3
   },
   "file_extension": ".py",
   "mimetype": "text/x-python",
   "name": "python",
   "nbconvert_exporter": "python",
   "pygments_lexer": "ipython3",
   "version": "3.7.3"
  }
 },
 "nbformat": 4,
 "nbformat_minor": 4
}
