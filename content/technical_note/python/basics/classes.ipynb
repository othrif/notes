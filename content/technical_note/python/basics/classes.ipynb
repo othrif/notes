{
 "cells": [
  {
   "cell_type": "raw",
   "metadata": {},
   "source": [
    "---\n",
    "title: \"Python classes\"\n",
    "date: 2020-04-12T14:41:32+02:00\n",
    "author: \"Othmane Rifki\"\n",
    "type: technical_note\n",
    "draft: false\n",
    "---"
   ]
  },
  {
   "cell_type": "markdown",
   "metadata": {},
   "source": [
    "### Self in Python class"
   ]
  },
  {
   "cell_type": "code",
   "execution_count": 1,
   "metadata": {},
   "outputs": [
    {
     "name": "stdout",
     "output_type": "stream",
     "text": [
      "Model is audi a4\n",
      "color is blue\n",
      "Model is ferrari 488\n",
      "color is green\n"
     ]
    }
   ],
   "source": [
    "class car(): \n",
    "      \n",
    "    # init method or constructor \n",
    "    def __init__(self, model, color): \n",
    "        self.model = model \n",
    "        self.color = color \n",
    "          \n",
    "    def show(self): \n",
    "        print(\"Model is\", self.model ) \n",
    "        print(\"color is\", self.color ) \n",
    "          \n",
    "# both objects have different self which  \n",
    "# contain their attributes \n",
    "audi = car(\"audi a4\", \"blue\") \n",
    "ferrari = car(\"ferrari 488\", \"green\") \n",
    "  \n",
    "audi.show()     # same output as car.show(audi) \n",
    "ferrari.show()  # same output as car.show(ferrari) \n",
    "  \n",
    "# Behind the scene, in every instance method  \n",
    "# call, python sends the instances also with \n",
    "# that method call like car.show(audi)"
   ]
  }
 ],
 "metadata": {
  "kernelspec": {
   "display_name": "Python 3",
   "language": "python",
   "name": "python3"
  },
  "language_info": {
   "codemirror_mode": {
    "name": "ipython",
    "version": 3
   },
   "file_extension": ".py",
   "mimetype": "text/x-python",
   "name": "python",
   "nbconvert_exporter": "python",
   "pygments_lexer": "ipython3",
   "version": "3.7.3"
  }
 },
 "nbformat": 4,
 "nbformat_minor": 4
}
