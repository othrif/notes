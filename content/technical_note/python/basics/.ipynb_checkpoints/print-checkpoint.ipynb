{
 "cells": [
  {
   "cell_type": "raw",
   "metadata": {},
   "source": [
    "---\n",
    "title: \"Print statements\"\n",
    "date: 2020-04-12T14:41:32+02:00\n",
    "author: \"Othmane Rifki\"\n",
    "type: technical_note\n",
    "draft: false\n",
    "---"
   ]
  },
  {
   "cell_type": "markdown",
   "metadata": {},
   "source": [
    "### Simple printing"
   ]
  },
  {
   "cell_type": "code",
   "execution_count": 1,
   "metadata": {},
   "outputs": [
    {
     "name": "stdout",
     "output_type": "stream",
     "text": [
      "Printing example!\n"
     ]
    }
   ],
   "source": [
    "print('Printing example!')"
   ]
  },
  {
   "cell_type": "markdown",
   "metadata": {},
   "source": [
    "### f-string formatting:\n",
    "``` python\n",
    "f ' <text> { <expression> <optional !s, !r, or !a> <optional : format specifier> } <text> ... '\n",
    "```\n",
    "where `<optional !s, !r, or !a>` mean `!s (str), !r (repr), and !a (ascii)`\n"
   ]
  },
  {
   "cell_type": "code",
   "execution_count": 11,
   "metadata": {},
   "outputs": [
    {
     "name": "stdout",
     "output_type": "stream",
     "text": [
      "In lower case:  othmane\n",
      "My name is othmane, my age next year is 31, my anniversary is Monday, February 06, 1989.\n",
      "He said his name is 'Othmane'.\n",
      "Raw output: /Users/othmanerifki\n",
      "Hi Othmane.Your age is 30.\n"
     ]
    }
   ],
   "source": [
    "import datetime\n",
    "name = 'Othmane'\n",
    "age = 30\n",
    "anniversary = datetime.date(1989, 2, 6)\n",
    "print(f'My name is {name.lower()}, my age next year is {age+1}, my anniversary is {anniversary:%A, %B %d, %Y}.')\n",
    "print(f'He said his name is {name!r}.') # !r for repr\n",
    "print(r'Raw output: /Users/othmanerifki') # r for raw output\n",
    "message = (\n",
    "    f'Hi {name}.'\n",
    "    f'Your age is {age}.'\n",
    ")\n",
    "print(message)"
   ]
  },
  {
   "cell_type": "code",
   "execution_count": null,
   "metadata": {},
   "outputs": [],
   "source": []
  }
 ],
 "metadata": {
  "kernelspec": {
   "display_name": "Python 3",
   "language": "python",
   "name": "python3"
  },
  "language_info": {
   "codemirror_mode": {
    "name": "ipython",
    "version": 3
   },
   "file_extension": ".py",
   "mimetype": "text/x-python",
   "name": "python",
   "nbconvert_exporter": "python",
   "pygments_lexer": "ipython3",
   "version": "3.7.3"
  }
 },
 "nbformat": 4,
 "nbformat_minor": 4
}
