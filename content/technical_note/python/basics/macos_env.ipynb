{
 "cells": [
  {
   "cell_type": "raw",
   "metadata": {},
   "source": [
    "---\n",
    "title: \"Python 3 in MacOS\"\n",
    "date: 2020-04-12T14:41:32+02:00\n",
    "author: \"Othmane Rifki\"\n",
    "type: technical_note\n",
    "draft: false\n",
    "---"
   ]
  },
  {
   "cell_type": "markdown",
   "metadata": {},
   "source": [
    "### Change python to point to python3 by default"
   ]
  },
  {
   "cell_type": "markdown",
   "metadata": {},
   "source": [
    "``` bash \n",
    "ls -l /usr/local/bin/python*\n",
    "ln -s -f /usr/local/bin/python3.7 /usr/local/bin/python\n",
    "```"
   ]
  },
  {
   "cell_type": "markdown",
   "metadata": {},
   "source": [
    "### Which Python version"
   ]
  },
  {
   "cell_type": "markdown",
   "metadata": {},
   "source": [
    "``` bash \n",
    "python -V\n",
    "```"
   ]
  },
  {
   "cell_type": "markdown",
   "metadata": {},
   "source": [
    "### Install package\n",
    "``` bash \n",
    "pip install SomePackage            # latest version\n",
    "pip install SomePackage==1.0.4     # specific version\n",
    "pip install 'SomePackage>=1.0.4'     # minimum version\n",
    "pip install SomePackage>=2.0.0,<3.0.0 # Install the latest 2.x release \n",
    "pip install SomePackage[extras] # Install package and extras\n",
    "pip install SomeProject@git+https://git.repo/some_pkg.git@1.3.1 # from version control system\n",
    "```"
   ]
  },
  {
   "cell_type": "markdown",
   "metadata": {},
   "source": [
    "### Upgrade package\n",
    "``` bash \n",
    "pip install SomePackage --upgrade\n",
    "```"
   ]
  },
  {
   "cell_type": "markdown",
   "metadata": {},
   "source": [
    "### Main packages used\n",
    "\n",
    "``` bash \n",
    "pip install numpy\n",
    "pip install scipy\n",
    "pip install scikit-learn\n",
    "pip install matplotlib\n",
    "pip install pandas\n",
    "pip install jupyter notebook\n",
    "```"
   ]
  },
  {
   "cell_type": "markdown",
   "metadata": {},
   "source": [
    "### Upgrade pip\n",
    "``` bash \n",
    "python -m pip --version # check version\n",
    "python -m pip install --user --upgrade pip\n",
    "```"
   ]
  },
  {
   "cell_type": "markdown",
   "metadata": {},
   "source": [
    "### Working with virtual environment with `venv`\n",
    "It is recommended to work in virtual environment to not have comflicts between different packages. This can be done using `venv`. The second argument `env` is the location to create the virtual environment in that folder. Generally, you can just create this in your project and call it env. Make sure to add it to `.gitignore`.\n",
    "``` bash \n",
    "python3 -m venv env\n",
    "source env/bin/activate\n",
    "which python # should point to the virtual environment env/bin/python\n",
    "deactivate # leave virtual environment\n",
    "```\n",
    "\n",
    "Installing packages in `venv` is similar to the above:\n",
    "``` bash \n",
    "pip install SomePackage \n",
    "```\n",
    "\n",
    "More importantly it allows you to specify which version to install:\n",
    "``` bash \n",
    "pip install SomePackage\n",
    "\n",
    "```\n",
    "\n",
    "Using requirements file `requirements.txt`:\n",
    "``` python\n",
    "requests==2.18.4\n",
    "google-auth==1.1.0\n",
    "```\n",
    "Install with: \n",
    "``` bash \n",
    "pip install -r requirements.txt\n",
    "```\n",
    "Freeze dependencies after completing all installation of packages (a way to get the requirement file):\n",
    "``` bash \n",
    "pip freeze\n",
    "```"
   ]
  },
  {
   "cell_type": "markdown",
   "metadata": {},
   "source": [
    "### Installing kite for auto-completion in Jupyter\n",
    "``` bash \n",
    "pip install jupyter-kite\n",
    "jupyter labextension install \"@kiteco/jupyterlab-kite\"\n",
    "```\n",
    "\n",
    "If you get the error \n",
    "> Exception: Jupyter command `jupyter-lab` not found.\n",
    "\n",
    "then: \n",
    "``` bash \n",
    "pip uninstall -y jupyterlab\n",
    "pip install jupyterlab\n",
    "export PATH=$PATH:/usr/local/Cellar/python/3.7.6_1/Frameworks/Python.framework/Versions/3.7/bin\n",
    "pip install jupyter-kite\n",
    "jupyter labextension install \"@kiteco/jupyterlab-kite\"\n",
    "```"
   ]
  }
 ],
 "metadata": {
  "kernelspec": {
   "display_name": "Python 3",
   "language": "python",
   "name": "python3"
  },
  "language_info": {
   "codemirror_mode": {
    "name": "ipython",
    "version": 3
   },
   "file_extension": ".py",
   "mimetype": "text/x-python",
   "name": "python",
   "nbconvert_exporter": "python",
   "pygments_lexer": "ipython3",
   "version": "3.7.6"
  }
 },
 "nbformat": 4,
 "nbformat_minor": 4
}
