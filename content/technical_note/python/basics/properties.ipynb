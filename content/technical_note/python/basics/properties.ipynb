{
 "cells": [
  {
   "cell_type": "raw",
   "metadata": {},
   "source": [
    "---\n",
    "title: \"Control attribute acess using @property\"\n",
    "date: 2020-04-12T14:41:32+02:00\n",
    "author: \"Othmane Rifki\"\n",
    "type: technical_note\n",
    "draft: false\n",
    "---"
   ]
  },
  {
   "cell_type": "markdown",
   "metadata": {},
   "source": [
    "### What are properties?"
   ]
  },
  {
   "cell_type": "markdown",
   "metadata": {},
   "source": [
    "You could think of properties as attributes with built-in access control. They are especially useful when there is some additional code you'd like to execute when assigning values to attributes.\n",
    "to a class user, they look just like regular attributes, but behind the scenes, they can have custom code executed when they are accessed."
   ]
  },
  {
   "cell_type": "markdown",
   "metadata": {},
   "source": [
    "### Create and set properties\n",
    "\n",
    "There are two parts to defining a property:\n",
    "\n",
    "- Define an \"internal\" attribute that will contain the data `_name`\n",
    "- Define a `@property`-decorated method whose name is the property `name`, and that returns the internal attribute storing the data\n",
    "\n",
    "If you'd also like to define a custom setter method, there's an additional step:\n",
    "\n",
    "- Define another method whose name is exactly the property name (again), and decorate it with `@prop_name.setter` where `prop_name` is the name of the property. The method should take two arguments -- `self` (as always), and the value that's being assigned to the property."
   ]
  },
  {
   "cell_type": "code",
   "execution_count": 5,
   "metadata": {},
   "outputs": [
    {
     "name": "stdout",
     "output_type": "stream",
     "text": [
      "Setter method called\n",
      "3000\n"
     ]
    }
   ],
   "source": [
    "class Customer:\n",
    "    def __init__(self, name, new_bal):\n",
    "        self.name = name\n",
    "        if new_bal < 0:\n",
    "           raise ValueError(\"Invalid balance!\")\n",
    "        self._balance = new_bal  \n",
    "\n",
    "    # Add a decorated balance() method returning _balance        \n",
    "    @property\n",
    "    def balance(self):\n",
    "        return self._balance\n",
    "\n",
    "    # Add a setter balance() method\n",
    "    @balance.setter\n",
    "    def balance(self, new_bal):\n",
    "        # Validate the parameter value\n",
    "        if new_bal < 0:\n",
    "           raise ValueError(\"Invalid balance!\")\n",
    "        self._balance = new_bal\n",
    "        print(\"Setter method called\")\n",
    "\n",
    "# Create a Customer        \n",
    "cust = Customer('Belinda Lutz', 2000)\n",
    "\n",
    "# Assign 3000 to the balance property\n",
    "cust.balance = 3000\n",
    "\n",
    "# Print the balance property\n",
    "print(cust.balance)"
   ]
  },
  {
   "cell_type": "markdown",
   "metadata": {},
   "source": [
    "the user of your `Customer` class won't be able to assign arbitrary values to the customers' balance. "
   ]
  },
  {
   "cell_type": "code",
   "execution_count": null,
   "metadata": {},
   "outputs": [],
   "source": []
  }
 ],
 "metadata": {
  "kernelspec": {
   "display_name": "Python 3",
   "language": "python",
   "name": "python3"
  },
  "language_info": {
   "codemirror_mode": {
    "name": "ipython",
    "version": 3
   },
   "file_extension": ".py",
   "mimetype": "text/x-python",
   "name": "python",
   "nbconvert_exporter": "python",
   "pygments_lexer": "ipython3",
   "version": "3.7.3"
  }
 },
 "nbformat": 4,
 "nbformat_minor": 4
}
