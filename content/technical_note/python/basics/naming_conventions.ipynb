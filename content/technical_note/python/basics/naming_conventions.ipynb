{
 "cells": [
  {
   "cell_type": "raw",
   "metadata": {},
   "source": [
    "---\n",
    "title: \"Attribute naming conventions\"\n",
    "date: 2020-04-12T14:41:32+02:00\n",
    "author: \"Othmane Rifki\"\n",
    "type: technical_note\n",
    "draft: false\n",
    "---"
   ]
  },
  {
   "cell_type": "markdown",
   "metadata": {},
   "source": [
    "### `_name`\n",
    "A convention for internal details of implementation.\n",
    "A helper method that checks the validity of an attribute's value but isn't considered a part of class's public interface.\n",
    "\n",
    " if you see an attribute name with one leading underscore in someone's class - don't use it! The class developer trusts you with this responsibility."
   ]
  },
  {
   "cell_type": "code",
   "execution_count": 4,
   "metadata": {},
   "outputs": [
    {
     "name": "stdout",
     "output_type": "stream",
     "text": [
      "True\n",
      "False\n"
     ]
    }
   ],
   "source": [
    "# MODIFY to add class attributes for max number of days and months\n",
    "class BetterDate:\n",
    "  \n",
    "    _MAX_DAYS = 30\n",
    "    _MAX_MONTH = 12\n",
    "    \n",
    "    def __init__(self, year, month, day):\n",
    "      self.year, self.month, self.day = year, month, day\n",
    "      \n",
    "    @classmethod\n",
    "    def from_str(cls, datestr):\n",
    "        year, month, day = map(int, datestr.split(\"-\"))\n",
    "        return cls(year, month, day)\n",
    "    \n",
    "    # Add _is_valid() checking day and month values\n",
    "    def _is_valid(self):\n",
    "        if self.day <= BetterDate._MAX_DAYS and self.month <= BetterDate._MAX_MONTH:\n",
    "            return True\n",
    "        else:\n",
    "            return False\n",
    "         \n",
    "bd1 = BetterDate(2020, 4, 30)\n",
    "print(bd1._is_valid())\n",
    "\n",
    "bd2 = BetterDate(2020, 6, 45)\n",
    "print(bd2._is_valid())"
   ]
  },
  {
   "cell_type": "markdown",
   "metadata": {},
   "source": [
    "### `__name`\n",
    "Used for attributes that should not be inherited to aviod name clashes in child classes.\n",
    "A version attribute that stores the current version of the class and shoulnd't be passed to child classes, who will have their own versions."
   ]
  },
  {
   "cell_type": "markdown",
   "metadata": {},
   "source": [
    "### `__name__`\n",
    "Reserved for built-in methods. A method that is run whenever the object is printed, constructor called, etc..."
   ]
  },
  {
   "cell_type": "code",
   "execution_count": null,
   "metadata": {},
   "outputs": [],
   "source": []
  }
 ],
 "metadata": {
  "kernelspec": {
   "display_name": "Python 3",
   "language": "python",
   "name": "python3"
  },
  "language_info": {
   "codemirror_mode": {
    "name": "ipython",
    "version": 3
   },
   "file_extension": ".py",
   "mimetype": "text/x-python",
   "name": "python",
   "nbconvert_exporter": "python",
   "pygments_lexer": "ipython3",
   "version": "3.7.3"
  }
 },
 "nbformat": 4,
 "nbformat_minor": 4
}
