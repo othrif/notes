{
 "cells": [
  {
   "cell_type": "raw",
   "metadata": {},
   "source": [
    "---\n",
    "title: \"Class-level attributes, alternative constructors, and inheritance of class methods\"\n",
    "date: 2020-04-12T14:41:32+02:00\n",
    "author: \"Othmane Rifki\"\n",
    "type: technical_note\n",
    "draft: false\n",
    "---"
   ]
  },
  {
   "cell_type": "markdown",
   "metadata": {},
   "source": [
    "Class level attributes store data that is shared among all the class instances. They are assigned values in the class body and are refered to using the `ClassName` rather than `self` syntax  "
   ]
  },
  {
   "cell_type": "markdown",
   "metadata": {},
   "source": [
    "### Class-level data\n",
    "use `ClassName.ATTR_NAME` to accessthe class attribute value"
   ]
  },
  {
   "cell_type": "code",
   "execution_count": 4,
   "metadata": {},
   "outputs": [
    {
     "name": "stdout",
     "output_type": "stream",
     "text": [
      "|----------\n",
      "----|------\n",
      "---------|-\n",
      "----------|\n"
     ]
    }
   ],
   "source": [
    "class Player:\n",
    "    MAX_POSITION = 10\n",
    "    MAX_SPEED = 3\n",
    "    \n",
    "    def __init__(self):\n",
    "        self.position = 0\n",
    "\n",
    "    # Add a move() method with steps parameter\n",
    "    def move(self, steps):\n",
    "        self.position += steps\n",
    "        if self.position >= Player.MAX_POSITION:\n",
    "            self.position = Player.MAX_POSITION\n",
    "       \n",
    "    # This method provides a rudimentary visualization in the console    \n",
    "    def draw(self):\n",
    "        drawing = \"-\" * self.position + \"|\" +\"-\"*(Player.MAX_POSITION - self.position)\n",
    "        print(drawing)\n",
    "\n",
    "p = Player(); p.draw()\n",
    "p.move(4); p.draw()\n",
    "p.move(5); p.draw()\n",
    "p.move(3); p.draw()"
   ]
  },
  {
   "cell_type": "markdown",
   "metadata": {},
   "source": [
    "\n"
   ]
  },
  {
   "cell_type": "code",
   "execution_count": 19,
   "metadata": {},
   "outputs": [
    {
     "name": "stdout",
     "output_type": "stream",
     "text": [
      "MAX_SPEED of p1 and p2 before assignment:\n",
      "7\n",
      "7\n",
      "MAX_SPEED of p1 and p2 after assignment of class attribute:\n",
      "7\n",
      "7\n",
      "MAX_SPEED of Player:\n",
      "7\n",
      "MAX_SPEED of p1 and p2 after assignment of instance attribute:\n",
      "0\n",
      "7\n",
      "MAX_SPEED of Player:\n",
      "7\n"
     ]
    }
   ],
   "source": [
    "p1, p2 = Player(), Player()\n",
    "\n",
    "print(\"MAX_SPEED of p1 and p2 before assignment:\")\n",
    "print(p1.MAX_SPEED)\n",
    "print(p2.MAX_SPEED)\n",
    "\n",
    "# Modify class attribute\n",
    "Player.MAX_SPEED = 7\n",
    "\n",
    "print(\"MAX_SPEED of p1 and p2 after assignment of class attribute:\")\n",
    "print(p1.MAX_SPEED)\n",
    "print(p2.MAX_SPEED)\n",
    "print(\"MAX_SPEED of Player:\")\n",
    "print(Player.MAX_SPEED)\n",
    "\n",
    "# Modify instance attribute\n",
    "p1.MAX_SPEED = 0\n",
    "\n",
    "print(\"MAX_SPEED of p1 and p2 after assignment of instance attribute:\")\n",
    "print(p1.MAX_SPEED)\n",
    "print(p2.MAX_SPEED)\n",
    "print(\"MAX_SPEED of Player:\")\n",
    "print(Player.MAX_SPEED)\n",
    "\n"
   ]
  },
  {
   "cell_type": "markdown",
   "metadata": {},
   "source": [
    "### Alternative constructors\n",
    "Define class methods as well, using the `@classmethod` decorator and a special first argument cls. The main use of class methods is defining methods that return an instance of the class, but aren't using the same code as `__init__()`."
   ]
  },
  {
   "cell_type": "code",
   "execution_count": 20,
   "metadata": {},
   "outputs": [],
   "source": [
    "# import datetime from datetime\n",
    "from datetime import datetime\n",
    "\n",
    "class BetterDate:\n",
    "    def __init__(self, year, month, day):\n",
    "      self.year, self.month, self.day = year, month, day\n",
    "      \n",
    "    @classmethod\n",
    "    def from_str(cls, datestr):\n",
    "        year, month, day = map(int, datestr.split(\"-\"))\n",
    "        return cls(year, month, day)\n",
    "        \n",
    "    # Define a class method from_datetime accepting a datetime object\n",
    "    @classmethod\n",
    "    def from_datetime(cls, datetime):\n",
    "        return cls(datetime.year, datetime.month, datetime.day)"
   ]
  },
  {
   "cell_type": "code",
   "execution_count": 21,
   "metadata": {},
   "outputs": [
    {
     "name": "stdout",
     "output_type": "stream",
     "text": [
      "2020\n",
      "7\n",
      "3\n"
     ]
    }
   ],
   "source": [
    "bd_def = BetterDate(2020,7,3)   \n",
    "print(bd_def.year)\n",
    "print(bd_def.month)\n",
    "print(bd_def.day)"
   ]
  },
  {
   "cell_type": "code",
   "execution_count": 22,
   "metadata": {},
   "outputs": [
    {
     "name": "stdout",
     "output_type": "stream",
     "text": [
      "2020\n",
      "7\n",
      "3\n"
     ]
    }
   ],
   "source": [
    "bd_str = BetterDate.from_str(\"2020-7-3\")   \n",
    "print(bd_str.year)\n",
    "print(bd_str.month)\n",
    "print(bd_str.day)"
   ]
  },
  {
   "cell_type": "code",
   "execution_count": 23,
   "metadata": {},
   "outputs": [
    {
     "name": "stdout",
     "output_type": "stream",
     "text": [
      "2020\n",
      "7\n",
      "3\n"
     ]
    }
   ],
   "source": [
    "today = datetime.today()     \n",
    "bd = BetterDate.from_datetime(today)   \n",
    "print(bd.year)\n",
    "print(bd.month)\n",
    "print(bd.day)"
   ]
  },
  {
   "cell_type": "markdown",
   "metadata": {},
   "source": [
    "### Inheritance of class methods\n",
    "To customize the parent's class method in a child class, start with a `@classmethod` decorator, and define a method with the same name in the child's class, just like you did with regular methods.\n",
    "\n",
    "The only difference is that to call the parent's class method within the child's method, you can use `ClassName.method_name(args...)` without passing `self` or `cls`."
   ]
  },
  {
   "cell_type": "code",
   "execution_count": 26,
   "metadata": {},
   "outputs": [],
   "source": [
    "# Define an EvenBetterDate class and customize from_str\n",
    "class EvenBetterDate(BetterDate):\n",
    "    @classmethod\n",
    "    def from_str(self, datestr, format='YYYY-MM-DD'):\n",
    "        if format=='YYYY-MM-DD':\n",
    "            return BetterDate.from_str(datestr)\n",
    "        elif format == 'DD-MM-YYYY':\n",
    "            day,month,year = datestr.split('-')\n",
    "            return BetterDate.from_str(('-').join([year, month, day]))"
   ]
  },
  {
   "cell_type": "code",
   "execution_count": 27,
   "metadata": {},
   "outputs": [
    {
     "name": "stdout",
     "output_type": "stream",
     "text": [
      "2019\n",
      "2020\n"
     ]
    }
   ],
   "source": [
    "ebd_str = EvenBetterDate.from_str('02-12-2019', format='DD-MM-YYYY')\n",
    "print(ebd_str.year)\n",
    "ebd_dt = EvenBetterDate.from_datetime(datetime.today())\n",
    "print(ebd_dt.year)"
   ]
  }
 ],
 "metadata": {
  "kernelspec": {
   "display_name": "Python 3",
   "language": "python",
   "name": "python3"
  },
  "language_info": {
   "codemirror_mode": {
    "name": "ipython",
    "version": 3
   },
   "file_extension": ".py",
   "mimetype": "text/x-python",
   "name": "python",
   "nbconvert_exporter": "python",
   "pygments_lexer": "ipython3",
   "version": "3.7.3"
  }
 },
 "nbformat": 4,
 "nbformat_minor": 4
}
