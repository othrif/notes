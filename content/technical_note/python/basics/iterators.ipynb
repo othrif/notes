{
 "cells": [
  {
   "cell_type": "raw",
   "metadata": {},
   "source": [
    "---\n",
    "title: \"Iterables with itr() and next()\"\n",
    "date: 2020-04-12T14:41:32+02:00\n",
    "author: \"Othmane Rifki\"\n",
    "type: technical_note\n",
    "draft: false\n",
    "---"
   ]
  },
  {
   "cell_type": "markdown",
   "metadata": {},
   "source": [
    "### Iterarble and iterator\n",
    "an iterable is an object that can return an iterator, while an iterator is an object that keeps state and produces the next value when you call `next()` on it"
   ]
  },
  {
   "cell_type": "code",
   "execution_count": 1,
   "metadata": {},
   "outputs": [
    {
     "name": "stdout",
     "output_type": "stream",
     "text": [
      "for-loop:jay garrick\n",
      "for-loop:barry allen\n",
      "for-loop:wally west\n",
      "for-loop:bart allen\n",
      "next-iter:jay garrick\n",
      "next-iter:barry allen\n",
      "next-iter:wally west\n",
      "next-iter:bart allen\n"
     ]
    }
   ],
   "source": [
    "flash = ['jay garrick', 'barry allen', 'wally west', 'bart allen']\n",
    "\n",
    "# Print each list item in flash using a for loop\n",
    "for item in flash:\n",
    "    print('for-loop:'+item)\n",
    "\n",
    "\n",
    "# Create an iterator for flash: superhero\n",
    "superhero = iter(flash)\n",
    "\n",
    "# Print each item from the iterator\n",
    "print('next-iter:'+next(superhero))\n",
    "print('next-iter:'+next(superhero))\n",
    "print('next-iter:'+next(superhero))\n",
    "print('next-iter:'+next(superhero))"
   ]
  },
  {
   "cell_type": "markdown",
   "metadata": {},
   "source": [
    "### Iterator with `range()`"
   ]
  },
  {
   "cell_type": "code",
   "execution_count": 7,
   "metadata": {},
   "outputs": [
    {
     "name": "stdout",
     "output_type": "stream",
     "text": [
      "next-iter:0\n",
      "next-iter:1\n",
      "next-iter:2\n",
      "for-loop:0\n",
      "for-loop:1\n",
      "for-loop:2\n",
      "googol:0\n",
      "googol:1\n",
      "googol:2\n",
      "googol:3\n",
      "googol:4\n"
     ]
    }
   ],
   "source": [
    "small_value = iter(range(3))\n",
    "\n",
    "print('next-iter:'+str(next(small_value)))\n",
    "print('next-iter:'+str(next(small_value)))\n",
    "print('next-iter:'+str(next(small_value)))\n",
    "\n",
    "for i in range(3):\n",
    "    print('for-loop:'+str(i))\n",
    "\n",
    "\n",
    "# Create an iterator for range(10 ** 100): googol\n",
    "googol = iter(range(10 ** 100))\n",
    "\n",
    "# Print the first 5 values from googol\n",
    "print('googol:'+str(next(googol)))\n",
    "print('googol:'+str(next(googol)))\n",
    "print('googol:'+str(next(googol)))\n",
    "print('googol:'+str(next(googol)))\n",
    "print('googol:'+str(next(googol)))\n"
   ]
  },
  {
   "cell_type": "markdown",
   "metadata": {},
   "source": [
    "###  Functions that take iterators and iterables as arguments"
   ]
  },
  {
   "cell_type": "code",
   "execution_count": 8,
   "metadata": {},
   "outputs": [
    {
     "name": "stdout",
     "output_type": "stream",
     "text": [
      "range(10, 21)\n",
      "[10, 11, 12, 13, 14, 15, 16, 17, 18, 19, 20]\n",
      "165\n"
     ]
    }
   ],
   "source": [
    "values = range(10,21)\n",
    "print(values)\n",
    "\n",
    "\n",
    "values_list = list(values)\n",
    "print(values_list)\n",
    "\n",
    "\n",
    "values_sum = sum(values)\n",
    "print(values_sum)\n"
   ]
  }
 ],
 "metadata": {
  "kernelspec": {
   "display_name": "Python 3",
   "language": "python",
   "name": "python3"
  },
  "language_info": {
   "codemirror_mode": {
    "name": "ipython",
    "version": 3
   },
   "file_extension": ".py",
   "mimetype": "text/x-python",
   "name": "python",
   "nbconvert_exporter": "python",
   "pygments_lexer": "ipython3",
   "version": "3.7.3"
  }
 },
 "nbformat": 4,
 "nbformat_minor": 4
}
