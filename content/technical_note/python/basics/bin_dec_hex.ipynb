{
 "cells": [
  {
   "cell_type": "raw",
   "metadata": {},
   "source": [
    "---\n",
    "title: \"Binary, Octal, and Hexadecimal Integers\"\n",
    "date: 2020-04-12T14:41:32+02:00\n",
    "author: \"Othmane Rifki\"\n",
    "type: technical_note\n",
    "draft: false\n",
    "---"
   ]
  },
  {
   "cell_type": "markdown",
   "metadata": {},
   "source": [
    "# Summary table"
   ]
  },
  {
   "cell_type": "code",
   "execution_count": 42,
   "metadata": {},
   "outputs": [
    {
     "name": "stdout",
     "output_type": "stream",
     "text": [
      "Decimal    Binary          Hexadecimal\n",
      "         0 0b0             0x0       \n",
      "         1 0b1             0x1       \n",
      "         2 0b10            0x2       \n",
      "         3 0b11            0x3       \n",
      "         4 0b100           0x4       \n",
      "         5 0b101           0x5       \n",
      "         6 0b110           0x6       \n",
      "         7 0b111           0x7       \n",
      "         8 0b1000          0x8       \n",
      "         9 0b1001          0x9       \n",
      "        10 0b1010          0xa       \n",
      "        11 0b1011          0xb       \n",
      "        12 0b1100          0xc       \n",
      "        13 0b1101          0xd       \n",
      "        14 0b1110          0xe       \n",
      "        15 0b1111          0xf       \n",
      "        16 0b10000         0x10      \n",
      "        17 0b10001         0x11      \n",
      "        18 0b10010         0x12      \n",
      "        19 0b10011         0x13      \n",
      "        20 0b10100         0x14      \n",
      "        21 0b10101         0x15      \n",
      "        22 0b10110         0x16      \n",
      "        23 0b10111         0x17      \n",
      "        24 0b11000         0x18      \n",
      "        25 0b11001         0x19      \n",
      "        26 0b11010         0x1a      \n",
      "        27 0b11011         0x1b      \n",
      "        28 0b11100         0x1c      \n",
      "        29 0b11101         0x1d      \n",
      "        30 0b11110         0x1e      \n",
      "        31 0b11111         0x1f      \n",
      "        32 0b100000        0x20      \n",
      "        64 0b1000000       0x40      \n",
      "       128 0b10000000      0x80      \n",
      "       256 0b100000000     0x100     \n",
      "       512 0b1000000000    0x200     \n"
     ]
    }
   ],
   "source": [
    "print(f'{\"Decimal\":<10} {\"Binary\":<15} {\"Hexadecimal\":<10}')\n",
    "for i in range(32):\n",
    "    i_bin = bin(i)\n",
    "    i_oct = oct(i)\n",
    "    i_hex = hex(i)\n",
    "    print(f'{i:10} {i_bin:15} {i_hex:10}')\n",
    "for i in range(5,10):\n",
    "    i = 2**i\n",
    "    i_bin = bin(i)\n",
    "    i_oct = oct(i)\n",
    "    i_hex = hex(i)\n",
    "    print(f'{i:10} {i_bin:15} {i_hex:10}')"
   ]
  },
  {
   "cell_type": "markdown",
   "metadata": {},
   "source": [
    "### Convert to Binary "
   ]
  },
  {
   "cell_type": "code",
   "execution_count": 2,
   "metadata": {},
   "outputs": [
    {
     "name": "stdout",
     "output_type": "stream",
     "text": [
      "0b1001111\n",
      "79\n"
     ]
    }
   ],
   "source": [
    "a = 79\n",
    "# Base 2(binary)\n",
    "bin_a = bin(a)\n",
    "print(bin_a)\n",
    "print(int(bin_a, 2)) #Base 2(binary)"
   ]
  },
  {
   "cell_type": "markdown",
   "metadata": {},
   "source": [
    "### Convert to Octal "
   ]
  },
  {
   "cell_type": "code",
   "execution_count": 4,
   "metadata": {},
   "outputs": [
    {
     "name": "stdout",
     "output_type": "stream",
     "text": [
      "0o117\n",
      "79\n"
     ]
    }
   ],
   "source": [
    "a = 79\n",
    "# Base 8(octal)\n",
    "oct_a = oct(a)\n",
    "print(oct_a)\n",
    "print(int(oct_a, 8))"
   ]
  },
  {
   "cell_type": "markdown",
   "metadata": {},
   "source": [
    "### Convert to Hexadecimal"
   ]
  },
  {
   "cell_type": "code",
   "execution_count": 7,
   "metadata": {},
   "outputs": [
    {
     "name": "stdout",
     "output_type": "stream",
     "text": [
      "0x4f\n",
      "79\n"
     ]
    }
   ],
   "source": [
    "a = 79\n",
    "# Base 16(hexadecimal)\n",
    "hex_a = hex(a)\n",
    "print(hex_a)\n",
    "print(int(hex_a, 16))"
   ]
  },
  {
   "cell_type": "code",
   "execution_count": null,
   "metadata": {},
   "outputs": [],
   "source": []
  }
 ],
 "metadata": {
  "kernelspec": {
   "display_name": "Python 3",
   "language": "python",
   "name": "python3"
  },
  "language_info": {
   "codemirror_mode": {
    "name": "ipython",
    "version": 3
   },
   "file_extension": ".py",
   "mimetype": "text/x-python",
   "name": "python",
   "nbconvert_exporter": "python",
   "pygments_lexer": "ipython3",
   "version": "3.7.3"
  }
 },
 "nbformat": 4,
 "nbformat_minor": 4
}
