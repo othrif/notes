{
 "cells": [
  {
   "cell_type": "raw",
   "metadata": {},
   "source": [
    "---\n",
    "title: \"Merging DataFrames with merge() and join()\"\n",
    "date: 2020-04-12T14:41:32+02:00\n",
    "author: \"Othmane Rifki\"\n",
    "type: technical_note\n",
    "draft: false\n",
    "---"
   ]
  },
  {
   "cell_type": "markdown",
   "metadata": {},
   "source": [
    "### Merging with specific columns"
   ]
  },
  {
   "cell_type": "code",
   "execution_count": 13,
   "metadata": {},
   "outputs": [],
   "source": [
    "import pandas as pd\n",
    "\n",
    "gold = pd.read_csv('SummerOlympic/Gold.csv')\n",
    "bronze = pd.read_csv('SummerOlympic/Bronze.csv')"
   ]
  },
  {
   "cell_type": "code",
   "execution_count": 16,
   "metadata": {},
   "outputs": [
    {
     "data": {
      "text/html": [
       "<div>\n",
       "<style scoped>\n",
       "    .dataframe tbody tr th:only-of-type {\n",
       "        vertical-align: middle;\n",
       "    }\n",
       "\n",
       "    .dataframe tbody tr th {\n",
       "        vertical-align: top;\n",
       "    }\n",
       "\n",
       "    .dataframe thead th {\n",
       "        text-align: right;\n",
       "    }\n",
       "</style>\n",
       "<table border=\"1\" class=\"dataframe\">\n",
       "  <thead>\n",
       "    <tr style=\"text-align: right;\">\n",
       "      <th></th>\n",
       "      <th>NOC</th>\n",
       "      <th>Country</th>\n",
       "      <th>Total</th>\n",
       "    </tr>\n",
       "  </thead>\n",
       "  <tbody>\n",
       "    <tr>\n",
       "      <th>0</th>\n",
       "      <td>USA</td>\n",
       "      <td>United States</td>\n",
       "      <td>2088.0</td>\n",
       "    </tr>\n",
       "    <tr>\n",
       "      <th>1</th>\n",
       "      <td>URS</td>\n",
       "      <td>Soviet Union</td>\n",
       "      <td>838.0</td>\n",
       "    </tr>\n",
       "    <tr>\n",
       "      <th>2</th>\n",
       "      <td>GBR</td>\n",
       "      <td>United Kingdom</td>\n",
       "      <td>498.0</td>\n",
       "    </tr>\n",
       "    <tr>\n",
       "      <th>3</th>\n",
       "      <td>FRA</td>\n",
       "      <td>France</td>\n",
       "      <td>378.0</td>\n",
       "    </tr>\n",
       "    <tr>\n",
       "      <th>4</th>\n",
       "      <td>GER</td>\n",
       "      <td>Germany</td>\n",
       "      <td>407.0</td>\n",
       "    </tr>\n",
       "  </tbody>\n",
       "</table>\n",
       "</div>"
      ],
      "text/plain": [
       "   NOC         Country   Total\n",
       "0  USA   United States  2088.0\n",
       "1  URS    Soviet Union   838.0\n",
       "2  GBR  United Kingdom   498.0\n",
       "3  FRA          France   378.0\n",
       "4  GER         Germany   407.0"
      ]
     },
     "execution_count": 16,
     "metadata": {},
     "output_type": "execute_result"
    }
   ],
   "source": [
    "gold.head()"
   ]
  },
  {
   "cell_type": "code",
   "execution_count": 17,
   "metadata": {},
   "outputs": [
    {
     "data": {
      "text/html": [
       "<div>\n",
       "<style scoped>\n",
       "    .dataframe tbody tr th:only-of-type {\n",
       "        vertical-align: middle;\n",
       "    }\n",
       "\n",
       "    .dataframe tbody tr th {\n",
       "        vertical-align: top;\n",
       "    }\n",
       "\n",
       "    .dataframe thead th {\n",
       "        text-align: right;\n",
       "    }\n",
       "</style>\n",
       "<table border=\"1\" class=\"dataframe\">\n",
       "  <thead>\n",
       "    <tr style=\"text-align: right;\">\n",
       "      <th></th>\n",
       "      <th>NOC</th>\n",
       "      <th>Country</th>\n",
       "      <th>Total</th>\n",
       "    </tr>\n",
       "  </thead>\n",
       "  <tbody>\n",
       "    <tr>\n",
       "      <th>0</th>\n",
       "      <td>USA</td>\n",
       "      <td>United States</td>\n",
       "      <td>1052.0</td>\n",
       "    </tr>\n",
       "    <tr>\n",
       "      <th>1</th>\n",
       "      <td>URS</td>\n",
       "      <td>Soviet Union</td>\n",
       "      <td>584.0</td>\n",
       "    </tr>\n",
       "    <tr>\n",
       "      <th>2</th>\n",
       "      <td>GBR</td>\n",
       "      <td>United Kingdom</td>\n",
       "      <td>505.0</td>\n",
       "    </tr>\n",
       "    <tr>\n",
       "      <th>3</th>\n",
       "      <td>FRA</td>\n",
       "      <td>France</td>\n",
       "      <td>475.0</td>\n",
       "    </tr>\n",
       "    <tr>\n",
       "      <th>4</th>\n",
       "      <td>GER</td>\n",
       "      <td>Germany</td>\n",
       "      <td>454.0</td>\n",
       "    </tr>\n",
       "  </tbody>\n",
       "</table>\n",
       "</div>"
      ],
      "text/plain": [
       "   NOC         Country   Total\n",
       "0  USA   United States  1052.0\n",
       "1  URS    Soviet Union   584.0\n",
       "2  GBR  United Kingdom   505.0\n",
       "3  FRA          France   475.0\n",
       "4  GER         Germany   454.0"
      ]
     },
     "execution_count": 17,
     "metadata": {},
     "output_type": "execute_result"
    }
   ],
   "source": [
    "bronze.head()"
   ]
  },
  {
   "cell_type": "code",
   "execution_count": 12,
   "metadata": {},
   "outputs": [
    {
     "name": "stdout",
     "output_type": "stream",
     "text": [
      "     NOC               Country  Total_gold  Total_bronze\n",
      "0    USA         United States      2088.0        1052.0\n",
      "1    URS          Soviet Union       838.0         584.0\n",
      "2    GBR        United Kingdom       498.0         505.0\n",
      "3    FRA                France       378.0         475.0\n",
      "4    GER               Germany       407.0         454.0\n",
      "..   ...                   ...         ...           ...\n",
      "133  SEN               Senegal         NaN           NaN\n",
      "134  SUD                 Sudan         NaN           NaN\n",
      "135  TGA                 Tonga         NaN           NaN\n",
      "136  BDI               Burundi         1.0           NaN\n",
      "137  UAE  United Arab Emirates         1.0           NaN\n",
      "\n",
      "[138 rows x 4 columns]\n"
     ]
    }
   ],
   "source": [
    "combine = pd.merge(gold, bronze, on=['NOC','Country'], suffixes=['_gold','_bronze'])\n",
    "print(combine)"
   ]
  },
  {
   "cell_type": "markdown",
   "metadata": {},
   "source": [
    "### Merging on columns with non-matching labelsSpecifying columns to merge"
   ]
  },
  {
   "cell_type": "code",
   "execution_count": 24,
   "metadata": {},
   "outputs": [],
   "source": [
    "revenue = pd.read_csv('Sales/revenue.csv', delim_whitespace=True)\n",
    "managers = pd.read_csv('Sales/managers.csv', delim_whitespace=True)"
   ]
  },
  {
   "cell_type": "code",
   "execution_count": 23,
   "metadata": {},
   "outputs": [
    {
     "data": {
      "text/html": [
       "<div>\n",
       "<style scoped>\n",
       "    .dataframe tbody tr th:only-of-type {\n",
       "        vertical-align: middle;\n",
       "    }\n",
       "\n",
       "    .dataframe tbody tr th {\n",
       "        vertical-align: top;\n",
       "    }\n",
       "\n",
       "    .dataframe thead th {\n",
       "        text-align: right;\n",
       "    }\n",
       "</style>\n",
       "<table border=\"1\" class=\"dataframe\">\n",
       "  <thead>\n",
       "    <tr style=\"text-align: right;\">\n",
       "      <th></th>\n",
       "      <th>city</th>\n",
       "      <th>branch_id</th>\n",
       "      <th>state</th>\n",
       "      <th>revenue</th>\n",
       "    </tr>\n",
       "  </thead>\n",
       "  <tbody>\n",
       "    <tr>\n",
       "      <th>0</th>\n",
       "      <td>Austin</td>\n",
       "      <td>10</td>\n",
       "      <td>TX</td>\n",
       "      <td>100</td>\n",
       "    </tr>\n",
       "    <tr>\n",
       "      <th>1</th>\n",
       "      <td>Denver</td>\n",
       "      <td>20</td>\n",
       "      <td>CO</td>\n",
       "      <td>83</td>\n",
       "    </tr>\n",
       "    <tr>\n",
       "      <th>2</th>\n",
       "      <td>Springfield</td>\n",
       "      <td>30</td>\n",
       "      <td>IL</td>\n",
       "      <td>4</td>\n",
       "    </tr>\n",
       "    <tr>\n",
       "      <th>3</th>\n",
       "      <td>Mendocino</td>\n",
       "      <td>47</td>\n",
       "      <td>CA</td>\n",
       "      <td>200</td>\n",
       "    </tr>\n",
       "  </tbody>\n",
       "</table>\n",
       "</div>"
      ],
      "text/plain": [
       "          city  branch_id state  revenue\n",
       "0       Austin         10    TX      100\n",
       "1       Denver         20    CO       83\n",
       "2  Springfield         30    IL        4\n",
       "3    Mendocino         47    CA      200"
      ]
     },
     "execution_count": 23,
     "metadata": {},
     "output_type": "execute_result"
    }
   ],
   "source": [
    "revenue"
   ]
  },
  {
   "cell_type": "code",
   "execution_count": 25,
   "metadata": {},
   "outputs": [
    {
     "data": {
      "text/html": [
       "<div>\n",
       "<style scoped>\n",
       "    .dataframe tbody tr th:only-of-type {\n",
       "        vertical-align: middle;\n",
       "    }\n",
       "\n",
       "    .dataframe tbody tr th {\n",
       "        vertical-align: top;\n",
       "    }\n",
       "\n",
       "    .dataframe thead th {\n",
       "        text-align: right;\n",
       "    }\n",
       "</style>\n",
       "<table border=\"1\" class=\"dataframe\">\n",
       "  <thead>\n",
       "    <tr style=\"text-align: right;\">\n",
       "      <th></th>\n",
       "      <th>branch</th>\n",
       "      <th>branch_id</th>\n",
       "      <th>state</th>\n",
       "      <th>manager</th>\n",
       "    </tr>\n",
       "  </thead>\n",
       "  <tbody>\n",
       "    <tr>\n",
       "      <th>0</th>\n",
       "      <td>Austin</td>\n",
       "      <td>10</td>\n",
       "      <td>TX</td>\n",
       "      <td>Charlers</td>\n",
       "    </tr>\n",
       "    <tr>\n",
       "      <th>1</th>\n",
       "      <td>Denver</td>\n",
       "      <td>20</td>\n",
       "      <td>CO</td>\n",
       "      <td>Joel</td>\n",
       "    </tr>\n",
       "    <tr>\n",
       "      <th>2</th>\n",
       "      <td>Mendocino</td>\n",
       "      <td>47</td>\n",
       "      <td>CA</td>\n",
       "      <td>Brett</td>\n",
       "    </tr>\n",
       "    <tr>\n",
       "      <th>3</th>\n",
       "      <td>Springfield</td>\n",
       "      <td>31</td>\n",
       "      <td>MO</td>\n",
       "      <td>Sally</td>\n",
       "    </tr>\n",
       "  </tbody>\n",
       "</table>\n",
       "</div>"
      ],
      "text/plain": [
       "        branch  branch_id state   manager\n",
       "0       Austin         10    TX  Charlers\n",
       "1       Denver         20    CO      Joel\n",
       "2    Mendocino         47    CA     Brett\n",
       "3  Springfield         31    MO     Sally"
      ]
     },
     "execution_count": 25,
     "metadata": {},
     "output_type": "execute_result"
    }
   ],
   "source": [
    "managers"
   ]
  },
  {
   "cell_type": "code",
   "execution_count": 26,
   "metadata": {},
   "outputs": [],
   "source": [
    "combine = pd.merge(revenue, managers, left_on='city', right_on='branch')"
   ]
  },
  {
   "cell_type": "code",
   "execution_count": 27,
   "metadata": {},
   "outputs": [
    {
     "data": {
      "text/html": [
       "<div>\n",
       "<style scoped>\n",
       "    .dataframe tbody tr th:only-of-type {\n",
       "        vertical-align: middle;\n",
       "    }\n",
       "\n",
       "    .dataframe tbody tr th {\n",
       "        vertical-align: top;\n",
       "    }\n",
       "\n",
       "    .dataframe thead th {\n",
       "        text-align: right;\n",
       "    }\n",
       "</style>\n",
       "<table border=\"1\" class=\"dataframe\">\n",
       "  <thead>\n",
       "    <tr style=\"text-align: right;\">\n",
       "      <th></th>\n",
       "      <th>city</th>\n",
       "      <th>branch_id_x</th>\n",
       "      <th>state_x</th>\n",
       "      <th>revenue</th>\n",
       "      <th>branch</th>\n",
       "      <th>branch_id_y</th>\n",
       "      <th>state_y</th>\n",
       "      <th>manager</th>\n",
       "    </tr>\n",
       "  </thead>\n",
       "  <tbody>\n",
       "    <tr>\n",
       "      <th>0</th>\n",
       "      <td>Austin</td>\n",
       "      <td>10</td>\n",
       "      <td>TX</td>\n",
       "      <td>100</td>\n",
       "      <td>Austin</td>\n",
       "      <td>10</td>\n",
       "      <td>TX</td>\n",
       "      <td>Charlers</td>\n",
       "    </tr>\n",
       "    <tr>\n",
       "      <th>1</th>\n",
       "      <td>Denver</td>\n",
       "      <td>20</td>\n",
       "      <td>CO</td>\n",
       "      <td>83</td>\n",
       "      <td>Denver</td>\n",
       "      <td>20</td>\n",
       "      <td>CO</td>\n",
       "      <td>Joel</td>\n",
       "    </tr>\n",
       "    <tr>\n",
       "      <th>2</th>\n",
       "      <td>Springfield</td>\n",
       "      <td>30</td>\n",
       "      <td>IL</td>\n",
       "      <td>4</td>\n",
       "      <td>Springfield</td>\n",
       "      <td>31</td>\n",
       "      <td>MO</td>\n",
       "      <td>Sally</td>\n",
       "    </tr>\n",
       "    <tr>\n",
       "      <th>3</th>\n",
       "      <td>Mendocino</td>\n",
       "      <td>47</td>\n",
       "      <td>CA</td>\n",
       "      <td>200</td>\n",
       "      <td>Mendocino</td>\n",
       "      <td>47</td>\n",
       "      <td>CA</td>\n",
       "      <td>Brett</td>\n",
       "    </tr>\n",
       "  </tbody>\n",
       "</table>\n",
       "</div>"
      ],
      "text/plain": [
       "          city  branch_id_x state_x  revenue       branch  branch_id_y  \\\n",
       "0       Austin           10      TX      100       Austin           10   \n",
       "1       Denver           20      CO       83       Denver           20   \n",
       "2  Springfield           30      IL        4  Springfield           31   \n",
       "3    Mendocino           47      CA      200    Mendocino           47   \n",
       "\n",
       "  state_y   manager  \n",
       "0      TX  Charlers  \n",
       "1      CO      Joel  \n",
       "2      MO     Sally  \n",
       "3      CA     Brett  "
      ]
     },
     "execution_count": 27,
     "metadata": {},
     "output_type": "execute_result"
    }
   ],
   "source": [
    "combine"
   ]
  },
  {
   "cell_type": "markdown",
   "metadata": {},
   "source": [
    "### Merging with inner/outer join \n",
    "inner join is the default behavior."
   ]
  },
  {
   "cell_type": "code",
   "execution_count": 49,
   "metadata": {},
   "outputs": [],
   "source": [
    "gold = gold.sort_values('Total',ascending=False).iloc[:5]\n",
    "bronze = bronze.sort_values('Total',ascending=False).iloc[:5]"
   ]
  },
  {
   "cell_type": "code",
   "execution_count": 50,
   "metadata": {},
   "outputs": [
    {
     "name": "stdout",
     "output_type": "stream",
     "text": [
      "   NOC         Country  Total_gold  Total_bronze\n",
      "0  USA   United States      2088.0        1052.0\n",
      "1  URS    Soviet Union       838.0         584.0\n",
      "2  GBR  United Kingdom       498.0         505.0\n",
      "3  GER         Germany       407.0         454.0\n"
     ]
    }
   ],
   "source": [
    "combine = pd.merge(gold, bronze, on=['NOC','Country'], suffixes=['_gold','_bronze'], how='inner')\n",
    "print(combine.head())"
   ]
  },
  {
   "cell_type": "code",
   "execution_count": 51,
   "metadata": {},
   "outputs": [
    {
     "name": "stdout",
     "output_type": "stream",
     "text": [
      "   NOC         Country  Total_gold  Total_bronze\n",
      "0  USA   United States      2088.0        1052.0\n",
      "1  URS    Soviet Union       838.0         584.0\n",
      "2  GBR  United Kingdom       498.0         505.0\n",
      "3  ITA           Italy       460.0           NaN\n",
      "4  GER         Germany       407.0         454.0\n"
     ]
    }
   ],
   "source": [
    "combine = pd.merge(gold, bronze, on=['NOC','Country'], suffixes=['_gold','_bronze'], how='outer')\n",
    "print(combine.head())"
   ]
  },
  {
   "cell_type": "markdown",
   "metadata": {},
   "source": [
    "### Merging with left/right join (Default)\n",
    "Notice that Italy was picked up from `gold` but since it does not appear in `bronze`, it gets a Not a Number (NaN) value."
   ]
  },
  {
   "cell_type": "code",
   "execution_count": 56,
   "metadata": {},
   "outputs": [
    {
     "name": "stdout",
     "output_type": "stream",
     "text": [
      "   NOC         Country  Total_gold  Total_bronze\n",
      "0  USA   United States      2088.0        1052.0\n",
      "1  URS    Soviet Union       838.0         584.0\n",
      "2  GBR  United Kingdom       498.0         505.0\n",
      "3  ITA           Italy       460.0           NaN\n",
      "4  GER         Germany       407.0         454.0\n"
     ]
    }
   ],
   "source": [
    "combine = pd.merge(gold, bronze, on=['NOC','Country'], suffixes=['_gold','_bronze'], how='left')\n",
    "print(combine.head())"
   ]
  },
  {
   "cell_type": "code",
   "execution_count": 57,
   "metadata": {},
   "outputs": [
    {
     "name": "stdout",
     "output_type": "stream",
     "text": [
      "   NOC         Country  Total_gold  Total_bronze\n",
      "0  USA   United States      2088.0        1052.0\n",
      "1  URS    Soviet Union       838.0         584.0\n",
      "2  GBR  United Kingdom       498.0         505.0\n",
      "3  GER         Germany       407.0         454.0\n",
      "4  FRA          France         NaN         475.0\n"
     ]
    }
   ],
   "source": [
    "combine = pd.merge(gold, bronze, on=['NOC','Country'], suffixes=['_gold','_bronze'], how='right')\n",
    "print(combine.head())"
   ]
  },
  {
   "cell_type": "markdown",
   "metadata": {},
   "source": [
    "### Using .join()"
   ]
  },
  {
   "cell_type": "code",
   "execution_count": 63,
   "metadata": {},
   "outputs": [
    {
     "data": {
      "text/html": [
       "<div>\n",
       "<style scoped>\n",
       "    .dataframe tbody tr th:only-of-type {\n",
       "        vertical-align: middle;\n",
       "    }\n",
       "\n",
       "    .dataframe tbody tr th {\n",
       "        vertical-align: top;\n",
       "    }\n",
       "\n",
       "    .dataframe thead th {\n",
       "        text-align: right;\n",
       "    }\n",
       "</style>\n",
       "<table border=\"1\" class=\"dataframe\">\n",
       "  <thead>\n",
       "    <tr style=\"text-align: right;\">\n",
       "      <th></th>\n",
       "      <th>NOC</th>\n",
       "      <th>Country</th>\n",
       "      <th>Total</th>\n",
       "    </tr>\n",
       "  </thead>\n",
       "  <tbody>\n",
       "    <tr>\n",
       "      <th>0</th>\n",
       "      <td>USA</td>\n",
       "      <td>United States</td>\n",
       "      <td>2088.0</td>\n",
       "    </tr>\n",
       "    <tr>\n",
       "      <th>1</th>\n",
       "      <td>URS</td>\n",
       "      <td>Soviet Union</td>\n",
       "      <td>838.0</td>\n",
       "    </tr>\n",
       "    <tr>\n",
       "      <th>2</th>\n",
       "      <td>GBR</td>\n",
       "      <td>United Kingdom</td>\n",
       "      <td>498.0</td>\n",
       "    </tr>\n",
       "    <tr>\n",
       "      <th>6</th>\n",
       "      <td>ITA</td>\n",
       "      <td>Italy</td>\n",
       "      <td>460.0</td>\n",
       "    </tr>\n",
       "    <tr>\n",
       "      <th>4</th>\n",
       "      <td>GER</td>\n",
       "      <td>Germany</td>\n",
       "      <td>407.0</td>\n",
       "    </tr>\n",
       "  </tbody>\n",
       "</table>\n",
       "</div>"
      ],
      "text/plain": [
       "   NOC         Country   Total\n",
       "0  USA   United States  2088.0\n",
       "1  URS    Soviet Union   838.0\n",
       "2  GBR  United Kingdom   498.0\n",
       "6  ITA           Italy   460.0\n",
       "4  GER         Germany   407.0"
      ]
     },
     "execution_count": 63,
     "metadata": {},
     "output_type": "execute_result"
    }
   ],
   "source": [
    "gold"
   ]
  },
  {
   "cell_type": "code",
   "execution_count": 64,
   "metadata": {},
   "outputs": [
    {
     "data": {
      "text/html": [
       "<div>\n",
       "<style scoped>\n",
       "    .dataframe tbody tr th:only-of-type {\n",
       "        vertical-align: middle;\n",
       "    }\n",
       "\n",
       "    .dataframe tbody tr th {\n",
       "        vertical-align: top;\n",
       "    }\n",
       "\n",
       "    .dataframe thead th {\n",
       "        text-align: right;\n",
       "    }\n",
       "</style>\n",
       "<table border=\"1\" class=\"dataframe\">\n",
       "  <thead>\n",
       "    <tr style=\"text-align: right;\">\n",
       "      <th></th>\n",
       "      <th>NOC</th>\n",
       "      <th>Country</th>\n",
       "      <th>Total</th>\n",
       "    </tr>\n",
       "  </thead>\n",
       "  <tbody>\n",
       "    <tr>\n",
       "      <th>0</th>\n",
       "      <td>USA</td>\n",
       "      <td>United States</td>\n",
       "      <td>1052.0</td>\n",
       "    </tr>\n",
       "    <tr>\n",
       "      <th>1</th>\n",
       "      <td>URS</td>\n",
       "      <td>Soviet Union</td>\n",
       "      <td>584.0</td>\n",
       "    </tr>\n",
       "    <tr>\n",
       "      <th>2</th>\n",
       "      <td>GBR</td>\n",
       "      <td>United Kingdom</td>\n",
       "      <td>505.0</td>\n",
       "    </tr>\n",
       "    <tr>\n",
       "      <th>3</th>\n",
       "      <td>FRA</td>\n",
       "      <td>France</td>\n",
       "      <td>475.0</td>\n",
       "    </tr>\n",
       "    <tr>\n",
       "      <th>4</th>\n",
       "      <td>GER</td>\n",
       "      <td>Germany</td>\n",
       "      <td>454.0</td>\n",
       "    </tr>\n",
       "  </tbody>\n",
       "</table>\n",
       "</div>"
      ],
      "text/plain": [
       "   NOC         Country   Total\n",
       "0  USA   United States  1052.0\n",
       "1  URS    Soviet Union   584.0\n",
       "2  GBR  United Kingdom   505.0\n",
       "3  FRA          France   475.0\n",
       "4  GER         Germany   454.0"
      ]
     },
     "execution_count": 64,
     "metadata": {},
     "output_type": "execute_result"
    }
   ],
   "source": [
    "bronze"
   ]
  },
  {
   "cell_type": "code",
   "execution_count": 73,
   "metadata": {},
   "outputs": [
    {
     "data": {
      "text/html": [
       "<div>\n",
       "<style scoped>\n",
       "    .dataframe tbody tr th:only-of-type {\n",
       "        vertical-align: middle;\n",
       "    }\n",
       "\n",
       "    .dataframe tbody tr th {\n",
       "        vertical-align: top;\n",
       "    }\n",
       "\n",
       "    .dataframe thead th {\n",
       "        text-align: right;\n",
       "    }\n",
       "</style>\n",
       "<table border=\"1\" class=\"dataframe\">\n",
       "  <thead>\n",
       "    <tr style=\"text-align: right;\">\n",
       "      <th></th>\n",
       "      <th>NOC_gold</th>\n",
       "      <th>Country_gold</th>\n",
       "      <th>Total_gold</th>\n",
       "      <th>NOC_bronze</th>\n",
       "      <th>Country_bronze</th>\n",
       "      <th>Total_bronze</th>\n",
       "    </tr>\n",
       "  </thead>\n",
       "  <tbody>\n",
       "    <tr>\n",
       "      <th>0</th>\n",
       "      <td>USA</td>\n",
       "      <td>United States</td>\n",
       "      <td>2088.0</td>\n",
       "      <td>USA</td>\n",
       "      <td>United States</td>\n",
       "      <td>1052.0</td>\n",
       "    </tr>\n",
       "    <tr>\n",
       "      <th>1</th>\n",
       "      <td>URS</td>\n",
       "      <td>Soviet Union</td>\n",
       "      <td>838.0</td>\n",
       "      <td>URS</td>\n",
       "      <td>Soviet Union</td>\n",
       "      <td>584.0</td>\n",
       "    </tr>\n",
       "    <tr>\n",
       "      <th>2</th>\n",
       "      <td>GBR</td>\n",
       "      <td>United Kingdom</td>\n",
       "      <td>498.0</td>\n",
       "      <td>GBR</td>\n",
       "      <td>United Kingdom</td>\n",
       "      <td>505.0</td>\n",
       "    </tr>\n",
       "    <tr>\n",
       "      <th>6</th>\n",
       "      <td>ITA</td>\n",
       "      <td>Italy</td>\n",
       "      <td>460.0</td>\n",
       "      <td>NaN</td>\n",
       "      <td>NaN</td>\n",
       "      <td>NaN</td>\n",
       "    </tr>\n",
       "    <tr>\n",
       "      <th>4</th>\n",
       "      <td>GER</td>\n",
       "      <td>Germany</td>\n",
       "      <td>407.0</td>\n",
       "      <td>GER</td>\n",
       "      <td>Germany</td>\n",
       "      <td>454.0</td>\n",
       "    </tr>\n",
       "  </tbody>\n",
       "</table>\n",
       "</div>"
      ],
      "text/plain": [
       "  NOC_gold    Country_gold  Total_gold NOC_bronze  Country_bronze  \\\n",
       "0      USA   United States      2088.0        USA   United States   \n",
       "1      URS    Soviet Union       838.0        URS    Soviet Union   \n",
       "2      GBR  United Kingdom       498.0        GBR  United Kingdom   \n",
       "6      ITA           Italy       460.0        NaN             NaN   \n",
       "4      GER         Germany       407.0        GER         Germany   \n",
       "\n",
       "   Total_bronze  \n",
       "0        1052.0  \n",
       "1         584.0  \n",
       "2         505.0  \n",
       "6           NaN  \n",
       "4         454.0  "
      ]
     },
     "execution_count": 73,
     "metadata": {},
     "output_type": "execute_result"
    }
   ],
   "source": [
    "gold.join(bronze, lsuffix='_gold', rsuffix='_bronze')"
   ]
  },
  {
   "cell_type": "markdown",
   "metadata": {},
   "source": [
    "#### Left & right merging on multiple columns\n",
    "\n",
    "In addition to the revenue and managers DataFrames from prior exercises, you have a DataFrame sales that summarizes units sold from specific branches (identified by city and state but not branch_id).\n",
    "\n",
    "Once again, the managers DataFrame uses the label branch in place of city as in the other two DataFrames. Your task here is to employ left and right merges to preserve data and identify where data is missing.\n",
    "\n",
    "By merging revenue and sales with a right merge, you can identify the missing revenue values. Here, you don't need to specify left_on or right_on because the columns to merge on have matching labels.\n",
    "\n",
    "By merging sales and managers with a left merge, you can identify the missing manager. Here, the columns to merge on have conflicting labels, so you must specify left_on and right_on. In both cases, you're looking to figure out how to connect the fields in rows containing Springfield."
   ]
  },
  {
   "cell_type": "code",
   "execution_count": 77,
   "metadata": {},
   "outputs": [],
   "source": [
    "import pandas as pd\n",
    "\n",
    "revenue = pd.read_csv('Sales/revenue.csv', delim_whitespace=True)\n",
    "managers = pd.read_csv('Sales/managers.csv', delim_whitespace=True)\n",
    "sales = pd.read_csv('Sales/sales.csv', delim_whitespace=True)"
   ]
  },
  {
   "cell_type": "code",
   "execution_count": 79,
   "metadata": {},
   "outputs": [
    {
     "data": {
      "text/html": [
       "<div>\n",
       "<style scoped>\n",
       "    .dataframe tbody tr th:only-of-type {\n",
       "        vertical-align: middle;\n",
       "    }\n",
       "\n",
       "    .dataframe tbody tr th {\n",
       "        vertical-align: top;\n",
       "    }\n",
       "\n",
       "    .dataframe thead th {\n",
       "        text-align: right;\n",
       "    }\n",
       "</style>\n",
       "<table border=\"1\" class=\"dataframe\">\n",
       "  <thead>\n",
       "    <tr style=\"text-align: right;\">\n",
       "      <th></th>\n",
       "      <th>city</th>\n",
       "      <th>branch_id</th>\n",
       "      <th>state</th>\n",
       "      <th>revenue</th>\n",
       "    </tr>\n",
       "  </thead>\n",
       "  <tbody>\n",
       "    <tr>\n",
       "      <th>0</th>\n",
       "      <td>Austin</td>\n",
       "      <td>10</td>\n",
       "      <td>TX</td>\n",
       "      <td>100</td>\n",
       "    </tr>\n",
       "    <tr>\n",
       "      <th>1</th>\n",
       "      <td>Denver</td>\n",
       "      <td>20</td>\n",
       "      <td>CO</td>\n",
       "      <td>83</td>\n",
       "    </tr>\n",
       "    <tr>\n",
       "      <th>2</th>\n",
       "      <td>Springfield</td>\n",
       "      <td>30</td>\n",
       "      <td>IL</td>\n",
       "      <td>4</td>\n",
       "    </tr>\n",
       "    <tr>\n",
       "      <th>3</th>\n",
       "      <td>Mendocino</td>\n",
       "      <td>47</td>\n",
       "      <td>CA</td>\n",
       "      <td>200</td>\n",
       "    </tr>\n",
       "  </tbody>\n",
       "</table>\n",
       "</div>"
      ],
      "text/plain": [
       "          city  branch_id state  revenue\n",
       "0       Austin         10    TX      100\n",
       "1       Denver         20    CO       83\n",
       "2  Springfield         30    IL        4\n",
       "3    Mendocino         47    CA      200"
      ]
     },
     "execution_count": 79,
     "metadata": {},
     "output_type": "execute_result"
    }
   ],
   "source": [
    "revenue.head()"
   ]
  },
  {
   "cell_type": "code",
   "execution_count": 80,
   "metadata": {},
   "outputs": [
    {
     "data": {
      "text/html": [
       "<div>\n",
       "<style scoped>\n",
       "    .dataframe tbody tr th:only-of-type {\n",
       "        vertical-align: middle;\n",
       "    }\n",
       "\n",
       "    .dataframe tbody tr th {\n",
       "        vertical-align: top;\n",
       "    }\n",
       "\n",
       "    .dataframe thead th {\n",
       "        text-align: right;\n",
       "    }\n",
       "</style>\n",
       "<table border=\"1\" class=\"dataframe\">\n",
       "  <thead>\n",
       "    <tr style=\"text-align: right;\">\n",
       "      <th></th>\n",
       "      <th>branch</th>\n",
       "      <th>branch_id</th>\n",
       "      <th>state</th>\n",
       "      <th>manager</th>\n",
       "    </tr>\n",
       "  </thead>\n",
       "  <tbody>\n",
       "    <tr>\n",
       "      <th>0</th>\n",
       "      <td>Austin</td>\n",
       "      <td>10</td>\n",
       "      <td>TX</td>\n",
       "      <td>Charlers</td>\n",
       "    </tr>\n",
       "    <tr>\n",
       "      <th>1</th>\n",
       "      <td>Denver</td>\n",
       "      <td>20</td>\n",
       "      <td>CO</td>\n",
       "      <td>Joel</td>\n",
       "    </tr>\n",
       "    <tr>\n",
       "      <th>2</th>\n",
       "      <td>Mendocino</td>\n",
       "      <td>47</td>\n",
       "      <td>CA</td>\n",
       "      <td>Brett</td>\n",
       "    </tr>\n",
       "    <tr>\n",
       "      <th>3</th>\n",
       "      <td>Springfield</td>\n",
       "      <td>31</td>\n",
       "      <td>MO</td>\n",
       "      <td>Sally</td>\n",
       "    </tr>\n",
       "  </tbody>\n",
       "</table>\n",
       "</div>"
      ],
      "text/plain": [
       "        branch  branch_id state   manager\n",
       "0       Austin         10    TX  Charlers\n",
       "1       Denver         20    CO      Joel\n",
       "2    Mendocino         47    CA     Brett\n",
       "3  Springfield         31    MO     Sally"
      ]
     },
     "execution_count": 80,
     "metadata": {},
     "output_type": "execute_result"
    }
   ],
   "source": [
    "managers.head()"
   ]
  },
  {
   "cell_type": "code",
   "execution_count": 81,
   "metadata": {},
   "outputs": [
    {
     "data": {
      "text/html": [
       "<div>\n",
       "<style scoped>\n",
       "    .dataframe tbody tr th:only-of-type {\n",
       "        vertical-align: middle;\n",
       "    }\n",
       "\n",
       "    .dataframe tbody tr th {\n",
       "        vertical-align: top;\n",
       "    }\n",
       "\n",
       "    .dataframe thead th {\n",
       "        text-align: right;\n",
       "    }\n",
       "</style>\n",
       "<table border=\"1\" class=\"dataframe\">\n",
       "  <thead>\n",
       "    <tr style=\"text-align: right;\">\n",
       "      <th></th>\n",
       "      <th>city</th>\n",
       "      <th>state</th>\n",
       "      <th>units</th>\n",
       "    </tr>\n",
       "  </thead>\n",
       "  <tbody>\n",
       "    <tr>\n",
       "      <th>0</th>\n",
       "      <td>Mendocino</td>\n",
       "      <td>CA</td>\n",
       "      <td>1</td>\n",
       "    </tr>\n",
       "    <tr>\n",
       "      <th>1</th>\n",
       "      <td>Denver</td>\n",
       "      <td>CO</td>\n",
       "      <td>4</td>\n",
       "    </tr>\n",
       "    <tr>\n",
       "      <th>2</th>\n",
       "      <td>Austin</td>\n",
       "      <td>TX</td>\n",
       "      <td>2</td>\n",
       "    </tr>\n",
       "    <tr>\n",
       "      <th>3</th>\n",
       "      <td>Springfield</td>\n",
       "      <td>MO</td>\n",
       "      <td>5</td>\n",
       "    </tr>\n",
       "    <tr>\n",
       "      <th>4</th>\n",
       "      <td>Springfield</td>\n",
       "      <td>IL</td>\n",
       "      <td>1</td>\n",
       "    </tr>\n",
       "  </tbody>\n",
       "</table>\n",
       "</div>"
      ],
      "text/plain": [
       "          city state  units\n",
       "0    Mendocino    CA      1\n",
       "1       Denver    CO      4\n",
       "2       Austin    TX      2\n",
       "3  Springfield    MO      5\n",
       "4  Springfield    IL      1"
      ]
     },
     "execution_count": 81,
     "metadata": {},
     "output_type": "execute_result"
    }
   ],
   "source": [
    "sales.head()"
   ]
  },
  {
   "cell_type": "code",
   "execution_count": 82,
   "metadata": {},
   "outputs": [
    {
     "name": "stdout",
     "output_type": "stream",
     "text": [
      "          city  branch_id state  revenue  units\n",
      "0       Austin       10.0    TX    100.0      2\n",
      "1       Denver       20.0    CO     83.0      4\n",
      "2  Springfield       30.0    IL      4.0      1\n",
      "3    Mendocino       47.0    CA    200.0      1\n",
      "4  Springfield        NaN    MO      NaN      5\n",
      "          city state  units       branch  branch_id   manager\n",
      "0    Mendocino    CA      1    Mendocino       47.0     Brett\n",
      "1       Denver    CO      4       Denver       20.0      Joel\n",
      "2       Austin    TX      2       Austin       10.0  Charlers\n",
      "3  Springfield    MO      5  Springfield       31.0     Sally\n",
      "4  Springfield    IL      1          NaN        NaN       NaN\n"
     ]
    }
   ],
   "source": [
    "# Merge revenue and sales: revenue_and_sales\n",
    "revenue_and_sales = pd.merge(revenue,sales, how='right', on=['city','state'])\n",
    "\n",
    "# Print revenue_and_sales\n",
    "print(revenue_and_sales)\n",
    "\n",
    "# Merge sales and managers: sales_and_managers\n",
    "sales_and_managers = pd.merge(sales, managers, how='left', left_on=['city','state'], right_on=['branch','state'])\n",
    "\n",
    "# Print sales_and_managers\n",
    "print(sales_and_managers)"
   ]
  },
  {
   "cell_type": "markdown",
   "metadata": {},
   "source": [
    "### Special care needed with inner/outer join\n",
    "Notice how the default merge drops the Springfield rows, while the default outer merge includes them twice."
   ]
  },
  {
   "cell_type": "code",
   "execution_count": 83,
   "metadata": {},
   "outputs": [
    {
     "name": "stdout",
     "output_type": "stream",
     "text": [
      "        city state  units     branch  branch_id   manager  revenue\n",
      "0  Mendocino    CA      1  Mendocino       47.0     Brett    200.0\n",
      "1     Denver    CO      4     Denver       20.0      Joel     83.0\n",
      "2     Austin    TX      2     Austin       10.0  Charlers    100.0\n",
      "          city state  units       branch  branch_id   manager  revenue\n",
      "0    Mendocino    CA      1    Mendocino       47.0     Brett    200.0\n",
      "1       Denver    CO      4       Denver       20.0      Joel     83.0\n",
      "2       Austin    TX      2       Austin       10.0  Charlers    100.0\n",
      "3  Springfield    MO      5  Springfield       31.0     Sally      NaN\n",
      "4  Springfield    IL      1          NaN        NaN       NaN      NaN\n",
      "5  Springfield    IL      1          NaN       30.0       NaN      4.0\n",
      "6  Springfield    MO      5          NaN        NaN       NaN      NaN\n",
      "          city state  units_x       branch  branch_id_x   manager  \\\n",
      "0    Mendocino    CA        1    Mendocino         47.0     Brett   \n",
      "1       Denver    CO        4       Denver         20.0      Joel   \n",
      "2       Austin    TX        2       Austin         10.0  Charlers   \n",
      "3  Springfield    MO        5  Springfield         31.0     Sally   \n",
      "4  Springfield    IL        1          NaN          NaN       NaN   \n",
      "\n",
      "   branch_id_y  revenue  units_y  \n",
      "0         47.0    200.0        1  \n",
      "1         20.0     83.0        4  \n",
      "2         10.0    100.0        2  \n",
      "3          NaN      NaN        5  \n",
      "4         30.0      4.0        1  \n"
     ]
    }
   ],
   "source": [
    "# Perform the first merge: merge_default\n",
    "merge_default = pd.merge(sales_and_managers, revenue_and_sales)\n",
    "\n",
    "# Print merge_default\n",
    "print(merge_default)\n",
    "\n",
    "# Perform the second merge: merge_outer\n",
    "merge_outer = pd.merge(sales_and_managers, revenue_and_sales, how='outer')\n",
    "\n",
    "# Print merge_outer\n",
    "print(merge_outer)\n",
    "\n",
    "# Perform the third merge: merge_outer_on\n",
    "merge_outer_on = pd.merge(sales_and_managers, revenue_and_sales, how='outer', on=['city','state'])\n",
    "\n",
    "# Print merge_outer_on\n",
    "print(merge_outer_on)"
   ]
  }
 ],
 "metadata": {
  "kernelspec": {
   "display_name": "Python 3",
   "language": "python",
   "name": "python3"
  },
  "language_info": {
   "codemirror_mode": {
    "name": "ipython",
    "version": 3
   },
   "file_extension": ".py",
   "mimetype": "text/x-python",
   "name": "python",
   "nbconvert_exporter": "python",
   "pygments_lexer": "ipython3",
   "version": "3.7.3"
  }
 },
 "nbformat": 4,
 "nbformat_minor": 4
}
