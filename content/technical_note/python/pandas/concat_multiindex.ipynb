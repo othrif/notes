{
 "cells": [
  {
   "cell_type": "raw",
   "metadata": {},
   "source": [
    "---\n",
    "title: \"Create DataFrame with multiindexes and concatenate with keys\"\n",
    "date: 2020-04-12T14:41:32+02:00\n",
    "author: \"Othmane Rifki\"\n",
    "type: technical_note\n",
    "draft: false\n",
    "---"
   ]
  },
  {
   "cell_type": "code",
   "execution_count": 24,
   "metadata": {},
   "outputs": [
    {
     "data": {
      "text/html": [
       "<div>\n",
       "<style scoped>\n",
       "    .dataframe tbody tr th:only-of-type {\n",
       "        vertical-align: middle;\n",
       "    }\n",
       "\n",
       "    .dataframe tbody tr th {\n",
       "        vertical-align: top;\n",
       "    }\n",
       "\n",
       "    .dataframe thead th {\n",
       "        text-align: right;\n",
       "    }\n",
       "</style>\n",
       "<table border=\"1\" class=\"dataframe\">\n",
       "  <thead>\n",
       "    <tr style=\"text-align: right;\">\n",
       "      <th></th>\n",
       "      <th></th>\n",
       "      <th>Country</th>\n",
       "    </tr>\n",
       "  </thead>\n",
       "  <tbody>\n",
       "    <tr>\n",
       "      <th rowspan=\"5\" valign=\"top\">bronze</th>\n",
       "      <th>France</th>\n",
       "      <td>475.0</td>\n",
       "    </tr>\n",
       "    <tr>\n",
       "      <th>Germany</th>\n",
       "      <td>454.0</td>\n",
       "    </tr>\n",
       "    <tr>\n",
       "      <th>Soviet Union</th>\n",
       "      <td>584.0</td>\n",
       "    </tr>\n",
       "    <tr>\n",
       "      <th>United Kingdom</th>\n",
       "      <td>505.0</td>\n",
       "    </tr>\n",
       "    <tr>\n",
       "      <th>United States</th>\n",
       "      <td>1052.0</td>\n",
       "    </tr>\n",
       "    <tr>\n",
       "      <th rowspan=\"5\" valign=\"top\">silver</th>\n",
       "      <th>France</th>\n",
       "      <td>461.0</td>\n",
       "    </tr>\n",
       "    <tr>\n",
       "      <th>Italy</th>\n",
       "      <td>394.0</td>\n",
       "    </tr>\n",
       "    <tr>\n",
       "      <th>Soviet Union</th>\n",
       "      <td>627.0</td>\n",
       "    </tr>\n",
       "    <tr>\n",
       "      <th>United Kingdom</th>\n",
       "      <td>591.0</td>\n",
       "    </tr>\n",
       "    <tr>\n",
       "      <th>United States</th>\n",
       "      <td>1195.0</td>\n",
       "    </tr>\n",
       "    <tr>\n",
       "      <th rowspan=\"5\" valign=\"top\">gold</th>\n",
       "      <th>Germany</th>\n",
       "      <td>407.0</td>\n",
       "    </tr>\n",
       "    <tr>\n",
       "      <th>Italy</th>\n",
       "      <td>460.0</td>\n",
       "    </tr>\n",
       "    <tr>\n",
       "      <th>Soviet Union</th>\n",
       "      <td>838.0</td>\n",
       "    </tr>\n",
       "    <tr>\n",
       "      <th>United Kingdom</th>\n",
       "      <td>498.0</td>\n",
       "    </tr>\n",
       "    <tr>\n",
       "      <th>United States</th>\n",
       "      <td>2088.0</td>\n",
       "    </tr>\n",
       "  </tbody>\n",
       "</table>\n",
       "</div>"
      ],
      "text/plain": [
       "                       Country\n",
       "bronze France            475.0\n",
       "       Germany           454.0\n",
       "       Soviet Union      584.0\n",
       "       United Kingdom    505.0\n",
       "       United States    1052.0\n",
       "silver France            461.0\n",
       "       Italy             394.0\n",
       "       Soviet Union      627.0\n",
       "       United Kingdom    591.0\n",
       "       United States    1195.0\n",
       "gold   Germany           407.0\n",
       "       Italy             460.0\n",
       "       Soviet Union      838.0\n",
       "       United Kingdom    498.0\n",
       "       United States    2088.0"
      ]
     },
     "execution_count": 24,
     "metadata": {},
     "output_type": "execute_result"
    }
   ],
   "source": [
    "import pandas as pd\n",
    "bronze = {'Country':{'United States':  1052.0,\n",
    "       'Soviet Union':   584.0,\n",
    "       'United Kingdom':   505.0,\n",
    "       'France':   475.0,\n",
    "       'Germany':   454.0}}\n",
    "silver ={'Country':{\n",
    "       'United States':  1195.0,\n",
    "       'Soviet Union':   627.0,\n",
    "       'United Kingdom':   591.0,\n",
    "       'France':   461.0,\n",
    "       'Italy':   394.0}}\n",
    "gold   = {'Country':{\n",
    "       'United States':  2088.0,\n",
    "       'Soviet Union':   838.0,\n",
    "       'United Kingdom':   498.0,\n",
    "       'Italy':   460.0,\n",
    "       'Germany':   407.0}}\n",
    "\n",
    "medal_types = ['bronze','silver','gold']\n",
    "medals_all = [ pd.DataFrame(i) for i in [bronze,silver,gold]]\n",
    "medals = pd.concat(medals_all, keys=medal_types)\n",
    "medals"
   ]
  },
  {
   "cell_type": "markdown",
   "metadata": {},
   "source": [
    "### Concatenating vertically to get MultiIndexed rows\n"
   ]
  },
  {
   "cell_type": "code",
   "execution_count": 25,
   "metadata": {},
   "outputs": [
    {
     "name": "stdout",
     "output_type": "stream",
     "text": [
      "Country    454.0\n",
      "Name: (bronze, Germany), dtype: float64\n"
     ]
    }
   ],
   "source": [
    "# Sort the entries of medals: medals_sorted\n",
    "medals_sorted = medals.sort_index(level=0)\n",
    "\n",
    "# Print the number of Bronze medals won by Germany\n",
    "print(medals_sorted.loc[('bronze','Germany')])"
   ]
  },
  {
   "cell_type": "code",
   "execution_count": 26,
   "metadata": {},
   "outputs": [
    {
     "name": "stdout",
     "output_type": "stream",
     "text": [
      "                Country\n",
      "France            461.0\n",
      "Italy             394.0\n",
      "Soviet Union      627.0\n",
      "United Kingdom    591.0\n",
      "United States    1195.0\n"
     ]
    }
   ],
   "source": [
    "# Print data about silver medals\n",
    "print(medals_sorted.loc['silver'])"
   ]
  },
  {
   "cell_type": "code",
   "execution_count": 23,
   "metadata": {},
   "outputs": [
    {
     "name": "stdout",
     "output_type": "stream",
     "text": [
      "                       Country\n",
      "bronze United Kingdom    505.0\n",
      "gold   United Kingdom    498.0\n",
      "silver United Kingdom    591.0\n"
     ]
    }
   ],
   "source": [
    "\n",
    "# Create alias for pd.IndexSlice: idx\n",
    "idx = pd.IndexSlice\n",
    "\n",
    "# Print all the data on medals won by the United Kingdom\n",
    "print(medals_sorted.loc[idx[:,'United Kingdom'],:])\n"
   ]
  },
  {
   "cell_type": "markdown",
   "metadata": {},
   "source": [
    "### Concatenating horizontally to get MultiIndexed columns"
   ]
  },
  {
   "cell_type": "code",
   "execution_count": 35,
   "metadata": {},
   "outputs": [
    {
     "name": "stdout",
     "output_type": "stream",
     "text": [
      "[                             Company   Product  Units\n",
      "Date                                                 \n",
      "2015-02-04 21:52:45  Acme Coporation  Hardware     14\n",
      "2015-02-07 22:58:10  Acme Coporation  Hardware      1\n",
      "2015-02-19 10:59:33        Mediacore  Hardware     16\n",
      "2015-02-02 20:54:49        Mediacore  Hardware      9\n",
      "2015-02-21 20:41:47            Hooli  Hardware      3,                              Company   Product  Units\n",
      "Date                                                 \n",
      "2015-02-16 12:09:19            Hooli  Software     10\n",
      "2015-02-03 14:14:18          Initech  Software     13\n",
      "2015-02-02 08:33:01            Hooli  Software      3\n",
      "2015-02-05 01:53:06  Acme Coporation  Software     19\n",
      "2015-02-11 20:03:08          Initech  Software      7\n",
      "2015-02-09 13:09:55        Mediacore  Software      7\n",
      "2015-02-11 22:50:44            Hooli  Software      4\n",
      "2015-02-04 15:36:29        Streeplex  Software     13\n",
      "2015-02-21 05:01:26        Mediacore  Software      3,                        Company  Product  Units\n",
      "Date                                          \n",
      "2015-02-26 08:57:45  Streeplex  Service      4\n",
      "2015-02-25 00:29:00    Initech  Service     10\n",
      "2015-02-09 08:57:30  Streeplex  Service     19\n",
      "2015-02-26 08:58:51  Streeplex  Service      1\n",
      "2015-02-05 22:05:03      Hooli  Service     10\n",
      "2015-02-19 16:02:58  Mediacore  Service     10]\n"
     ]
    }
   ],
   "source": [
    "import pandas as pd\n",
    "\n",
    "names = ['Hardware', 'Software', 'Service']\n",
    "\n",
    "dataframes=[]\n",
    "for name in names:\n",
    "    filename = 'Sales/feb-sales-%s.csv' % name\n",
    "    dataframe=pd.read_csv(filename, index_col=0, parse_dates=True)\n",
    "    dataframes.append(dataframe)\n",
    "print(dataframes)"
   ]
  },
  {
   "cell_type": "code",
   "execution_count": 36,
   "metadata": {},
   "outputs": [
    {
     "name": "stdout",
     "output_type": "stream",
     "text": [
      "<class 'pandas.core.frame.DataFrame'>\n",
      "DatetimeIndex: 20 entries, 2015-02-02 08:33:01 to 2015-02-26 08:58:51\n",
      "Data columns (total 9 columns):\n",
      " #   Column               Non-Null Count  Dtype  \n",
      "---  ------               --------------  -----  \n",
      " 0   (Hardware, Company)  5 non-null      object \n",
      " 1   (Hardware, Product)  5 non-null      object \n",
      " 2   (Hardware, Units)    5 non-null      float64\n",
      " 3   (Software, Company)  9 non-null      object \n",
      " 4   (Software, Product)  9 non-null      object \n",
      " 5   (Software, Units)    9 non-null      float64\n",
      " 6   (Service, Company)   6 non-null      object \n",
      " 7   (Service, Product)   6 non-null      object \n",
      " 8   (Service, Units)     6 non-null      float64\n",
      "dtypes: float64(3), object(6)\n",
      "memory usage: 1.6+ KB\n",
      "None\n",
      "                            Hardware         Software Service\n",
      "                             Company          Company Company\n",
      "Date                                                         \n",
      "2015-02-02 08:33:01              NaN            Hooli     NaN\n",
      "2015-02-02 20:54:49        Mediacore              NaN     NaN\n",
      "2015-02-03 14:14:18              NaN          Initech     NaN\n",
      "2015-02-04 15:36:29              NaN        Streeplex     NaN\n",
      "2015-02-04 21:52:45  Acme Coporation              NaN     NaN\n",
      "2015-02-05 01:53:06              NaN  Acme Coporation     NaN\n",
      "2015-02-05 22:05:03              NaN              NaN   Hooli\n",
      "2015-02-07 22:58:10  Acme Coporation              NaN     NaN\n"
     ]
    }
   ],
   "source": [
    "# Concatenate dataframes: february\n",
    "february = pd.concat(dataframes, axis=1, keys=['Hardware', 'Software', 'Service'])\n",
    "\n",
    "# Print february.info()\n",
    "print(february.info())\n",
    "\n",
    "# Assign pd.IndexSlice: idx\n",
    "idx = pd.IndexSlice\n",
    "\n",
    "# Create the slice: slice_2_8\n",
    "slice_2_8 = february.loc['Feb. 2, 2015':' Feb. 8, 2015', idx[:, 'Company']]\n",
    "\n",
    "# Print slice_2_8\n",
    "print(slice_2_8)"
   ]
  },
  {
   "cell_type": "code",
   "execution_count": 38,
   "metadata": {},
   "outputs": [
    {
     "name": "stdout",
     "output_type": "stream",
     "text": [
      "                          Units\n",
      "         Company               \n",
      "january  Acme Coporation     76\n",
      "         Hooli               70\n",
      "         Initech             37\n",
      "         Mediacore           15\n",
      "         Streeplex           50\n",
      "february Acme Coporation     34\n",
      "         Hooli               30\n",
      "         Initech             30\n",
      "         Mediacore           45\n",
      "         Streeplex           37\n",
      "march    Acme Coporation      5\n",
      "         Hooli               37\n",
      "         Initech             68\n",
      "         Mediacore           68\n",
      "         Streeplex           40\n",
      "                    Units\n",
      "         Company         \n",
      "january  Mediacore     15\n",
      "february Mediacore     45\n",
      "march    Mediacore     68\n"
     ]
    }
   ],
   "source": [
    "# Make the list of tuples: month_list\n",
    "month_list = [('january', jan), ('february', feb), ('march', mar)]\n",
    "\n",
    "# Create an empty dictionary: month_dict\n",
    "month_dict = {}\n",
    "\n",
    "for month_name, month_data in month_list:\n",
    "\n",
    "    # Group month_data: month_dict[month_name]\n",
    "    month_dict[month_name] = month_data.groupby('Company').sum()\n",
    "\n",
    "# Concatenate data in month_dict: sales\n",
    "sales = pd.concat(month_dict)\n",
    "\n",
    "# Print sales\n",
    "print(sales)\n",
    "\n",
    "# Print all sales by Mediacore\n",
    "idx = pd.IndexSlice\n",
    "print(sales.loc[idx[:, 'Mediacore'], :])"
   ]
  }
 ],
 "metadata": {
  "kernelspec": {
   "display_name": "Python 3",
   "language": "python",
   "name": "python3"
  },
  "language_info": {
   "codemirror_mode": {
    "name": "ipython",
    "version": 3
   },
   "file_extension": ".py",
   "mimetype": "text/x-python",
   "name": "python",
   "nbconvert_exporter": "python",
   "pygments_lexer": "ipython3",
   "version": "3.7.3"
  }
 },
 "nbformat": 4,
 "nbformat_minor": 4
}
