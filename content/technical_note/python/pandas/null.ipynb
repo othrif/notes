{
 "cells": [
  {
   "cell_type": "raw",
   "metadata": {},
   "source": [
    "---\n",
    "title: \"Handling missing data and outliers\"\n",
    "date: 2020-04-12T14:41:32+02:00\n",
    "author: \"Othmane Rifki\"\n",
    "type: technical_note\n",
    "draft: false\n",
    "---"
   ]
  },
  {
   "cell_type": "markdown",
   "metadata": {},
   "source": [
    "### Identify rows with null in any column"
   ]
  },
  {
   "cell_type": "code",
   "execution_count": 5,
   "metadata": {},
   "outputs": [
    {
     "name": "stdout",
     "output_type": "stream",
     "text": [
      "       date  temp  speed events\n",
      "0  2013-1-1    28    NaN   Snow\n",
      "1  2013-1-2    21    NaN    NaN\n",
      "2  2013-1-3    24   26.0    NaN\n",
      "3  2013-1-4    28   32.0    NaN\n",
      "4  2013-1-5    30   23.0    NaN\n"
     ]
    }
   ],
   "source": [
    "import pandas as pd\n",
    "weather_org = pd.read_csv('pittsburgh2013.csv')\n",
    "weather_org = weather_org.loc[:,['Date','Mean TemperatureF', 'Max Gust SpeedMPH', 'Events']]\n",
    "weather_org.columns = ['date','temp','speed','events']\n",
    "# Identify and print the the rows with null values\n",
    "nulls = weather_org[weather_org.isnull().any(axis=1)]\n",
    "print(nulls.head())"
   ]
  },
  {
   "cell_type": "markdown",
   "metadata": {},
   "source": [
    "### Emputation"
   ]
  },
  {
   "cell_type": "code",
   "execution_count": 2,
   "metadata": {},
   "outputs": [
    {
     "name": "stdout",
     "output_type": "stream",
     "text": [
      "       Date  Mean TemperatureF  Max Gust SpeedMPH Events\n",
      "0  2013-1-1                 28                NaN   Snow\n",
      "1  2013-1-2                 21                NaN    NaN\n",
      "2  2013-1-3                 24               26.0    NaN\n",
      "3  2013-1-4                 28               32.0    NaN\n",
      "4  2013-1-5                 30               23.0    NaN\n",
      "       Date  Mean TemperatureF  Max Gust SpeedMPH Events\n",
      "0  2013-1-1                 28                0.0   Snow\n",
      "1  2013-1-2                 21                0.0      0\n",
      "2  2013-1-3                 24               26.0      0\n",
      "3  2013-1-4                 28               32.0      0\n",
      "4  2013-1-5                 30               23.0      0\n"
     ]
    }
   ],
   "source": [
    "weather = weather_org.copy()\n",
    "# Impute constant value 0 and print the head\n",
    "weather.fillna(0, inplace=True)\n",
    "print(weather.head())"
   ]
  },
  {
   "cell_type": "code",
   "execution_count": 6,
   "metadata": {},
   "outputs": [
    {
     "name": "stdout",
     "output_type": "stream",
     "text": [
      "       date  temp  speed events\n",
      "0  2013-1-1    28   24.0   Snow\n",
      "1  2013-1-2    21   24.0     24\n",
      "2  2013-1-3    24   26.0     24\n",
      "3  2013-1-4    28   32.0     24\n",
      "4  2013-1-5    30   23.0     24\n"
     ]
    }
   ],
   "source": [
    "weather = weather_org.copy()\n",
    "# Impute median price and print the head\n",
    "weather.fillna(weather['speed'].median(), inplace=True)\n",
    "print(weather.head())"
   ]
  },
  {
   "cell_type": "markdown",
   "metadata": {},
   "source": [
    "### Drop null values"
   ]
  },
  {
   "cell_type": "code",
   "execution_count": 7,
   "metadata": {},
   "outputs": [
    {
     "name": "stdout",
     "output_type": "stream",
     "text": [
      "         date  temp  speed    events\n",
      "5    2013-1-6    34   22.0      Snow\n",
      "8    2013-1-9    36   25.0      Rain\n",
      "11  2013-1-12    55   18.0  Fog-Rain\n",
      "12  2013-1-13    62   26.0      Rain\n",
      "13  2013-1-14    44   32.0      Rain\n"
     ]
    }
   ],
   "source": [
    "weather = weather_org.copy()\n",
    "# Drop each row with a null value and print the head\n",
    "weather.dropna(inplace=True)\n",
    "print(weather.head())"
   ]
  },
  {
   "cell_type": "markdown",
   "metadata": {},
   "source": [
    "### Drop outliers"
   ]
  },
  {
   "cell_type": "code",
   "execution_count": 15,
   "metadata": {},
   "outputs": [
    {
     "data": {
      "image/png": "[encoded data removed]",
      "text/plain": [
       "<Figure size 432x288 with 1 Axes>"
      ]
     },
     "metadata": {
      "needs_background": "light"
     },
     "output_type": "display_data"
    }
   ],
   "source": [
    "import matplotlib.pyplot as plt\n",
    "# Visualize the relationship with price\n",
    "weather.boxplot('speed', rot=0)\n",
    "plt.show()"
   ]
  },
  {
   "cell_type": "code",
   "execution_count": 14,
   "metadata": {},
   "outputs": [
    {
     "name": "stdout",
     "output_type": "stream",
     "text": [
      "1.8220504190012328 to 51.599333228797505\n",
      "          date  temp  speed                 events\n",
      "105  2013-4-16    66   53.0  Fog-Rain-Thunderstorm\n",
      "190  2013-7-10    76   55.0  Fog-Rain-Thunderstorm\n",
      "304  2013-11-1    60   61.0                   Rain\n"
     ]
    }
   ],
   "source": [
    "# Calculate the mean and std\n",
    "mean, std = weather['speed'].mean(), weather['speed'].std()\n",
    "\n",
    "# Compute and print the upper and lower threshold\n",
    "cut_off = 3 * std\n",
    "lower, upper = mean - cut_off, mean + cut_off\n",
    "print(lower, 'to', upper)\n",
    "\n",
    "# Identify and print rows with outliers\n",
    "outliers = weather[(weather['speed'] > upper) | \n",
    "                   (weather['speed'] < lower)]\n",
    "print(outliers)\n",
    "\n",
    "# Drop the rows from the dataset\n",
    "weather = weather[(weather['speed'] <= upper) | \n",
    "                  (weather['speed'] >= lower)]"
   ]
  }
 ],
 "metadata": {
  "kernelspec": {
   "display_name": "Python 3",
   "language": "python",
   "name": "python3"
  },
  "language_info": {
   "codemirror_mode": {
    "name": "ipython",
    "version": 3
   },
   "file_extension": ".py",
   "mimetype": "text/x-python",
   "name": "python",
   "nbconvert_exporter": "python",
   "pygments_lexer": "ipython3",
   "version": "3.7.3"
  }
 },
 "nbformat": 4,
 "nbformat_minor": 4
}
