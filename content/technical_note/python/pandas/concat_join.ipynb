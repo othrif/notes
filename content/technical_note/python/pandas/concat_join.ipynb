{
 "cells": [
  {
   "cell_type": "raw",
   "metadata": {},
   "source": [
    "---\n",
    "title: \"Outer and inner joins\"\n",
    "date: 2020-04-12T14:41:32+02:00\n",
    "author: \"Othmane Rifki\"\n",
    "type: technical_note\n",
    "draft: false\n",
    "---"
   ]
  },
  {
   "cell_type": "markdown",
   "metadata": {},
   "source": [
    "### Joins\n",
    "Joining tables: Combining rows of multiple tables\n",
    "\n",
    "#### Outer join\n",
    "* Missing fields filled with NaN\n",
    "* Union of index sets (all labels, no repetition)\n",
    "\n",
    "#### Inner join\n",
    "* Intersection of index sets (only common labels)\n"
   ]
  },
  {
   "cell_type": "code",
   "execution_count": 70,
   "metadata": {},
   "outputs": [],
   "source": [
    "import pandas as pd\n",
    "\n",
    "bronze = pd.read_csv('SummerOlypmic/bronze_top5.csv')\n",
    "silver = pd.read_csv('SummerOlypmic/silver_top5.csv')\n",
    "gold = pd.read_csv('SummerOlypmic/gold_top5.csv')"
   ]
  },
  {
   "cell_type": "markdown",
   "metadata": {},
   "source": [
    "### Inner join"
   ]
  },
  {
   "cell_type": "code",
   "execution_count": 44,
   "metadata": {},
   "outputs": [
    {
     "name": "stdout",
     "output_type": "stream",
     "text": [
      "           bronze                  silver                    gold        \n",
      "          Country   Total         Country   Total         Country   Total\n",
      "0   United States  1052.0   United States  1195.0   United States  2088.0\n",
      "1    Soviet Union   584.0    Soviet Union   627.0    Soviet Union   838.0\n",
      "2  United Kingdom   505.0  United Kingdom   591.0  United Kingdom   498.0\n",
      "3          France   475.0          France   461.0           Italy   460.0\n",
      "4         Germany   454.0           Italy   394.0         Germany   407.0\n"
     ]
    }
   ],
   "source": [
    "# Create the list of DataFrames: medal_list\n",
    "medal_list = [bronze, silver, gold]\n",
    "\n",
    "# Concatenate medal_list horizontally using an inner join: medals\n",
    "medals = pd.concat(medal_list, axis=1, keys=['bronze','silver', 'gold'], join='inner')\n",
    "\n",
    "# Print medals\n",
    "print(medals)"
   ]
  },
  {
   "cell_type": "markdown",
   "metadata": {},
   "source": [
    "### Outer join"
   ]
  },
  {
   "cell_type": "code",
   "execution_count": 42,
   "metadata": {},
   "outputs": [
    {
     "name": "stdout",
     "output_type": "stream",
     "text": [
      "           bronze                  silver                    gold        \n",
      "          Country   Total         Country   Total         Country   Total\n",
      "0   United States  1052.0   United States  1195.0   United States  2088.0\n",
      "1    Soviet Union   584.0    Soviet Union   627.0    Soviet Union   838.0\n",
      "2  United Kingdom   505.0  United Kingdom   591.0  United Kingdom   498.0\n",
      "3          France   475.0          France   461.0           Italy   460.0\n",
      "4         Germany   454.0           Italy   394.0         Germany   407.0\n"
     ]
    }
   ],
   "source": [
    "# Create the list of DataFrames: medal_list\n",
    "medal_list = [bronze, silver, gold]\n",
    "\n",
    "# Concatenate medal_list horizontally using an inner join: medals\n",
    "medals = pd.concat(medal_list, axis=1, keys=['bronze','silver', 'gold'], join='outer')\n",
    "\n",
    "# Print medals\n",
    "print(medals)"
   ]
  },
  {
   "cell_type": "markdown",
   "metadata": {},
   "source": [
    "### More advanced resampling & concatenating"
   ]
  },
  {
   "cell_type": "code",
   "execution_count": 68,
   "metadata": {},
   "outputs": [
    {
     "name": "stdout",
     "output_type": "stream",
     "text": [
      "                  GDP\n",
      "Year                 \n",
      "1960-01-01  59.184116\n",
      "1961-01-01  49.557050\n",
      "1962-01-01  46.685179\n",
      "1963-01-01  50.097303\n",
      "1964-01-01  59.062255\n",
      "            VALUE\n",
      "DATE             \n",
      "1947-01-01  243.1\n",
      "1947-04-01  246.3\n",
      "1947-07-01  250.1\n",
      "1947-10-01  260.3\n",
      "1948-01-01  266.2\n"
     ]
    }
   ],
   "source": [
    "china = pd.read_csv('GDP/gdp_china.csv', parse_dates=True, index_col=0, )\n",
    "us = pd.read_csv('GDP/gdp_usa.csv', parse_dates=True, index_col=0)\n",
    "print(china.head()) # need to change GDP > China \n",
    "print(us.head()) # need to change VALUE > US"
   ]
  },
  {
   "cell_type": "code",
   "execution_count": 69,
   "metadata": {},
   "outputs": [
    {
     "name": "stdout",
     "output_type": "stream",
     "text": [
      "                 GDP     VALUE\n",
      "Year                          \n",
      "1970-12-31  0.546128  1.017187\n",
      "1980-12-31  1.072537  1.742556\n",
      "1990-12-31  0.892820  1.012126\n",
      "2000-12-31  2.357522  0.738632\n",
      "2010-12-31  4.011081  0.454332\n",
      "2020-12-31  3.789936  0.361780\n"
     ]
    }
   ],
   "source": [
    "# Resample and tidy china: china_annual\n",
    "china_annual = china.resample('A').last().pct_change(10).dropna()\n",
    "\n",
    "# Resample and tidy us: us_annual\n",
    "us_annual = us.resample('A').last().pct_change(10).dropna()\n",
    "\n",
    "# Concatenate china_annual and us_annual: gdp\n",
    "gdp = pd.concat([china_annual, us_annual], join='inner', axis=1)\n",
    "\n",
    "# Resample gdp and print\n",
    "print(gdp.resample('10A').last())"
   ]
  }
 ],
 "metadata": {
  "kernelspec": {
   "display_name": "Python 3",
   "language": "python",
   "name": "python3"
  },
  "language_info": {
   "codemirror_mode": {
    "name": "ipython",
    "version": 3
   },
   "file_extension": ".py",
   "mimetype": "text/x-python",
   "name": "python",
   "nbconvert_exporter": "python",
   "pygments_lexer": "ipython3",
   "version": "3.7.3"
  }
 },
 "nbformat": 4,
 "nbformat_minor": 4
}
