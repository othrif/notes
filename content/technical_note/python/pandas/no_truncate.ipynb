{
 "cells": [
  {
   "cell_type": "raw",
   "metadata": {},
   "source": [
    "---\n",
    "title: \"Do not truncate column\"\n",
    "date: 2020-04-12T14:41:32+02:00\n",
    "author: \"Othmane Rifki\"\n",
    "type: technical_note\n",
    "draft: false\n",
    "---"
   ]
  },
  {
   "cell_type": "code",
   "execution_count": 2,
   "metadata": {},
   "outputs": [
    {
     "name": "stdout",
     "output_type": "stream",
     "text": [
      "0     RT @bpolitics: .@krollbondrating's Christopher...\n",
      "1     RT @HeidiAlpine: @dmartosko Cruz video found.....\n",
      "2     Njihuni me Zonjën Trump !!! | Ekskluzive https...\n",
      "3     Your an idiot she shouldn't have tried to grab...\n",
      "4     RT @AlanLohner: The anti-American D.C. elites ...\n",
      "                            ...                        \n",
      "95    RT @claytoncubitt: Stop asking Bernie supporte...\n",
      "96    Kasich is gonna fuck this up for Ted Cruz  htt...\n",
      "97    RT @akaMaude13: Seriously can't make this up. ...\n",
      "98    Kasich is gonna fuck this up for Ted Cruz  htt...\n",
      "99    @marklevinshow try reporting this truth. https...\n",
      "Name: text, Length: 100, dtype: object\n"
     ]
    }
   ],
   "source": [
    "import pandas as pd\n",
    "counts_dict = {}\n",
    "csv_url='../datasets/tweets.csv'\n",
    "chunk = pd.read_csv(csv_url)\n",
    "print(chunk['text'])"
   ]
  },
  {
   "cell_type": "code",
   "execution_count": 3,
   "metadata": {},
   "outputs": [
    {
     "name": "stdout",
     "output_type": "stream",
     "text": [
      "0     RT @bpolitics: .@krollbondrating's Christopher Whalen says Clinton is the weakest Dem candidate in 50 years https://t.co/pLk7rvoRSn https:/…\n",
      "1                               RT @HeidiAlpine: @dmartosko Cruz video found.....racing from the scene.... #cruzsexscandal https://t.co/zuAPZfQDk3\n",
      "2                                                                                 Njihuni me Zonjën Trump !!! | Ekskluzive https://t.co/4KmsQi47VD\n",
      "3                                       Your an idiot she shouldn't have tried to grab trump after the fact she's an idiot https://t.co/lpASyeNVpG\n",
      "4     RT @AlanLohner: The anti-American D.C. elites despise Trump for his America-first foreign policy. Trump threatens their gravy train. https:…\n",
      "                                                                          ...                                                                     \n",
      "95    RT @claytoncubitt: Stop asking Bernie supporters if they’ll vote for Hillary against Trump. We got a plan to beat Trump already. Called Ber…\n",
      "96                                                                              Kasich is gonna fuck this up for Ted Cruz  https://t.co/JYYok5qx7R\n",
      "97                                                 RT @akaMaude13: Seriously can't make this up. What a joke. #NeverTrump  https://t.co/JkTx6mdRgC\n",
      "98                                                                              Kasich is gonna fuck this up for Ted Cruz  https://t.co/JYYok5qx7R\n",
      "99                                                                                @marklevinshow try reporting this truth. https://t.co/z76fZzCRK3\n",
      "Name: text, Length: 100, dtype: object\n"
     ]
    }
   ],
   "source": [
    "pd.set_option('display.max_colwidth',None)\n",
    "print(chunk['text'])"
   ]
  }
 ],
 "metadata": {
  "kernelspec": {
   "display_name": "Python 3",
   "language": "python",
   "name": "python3"
  },
  "language_info": {
   "codemirror_mode": {
    "name": "ipython",
    "version": 3
   },
   "file_extension": ".py",
   "mimetype": "text/x-python",
   "name": "python",
   "nbconvert_exporter": "python",
   "pygments_lexer": "ipython3",
   "version": "3.7.3"
  }
 },
 "nbformat": 4,
 "nbformat_minor": 4
}
