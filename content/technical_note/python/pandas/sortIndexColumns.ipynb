{
 "cells": [
  {
   "cell_type": "raw",
   "metadata": {},
   "source": [
    "---\n",
    "title: \"Sorting DataFrame with Index & columns\"\n",
    "date: 2020-04-12T14:41:32+02:00\n",
    "author: \"Othmane Rifki\"\n",
    "type: technical_note\n",
    "draft: false\n",
    "---"
   ]
  },
  {
   "cell_type": "code",
   "execution_count": 38,
   "metadata": {},
   "outputs": [
    {
     "name": "stdout",
     "output_type": "stream",
     "text": [
      "     Mean TemperatureF\n",
      "Apr          61.956044\n",
      "Jul          68.934783\n",
      "Jan          32.133333\n",
      "Oct          43.434783\n",
      "     Mean TemperatureF\n",
      "Apr          61.956044\n",
      "Jan          32.133333\n",
      "Jul          68.934783\n",
      "Oct          43.434783\n",
      "     Mean TemperatureF\n",
      "Oct          43.434783\n",
      "Jul          68.934783\n",
      "Jan          32.133333\n",
      "Apr          61.956044\n",
      "     Mean TemperatureF\n",
      "Jan          32.133333\n",
      "Oct          43.434783\n",
      "Apr          61.956044\n",
      "Jul          68.934783\n"
     ]
    }
   ],
   "source": [
    "months = ['Apr', 'Jul', 'Jan', 'Oct']\n",
    "temp = [61.956044, 68.934783, 32.133333, 43.434783]\n",
    "mytemp = {'Mean TemperatureF': temp}\n",
    "weather1 = pd.DataFrame(mytemp)\n",
    "weather1.index=months\n",
    "print(weather1)\n",
    "\n",
    "# Sort the index of weather1 in alphabetical order: weather2\n",
    "weather2 = weather1.sort_index()\n",
    "\n",
    "# Print the head of weather2\n",
    "print(weather2.head())\n",
    "\n",
    "# Sort the index of weather1 in reverse alphabetical order: weather3\n",
    "weather3 = weather1.sort_index(ascending=False)\n",
    "\n",
    "# Print the head of weather3\n",
    "print(weather3.head())\n",
    "\n",
    "\n",
    "# Sort weather1 numerically using the values of 'Max TemperatureF': weather4\n",
    "weather4 = weather1.sort_values('Mean TemperatureF')\n",
    "\n",
    "# Print the head of weather4\n",
    "print(weather4.head())"
   ]
  }
 ],
 "metadata": {
  "kernelspec": {
   "display_name": "Python 3",
   "language": "python",
   "name": "python3"
  },
  "language_info": {
   "codemirror_mode": {
    "name": "ipython",
    "version": 3
   },
   "file_extension": ".py",
   "mimetype": "text/x-python",
   "name": "python",
   "nbconvert_exporter": "python",
   "pygments_lexer": "ipython3",
   "version": "3.7.3"
  }
 },
 "nbformat": 4,
 "nbformat_minor": 4
}
