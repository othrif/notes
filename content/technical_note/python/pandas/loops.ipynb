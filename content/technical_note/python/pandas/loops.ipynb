{
 "cells": [
  {
   "cell_type": "raw",
   "metadata": {},
   "source": [
    "---\n",
    "title: \"Loops with DataFrames\"\n",
    "date: 2020-04-12T14:41:32+02:00\n",
    "author: \"Othmane Rifki\"\n",
    "type: technical_note\n",
    "draft: false\n",
    "---"
   ]
  },
  {
   "cell_type": "markdown",
   "metadata": {},
   "source": [
    "#### Generate some data"
   ]
  },
  {
   "cell_type": "code",
   "execution_count": 1,
   "metadata": {},
   "outputs": [
    {
     "name": "stdout",
     "output_type": "stream",
     "text": [
      "           country  drives_right  cars_per_cap\n",
      "US   United States          True           809\n",
      "AUS      Australia         False           731\n",
      "JPN          Japan         False           588\n",
      "IN           India         False            18\n",
      "RU          Russia          True           200\n",
      "MOR        Morocco          True            70\n",
      "EG           Egypt          True            45\n"
     ]
    }
   ],
   "source": [
    "import pandas as pd\n",
    "\n",
    "# Build cars DataFrame\n",
    "names = ['United States', 'Australia', 'Japan', 'India', 'Russia', 'Morocco', 'Egypt']\n",
    "dr =  [True, False, False, False, True, True, True]\n",
    "cpc = [809, 731, 588, 18, 200, 70, 45]\n",
    "row_labels = ['US', 'AUS', 'JPN', 'IN', 'RU', 'MOR', 'EG']\n",
    "cars_dict = {'country':names, 'drives_right':dr, 'cars_per_cap':cpc }\n",
    "cars = pd.DataFrame(cars_dict)\n",
    "cars.index = row_labels\n",
    "cars2 = cars\n",
    "print(cars)"
   ]
  },
  {
   "cell_type": "markdown",
   "metadata": {},
   "source": [
    "### Loop over DataFrame\n",
    "Iterating over a Pandas DataFrame is typically done with the `iterrows()`     \n",
    "On every run, a Pandas Series is generated."
   ]
  },
  {
   "cell_type": "code",
   "execution_count": 2,
   "metadata": {},
   "outputs": [
    {
     "name": "stdout",
     "output_type": "stream",
     "text": [
      "US\n",
      "country         United States\n",
      "drives_right             True\n",
      "cars_per_cap              809\n",
      "Name: US, dtype: object\n",
      "AUS\n",
      "country         Australia\n",
      "drives_right        False\n",
      "cars_per_cap          731\n",
      "Name: AUS, dtype: object\n",
      "JPN\n",
      "country         Japan\n",
      "drives_right    False\n",
      "cars_per_cap      588\n",
      "Name: JPN, dtype: object\n",
      "IN\n",
      "country         India\n",
      "drives_right    False\n",
      "cars_per_cap       18\n",
      "Name: IN, dtype: object\n",
      "RU\n",
      "country         Russia\n",
      "drives_right      True\n",
      "cars_per_cap       200\n",
      "Name: RU, dtype: object\n",
      "MOR\n",
      "country         Morocco\n",
      "drives_right       True\n",
      "cars_per_cap         70\n",
      "Name: MOR, dtype: object\n",
      "EG\n",
      "country         Egypt\n",
      "drives_right     True\n",
      "cars_per_cap       45\n",
      "Name: EG, dtype: object\n"
     ]
    }
   ],
   "source": [
    "for lab, row in cars.iterrows() :\n",
    "    print(lab)\n",
    "    print(row)"
   ]
  },
  {
   "cell_type": "code",
   "execution_count": 3,
   "metadata": {},
   "outputs": [
    {
     "name": "stdout",
     "output_type": "stream",
     "text": [
      "US:809\n",
      "AUS:731\n",
      "JPN:588\n",
      "IN:18\n",
      "RU:200\n",
      "MOR:70\n",
      "EG:45\n"
     ]
    }
   ],
   "source": [
    "# Pick a specific element in the series\n",
    "for lab, row in cars.iterrows() :\n",
    "    print(lab+':'+str(row['cars_per_cap']))"
   ]
  },
  {
   "cell_type": "markdown",
   "metadata": {},
   "source": [
    "### Add a new column with for-loop\n",
    "Adding a new column with for-loop is not very efficient. On every iteration, you're creating a new Pandas Series."
   ]
  },
  {
   "cell_type": "code",
   "execution_count": 4,
   "metadata": {},
   "outputs": [
    {
     "name": "stdout",
     "output_type": "stream",
     "text": [
      "           country  drives_right  cars_per_cap        COUNTRY\n",
      "US   United States          True           809  UNITED STATES\n",
      "AUS      Australia         False           731      AUSTRALIA\n",
      "JPN          Japan         False           588          JAPAN\n",
      "IN           India         False            18          INDIA\n",
      "RU          Russia          True           200         RUSSIA\n",
      "MOR        Morocco          True            70        MOROCCO\n",
      "EG           Egypt          True            45          EGYPT\n"
     ]
    }
   ],
   "source": [
    "for lab,row in cars.iterrows():\n",
    "    cars.loc[lab,'COUNTRY'] = row['country'].upper()\n",
    "print(cars)"
   ]
  },
  {
   "cell_type": "code",
   "execution_count": 5,
   "metadata": {},
   "outputs": [
    {
     "name": "stdout",
     "output_type": "stream",
     "text": [
      "           country  drives_right  cars_per_cap        COUNTRY\n",
      "US   United States          True           809  UNITED STATES\n",
      "AUS      Australia         False           731      AUSTRALIA\n",
      "JPN          Japan         False           588          JAPAN\n",
      "IN           India         False            18          INDIA\n",
      "RU          Russia          True           200         RUSSIA\n",
      "MOR        Morocco          True            70        MOROCCO\n",
      "EG           Egypt          True            45          EGYPT\n"
     ]
    }
   ],
   "source": [
    "cars2['COUNTRY'] = cars['country'].apply(str.upper)\n",
    "print(cars)"
   ]
  },
  {
   "cell_type": "code",
   "execution_count": 6,
   "metadata": {},
   "outputs": [
    {
     "name": "stdout",
     "output_type": "stream",
     "text": [
      "           country  drives_right  cars_per_cap        COUNTRY  Length\n",
      "US   United States          True           809  UNITED STATES      13\n",
      "AUS      Australia         False           731      AUSTRALIA       9\n",
      "JPN          Japan         False           588          JAPAN       5\n",
      "IN           India         False            18          INDIA       5\n",
      "RU          Russia          True           200         RUSSIA       6\n",
      "MOR        Morocco          True            70        MOROCCO       7\n",
      "EG           Egypt          True            45          EGYPT       5\n"
     ]
    }
   ],
   "source": [
    "cars2['Length'] = cars['country'].apply(len)\n",
    "print(cars)"
   ]
  }
 ],
 "metadata": {
  "kernelspec": {
   "display_name": "Python 3",
   "language": "python",
   "name": "python3"
  },
  "language_info": {
   "codemirror_mode": {
    "name": "ipython",
    "version": 3
   },
   "file_extension": ".py",
   "mimetype": "text/x-python",
   "name": "python",
   "nbconvert_exporter": "python",
   "pygments_lexer": "ipython3",
   "version": "3.7.3"
  }
 },
 "nbformat": 4,
 "nbformat_minor": 4
}
