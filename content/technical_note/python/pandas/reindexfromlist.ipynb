{
 "cells": [
  {
   "cell_type": "raw",
   "metadata": {},
   "source": [
    "---\n",
    "title: \"Reindexing DataFrame from a list\"\n",
    "date: 2020-04-12T14:41:32+02:00\n",
    "author: \"Othmane Rifki\"\n",
    "type: technical_note\n",
    "draft: false\n",
    "---"
   ]
  },
  {
   "cell_type": "code",
   "execution_count": 39,
   "metadata": {},
   "outputs": [
    {
     "name": "stdout",
     "output_type": "stream",
     "text": [
      "     Mean TemperatureF\n",
      "Apr          61.956044\n",
      "Jul          68.934783\n",
      "Jan          32.133333\n",
      "Oct          43.434783\n"
     ]
    }
   ],
   "source": [
    "months = ['Apr', 'Jul', 'Jan', 'Oct']\n",
    "temp = [61.956044, 68.934783, 32.133333, 43.434783]\n",
    "mytemp = {'Mean TemperatureF': temp}\n",
    "weather1 = pd.DataFrame(mytemp)\n",
    "weather1.index=months\n",
    "print(weather1)\n"
   ]
  },
  {
   "cell_type": "code",
   "execution_count": 40,
   "metadata": {},
   "outputs": [],
   "source": [
    "year = ['Jan','Feb','Mar','Apr','May','Jun','Jul','Aug','Sep','Oct','Nov','Dec']\n"
   ]
  },
  {
   "cell_type": "code",
   "execution_count": 41,
   "metadata": {},
   "outputs": [
    {
     "name": "stdout",
     "output_type": "stream",
     "text": [
      "     Mean TemperatureF\n",
      "Jan          32.133333\n",
      "Feb                NaN\n",
      "Mar                NaN\n",
      "Apr          61.956044\n",
      "May                NaN\n",
      "Jun                NaN\n",
      "Jul          68.934783\n",
      "Aug                NaN\n",
      "Sep                NaN\n",
      "Oct          43.434783\n",
      "Nov                NaN\n",
      "Dec                NaN\n",
      "     Mean TemperatureF\n",
      "Jan          32.133333\n",
      "Feb          32.133333\n",
      "Mar          32.133333\n",
      "Apr          61.956044\n",
      "May          61.956044\n",
      "Jun          61.956044\n",
      "Jul          68.934783\n",
      "Aug          68.934783\n",
      "Sep          68.934783\n",
      "Oct          43.434783\n",
      "Nov          43.434783\n",
      "Dec          43.434783\n"
     ]
    }
   ],
   "source": [
    "# Import pandas\n",
    "import pandas as pd\n",
    "\n",
    "# Reindex weather1 using the list year: weather2\n",
    "weather2 = weather1.reindex(year)\n",
    "\n",
    "# Print weather2\n",
    "print(weather2)\n",
    "\n",
    "# Reindex weather1 using the list year with forward-fill: weather3\n",
    "weather3 = weather1.reindex(year).ffill()\n",
    "\n",
    "# Print weather3\n",
    "print(weather3)"
   ]
  },
  {
   "cell_type": "code",
   "execution_count": null,
   "metadata": {},
   "outputs": [],
   "source": []
  }
 ],
 "metadata": {
  "kernelspec": {
   "display_name": "Python 3",
   "language": "python",
   "name": "python3"
  },
  "language_info": {
   "codemirror_mode": {
    "name": "ipython",
    "version": 3
   },
   "file_extension": ".py",
   "mimetype": "text/x-python",
   "name": "python",
   "nbconvert_exporter": "python",
   "pygments_lexer": "ipython3",
   "version": "3.7.3"
  }
 },
 "nbformat": 4,
 "nbformat_minor": 4
}
