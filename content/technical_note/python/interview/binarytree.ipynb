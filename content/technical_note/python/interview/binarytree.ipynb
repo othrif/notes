{
 "cells": [
  {
   "cell_type": "raw",
   "metadata": {},
   "source": [
    "---\n",
    "title: \"Binary Tree\"\n",
    "date: 2020-04-12T14:41:32+02:00\n",
    "author: \"Othmane Rifki\"\n",
    "type: technical_note\n",
    "draft: false\n",
    "---"
   ]
  },
  {
   "cell_type": "markdown",
   "metadata": {},
   "source": [
    "# Implement a binary tree data structure"
   ]
  },
  {
   "cell_type": "code",
   "execution_count": 1,
   "metadata": {},
   "outputs": [
    {
     "name": "stdout",
     "output_type": "stream",
     "text": [
      "10\n",
      "33\n"
     ]
    }
   ],
   "source": [
    "class Node:\n",
    "    \n",
    "    def __init__(self, content=10):\n",
    "        self.content = content\n",
    "        self.right = None\n",
    "        self.left = None \n",
    "        \n",
    "    def sum_nodes(self):\n",
    "        \"\"\" Return the sum of contents in all nodes\"\"\"\n",
    "        sum = self.content\n",
    "        if self.right != None or self.left != None:\n",
    "            #do something\n",
    "            sum += self.right.sum_nodes() + self.left.sum_nodes()\n",
    "        #else:\n",
    "            #do something\n",
    "        return sum\n",
    "        \n",
    "    \n",
    "node = Node(10) \n",
    "print(node.content)\n",
    "\n",
    "node_right = Node(11)\n",
    "node_left = Node(12)\n",
    "\n",
    "node.right = node_right\n",
    "node.left = node_left \n",
    "\n",
    "print(node.sum_nodes())\n"
   ]
  }
 ],
 "metadata": {
  "kernelspec": {
   "display_name": "Python 3",
   "language": "python",
   "name": "python3"
  },
  "language_info": {
   "codemirror_mode": {
    "name": "ipython",
    "version": 3
   },
   "file_extension": ".py",
   "mimetype": "text/x-python",
   "name": "python",
   "nbconvert_exporter": "python",
   "pygments_lexer": "ipython3",
   "version": "3.7.3"
  }
 },
 "nbformat": 4,
 "nbformat_minor": 4
}
