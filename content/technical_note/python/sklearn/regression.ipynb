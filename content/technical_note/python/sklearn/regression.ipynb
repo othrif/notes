{
 "cells": [
  {
   "cell_type": "raw",
   "metadata": {},
   "source": [
    "---\n",
    "title: \"Regression and classification in Scikit-Learn\"\n",
    "date: 2020-04-12T14:41:32+02:00\n",
    "author: \"Othmane Rifki\"\n",
    "type: technical_note\n",
    "draft: false\n",
    "---"
   ]
  },
  {
   "cell_type": "markdown",
   "metadata": {},
   "source": [
    "### Linear regression\n",
    " make predictions, visualize the model fit, and analyze the formula used to generate your fit."
   ]
  },
  {
   "cell_type": "code",
   "execution_count": 135,
   "metadata": {},
   "outputs": [],
   "source": [
    "import pandas as pd\n",
    "import matplotlib.pyplot as plt\n",
    "weather = pd.read_csv('weatherAUS.csv')"
   ]
  },
  {
   "cell_type": "markdown",
   "metadata": {},
   "source": [
    "#### Prepare your data\n",
    "Do I have any null values in my dataset"
   ]
  },
  {
   "cell_type": "code",
   "execution_count": 145,
   "metadata": {},
   "outputs": [
    {
     "data": {
      "text/plain": [
       "True"
      ]
     },
     "execution_count": 145,
     "metadata": {},
     "output_type": "execute_result"
    }
   ],
   "source": [
    "any(weather.isnull())\n",
    "# For numpy\n",
    "# np.any(np.isnan(mat))\n",
    "# np.all(np.isfinite(mat))"
   ]
  },
  {
   "cell_type": "code",
   "execution_count": 155,
   "metadata": {},
   "outputs": [],
   "source": [
    "#weather = weather.fillna(method='ffill') # inpute missing values\n",
    "weather.dropna(inplace=True) # drop raws with null values, can loose important information\n",
    "weather_train = weather.sample(n=100) \n",
    "weather_test = weather.sample(n=1000)"
   ]
  },
  {
   "cell_type": "code",
   "execution_count": 156,
   "metadata": {},
   "outputs": [
    {
     "data": {
      "image/png": "[encoded data removed]",
      "text/plain": [
       "<Figure size 432x288 with 1 Axes>"
      ]
     },
     "metadata": {
      "needs_background": "light"
     },
     "output_type": "display_data"
    },
    {
     "name": "stdout",
     "output_type": "stream",
     "text": [
      "Coefficient: [0.72]\n"
     ]
    }
   ],
   "source": [
    "weather = weather_train\n",
    "import numpy as np\n",
    "import matplotlib.pyplot as plt\n",
    "from sklearn.linear_model import LinearRegression \n",
    "X = np.array(weather['Humidity9am']).reshape(-1,1)\n",
    "y = weather['Humidity3pm']\n",
    "\n",
    "\n",
    "# Create and fit your linear regression model\n",
    "lm = LinearRegression()\n",
    "lm.fit(X, y)\n",
    "\n",
    "# Assign and print predictions\n",
    "preds = lm.predict(X)\n",
    "\n",
    "# Plot your fit to visualize your model\n",
    "plt.scatter(X, y)\n",
    "plt.plot(X, preds, color='red')\n",
    "plt.show()\n",
    "\n",
    "# Assign and print coefficient \n",
    "coef = lm.coef_\n",
    "print(f'Coefficient: {np.round(coef,2)}')"
   ]
  },
  {
   "cell_type": "markdown",
   "metadata": {},
   "source": [
    "This means that for every 1 unit of humidity in the morning, we can expect about 0.71 units of humidity in the afternoon. More practically, this information tells us that humidity drops about 29% from morning to afternoon!"
   ]
  },
  {
   "cell_type": "code",
   "execution_count": 157,
   "metadata": {},
   "outputs": [
    {
     "name": "stdout",
     "output_type": "stream",
     "text": [
      "R-squared score: 0.43\n",
      "Mean squared error: 210.46\n",
      "Mean absolute error: 11.54\n"
     ]
    }
   ],
   "source": [
    "# R-squared score\n",
    "r2 = lm.score(X,y)\n",
    "print(f'R-squared score: {r2:.2f}')\n",
    "\n",
    "# Mean squared error\n",
    "from sklearn.metrics import mean_squared_error\n",
    "preds = lm.predict(X)\n",
    "mse = mean_squared_error(y, preds)\n",
    "print(f'Mean squared error: {mse:.2f}')\n",
    "\n",
    "# Mean absolute error\n",
    "from sklearn.metrics import mean_absolute_error\n",
    "preds = lm.predict(X)\n",
    "mae = mean_absolute_error(y, preds)\n",
    "print(f'Mean absolute error: {mae:.2f}')"
   ]
  },
  {
   "cell_type": "markdown",
   "metadata": {},
   "source": [
    "Note that our R-squared value tells us the percentage of the variance of y that X is responsible for. Which error metric would you recommend for this dataset? If you remember from when you plotted your model fit, there aren't too many outliers, so mean squared error would be a good choice to go with!"
   ]
  },
  {
   "cell_type": "markdown",
   "metadata": {},
   "source": [
    "##### Bias-Variance tradeoff"
   ]
  },
  {
   "cell_type": "code",
   "execution_count": 172,
   "metadata": {},
   "outputs": [
    {
     "data": {
      "image/png": "[encoded data removed]",
      "text/plain": [
       "<Figure size 432x288 with 1 Axes>"
      ]
     },
     "metadata": {
      "needs_background": "light"
     },
     "output_type": "display_data"
    },
    {
     "name": "stdout",
     "output_type": "stream",
     "text": [
      "R-squared score: 1.00\n"
     ]
    }
   ],
   "source": [
    "import operator\n",
    "from sklearn.preprocessing import PolynomialFeatures\n",
    "polynomial_features= PolynomialFeatures(degree=10)\n",
    "\n",
    "x_poly = polynomial_features.fit_transform(X)\n",
    "\n",
    "lm2 = LinearRegression()\n",
    "lm2.fit(x_poly, y)\n",
    "preds2 = lm2.predict(x_poly)\n",
    "\n",
    "\n",
    "plt.scatter(X, y)\n",
    "# sort the values of x before line plot\n",
    "sort_axis = operator.itemgetter(0)\n",
    "sorted_zip = sorted(zip(X,preds2), key=sort_axis)\n",
    "x, y_poly_pred = zip(*sorted_zip)\n",
    "plt.plot(x, y_poly_pred, color='m')\n",
    "plt.show()\n",
    "\n",
    "\n",
    "# R-squared score\n",
    "r2 = lm2.score(x_poly, preds2)\n",
    "print(f'R-squared score: {r2:.2f}')\n"
   ]
  },
  {
   "cell_type": "markdown",
   "metadata": {},
   "source": [
    "## Logistic regression"
   ]
  },
  {
   "cell_type": "code",
   "execution_count": 130,
   "metadata": {},
   "outputs": [],
   "source": [
    "import pandas as pd\n",
    "from sklearn import preprocessing \n",
    "def scaleX(df):\n",
    "    x = df.values #returns a numpy array\n",
    "    min_max_scaler = preprocessing.MinMaxScaler()\n",
    "    x_scaled = min_max_scaler.fit_transform(x)\n",
    "    return pd.DataFrame(x_scaled)"
   ]
  },
  {
   "cell_type": "code",
   "execution_count": 131,
   "metadata": {},
   "outputs": [],
   "source": [
    "X_train = np.array(scaleX(weather_train.loc[:,['Humidity9am','Humidity3pm']])).reshape(-1,2)\n",
    "y_train = np.array(weather_train['RainTomorrow'])\n",
    "y_train = (y_train=='Yes').astype(int)"
   ]
  },
  {
   "cell_type": "code",
   "execution_count": 132,
   "metadata": {},
   "outputs": [],
   "source": [
    "X_test = np.array(scaleX(weather_test.loc[:,['Humidity9am','Humidity3pm']])).reshape(-1,2)\n",
    "y_test = np.array(weather_test['RainTomorrow'])\n",
    "y_test = (y_test=='Yes').astype(int)"
   ]
  },
  {
   "cell_type": "code",
   "execution_count": 133,
   "metadata": {},
   "outputs": [
    {
     "name": "stdout",
     "output_type": "stream",
     "text": [
      "Accuracy: 0.83\n",
      "Coefficient: [[0.05 6.81]]\n"
     ]
    }
   ],
   "source": [
    "from sklearn.linear_model import LogisticRegression\n",
    "# Create and fit your model\n",
    "clf = LogisticRegression()\n",
    "clf.fit(X_train, y_train)\n",
    "\n",
    "# Compute and print the accuracy\n",
    "acc = clf.score(X_test, y_test)\n",
    "print(f'Accuracy: {np.round(acc,2)}')\n",
    "\n",
    "# Assign and print the coefficents\n",
    "coefs = clf.coef_\n",
    "print(f'Coefficient: {np.round(coefs,2)}')"
   ]
  },
  {
   "cell_type": "markdown",
   "metadata": {},
   "source": [
    "Since our features were normalized beforehand, we can look at the magnitude of our coefficients to tell us the importance of each independent variable. Here you can see the the second variable, Humidity3pm was much more important to our outcome than humidity from that morning. This is intuitive since we are trying to predict the rain for tomorrow!"
   ]
  },
  {
   "cell_type": "code",
   "execution_count": 134,
   "metadata": {},
   "outputs": [
    {
     "name": "stdout",
     "output_type": "stream",
     "text": [
      "Confusion matrix: [[7508  262]\n",
      " [1440  790]]\n",
      "Precision: 0.75\n",
      "Recall: 0.35\n"
     ]
    }
   ],
   "source": [
    "# Generate and output the confusion matrix\n",
    "from sklearn.metrics import confusion_matrix\n",
    "preds = clf.predict(X_test)\n",
    "matrix = confusion_matrix(y_test, preds)\n",
    "print(f'Confusion matrix: {np.round(matrix,2)}')\n",
    "\n",
    "# Compute and print the precision\n",
    "from sklearn.metrics import precision_score\n",
    "preds = clf.predict(X_test)\n",
    "precision = precision_score(y_test, preds)\n",
    "print(f'Precision: {np.round(precision,2)}')\n",
    "\n",
    "# Compute and print the recall\n",
    "from sklearn.metrics import recall_score\n",
    "preds = clf.predict(X_test)\n",
    "recall = recall_score(y_test, preds)\n",
    "print(f'Recall: {np.round(recall,2)}')"
   ]
  },
  {
   "cell_type": "markdown",
   "metadata": {},
   "source": [
    "You can see here that the precision of our rain prediction model is higher, meaning that we didn't make too many Type I errors. However, there were plenty of Type II errors shown in the bottom-left quadrant of the confusion matrix. This is indicated further by the low recall score, meaning that there were plenty of rainy days that we missed out on. "
   ]
  }
 ],
 "metadata": {
  "kernelspec": {
   "display_name": "Python 3",
   "language": "python",
   "name": "python3"
  },
  "language_info": {
   "codemirror_mode": {
    "name": "ipython",
    "version": 3
   },
   "file_extension": ".py",
   "mimetype": "text/x-python",
   "name": "python",
   "nbconvert_exporter": "python",
   "pygments_lexer": "ipython3",
   "version": "3.7.3"
  }
 },
 "nbformat": 4,
 "nbformat_minor": 4
}
