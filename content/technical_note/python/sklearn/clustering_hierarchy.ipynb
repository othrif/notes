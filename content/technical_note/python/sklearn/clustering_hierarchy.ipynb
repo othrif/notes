{
 "cells": [
  {
   "cell_type": "raw",
   "metadata": {},
   "source": [
    "---\n",
    "title: \"Agglomerative Hiearchial clustering with scipy\"\n",
    "date: 2020-04-12T14:41:32+02:00\n",
    "author: \"Othmane Rifki\"\n",
    "type: technical_note\n",
    "draft: false\n",
    "---"
   ]
  },
  {
   "cell_type": "markdown",
   "metadata": {},
   "source": [
    "- Begin with a seperate cluster, at each step merge the the two closest clusters"
   ]
  },
  {
   "cell_type": "code",
   "execution_count": 37,
   "metadata": {},
   "outputs": [],
   "source": [
    "import pandas as pd\n",
    "import numpy as np\n",
    "df = pd.read_csv('Grains/seeds.csv', header=None)\n",
    "df = df.sample(n=50)\n",
    "samples = df.iloc[:,:-1].to_numpy()\n",
    "labels = df.iloc[:,-1].to_numpy()-1\n",
    "label_names = np.array(['Kama wheat', 'Rosa wheat', 'Canadian wheat'])\n",
    "varieties = label_names[labels]"
   ]
  },
  {
   "cell_type": "code",
   "execution_count": 38,
   "metadata": {},
   "outputs": [
    {
     "data": {
      "image/png": "[encoded data removed]",
      "text/plain": [
       "<Figure size 1440x360 with 1 Axes>"
      ]
     },
     "metadata": {
      "needs_background": "light"
     },
     "output_type": "display_data"
    }
   ],
   "source": [
    "# Perform the necessary imports\n",
    "from scipy.cluster.hierarchy import linkage, dendrogram\n",
    "import matplotlib.pyplot as plt\n",
    "\n",
    "# Calculate the linkage: mergings\n",
    "mergings = linkage(samples, method='complete')\n",
    "\n",
    "# Plot the dendrogram, using varieties as labels\n",
    "fig, ax = plt.subplots(figsize=(20,5))\n",
    "dendrogram(mergings,\n",
    "           labels=varieties,\n",
    "           leaf_rotation=90,\n",
    "           leaf_font_size=12,\n",
    ")\n",
    "fig\n",
    "plt.show()\n"
   ]
  },
  {
   "cell_type": "markdown",
   "metadata": {},
   "source": [
    "### Hierarchical clustering\n",
    "Several methods of clustering:\n",
    "- `complete`: farthest elements of each cluster\n",
    "- `single`: closest elements of each cluster\n",
    "- Note height of dendrogram is the distance between clusters, the merging point is the distance between them"
   ]
  },
  {
   "cell_type": "code",
   "execution_count": 44,
   "metadata": {},
   "outputs": [
    {
     "name": "stdout",
     "output_type": "stream",
     "text": [
      "[2 1 3 3 1 2 3 3 3 3 1 3 3 3 3 2 2 2 2 1 3 3 3 3 1 2 3 1 3 3 1 3 1 3 3 2 3\n",
      " 3 3 3 3 1 2 2 3 2 2 1 3 3]\n",
      "['Canadian wheat' 'Rosa wheat' 'Kama wheat' 'Kama wheat' 'Rosa wheat'\n",
      " 'Canadian wheat' 'Rosa wheat' 'Kama wheat' 'Canadian wheat'\n",
      " 'Canadian wheat' 'Rosa wheat' 'Kama wheat' 'Kama wheat' 'Kama wheat'\n",
      " 'Kama wheat' 'Canadian wheat' 'Canadian wheat' 'Canadian wheat'\n",
      " 'Canadian wheat' 'Rosa wheat' 'Kama wheat' 'Kama wheat' 'Kama wheat'\n",
      " 'Kama wheat' 'Rosa wheat' 'Canadian wheat' 'Kama wheat' 'Rosa wheat'\n",
      " 'Kama wheat' 'Kama wheat' 'Rosa wheat' 'Kama wheat' 'Rosa wheat'\n",
      " 'Kama wheat' 'Kama wheat' 'Canadian wheat' 'Kama wheat' 'Kama wheat'\n",
      " 'Kama wheat' 'Kama wheat' 'Rosa wheat' 'Rosa wheat' 'Canadian wheat'\n",
      " 'Canadian wheat' 'Kama wheat' 'Canadian wheat' 'Canadian wheat'\n",
      " 'Rosa wheat' 'Kama wheat' 'Canadian wheat']\n",
      "varieties  Canadian wheat  Kama wheat  Rosa wheat\n",
      "labels                                           \n",
      "1                       0           0          10\n",
      "2                      12           0           0\n",
      "3                       3          23           2\n"
     ]
    }
   ],
   "source": [
    "# Perform the necessary imports\n",
    "import pandas as pd\n",
    "from scipy.cluster.hierarchy import fcluster\n",
    "\n",
    "# Use fcluster to extract labels: labels\n",
    "labels = fcluster(mergings, 7, criterion='distance')\n",
    "\n",
    "# Create a DataFrame with labels and varieties as columns: df\n",
    "df = pd.DataFrame({'labels': labels, 'varieties': varieties})\n",
    "\n",
    "# Create crosstab: ct\n",
    "ct = pd.crosstab(df['labels'], df['varieties'])\n",
    "\n",
    "# Display ct\n",
    "print(ct)"
   ]
  }
 ],
 "metadata": {
  "kernelspec": {
   "display_name": "Python 3",
   "language": "python",
   "name": "python3"
  },
  "language_info": {
   "codemirror_mode": {
    "name": "ipython",
    "version": 3
   },
   "file_extension": ".py",
   "mimetype": "text/x-python",
   "name": "python",
   "nbconvert_exporter": "python",
   "pygments_lexer": "ipython3",
   "version": "3.7.3"
  }
 },
 "nbformat": 4,
 "nbformat_minor": 4
}
