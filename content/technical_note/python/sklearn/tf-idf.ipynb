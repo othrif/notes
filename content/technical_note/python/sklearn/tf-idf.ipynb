{
 "cells": [
  {
   "cell_type": "raw",
   "metadata": {},
   "source": [
    "---\n",
    "title: \"A tf-idf word-frequency array and mining Wikipedia\"\n",
    "date: 2020-04-12T14:41:32+02:00\n",
    "author: \"Othmane Rifki\"\n",
    "type: technical_note\n",
    "draft: false\n",
    "---"
   ]
  },
  {
   "cell_type": "markdown",
   "metadata": {},
   "source": [
    "tf–idf or TFIDF, short for term frequency–inverse document frequency, is a numerical statistic that is intended to reflect how important a word is to a document in a collection or corpus."
   ]
  },
  {
   "cell_type": "markdown",
   "metadata": {},
   "source": [
    "### TfidfVectorizer\n",
    "`TfidfVectorizer` from sklearn. It transforms a list of documents into a word frequency array, which it outputs as a csr_matrix. It has fit() and transform() methods like other sklearn objects."
   ]
  },
  {
   "cell_type": "code",
   "execution_count": 148,
   "metadata": {},
   "outputs": [],
   "source": [
    "documents = ['cats say meow', 'dogs say woof', 'dogs chase cats']"
   ]
  },
  {
   "cell_type": "code",
   "execution_count": 149,
   "metadata": {},
   "outputs": [
    {
     "name": "stdout",
     "output_type": "stream",
     "text": [
      "[[0.51785612 0.         0.         0.68091856 0.51785612 0.        ]\n",
      " [0.         0.         0.51785612 0.         0.51785612 0.68091856]\n",
      " [0.51785612 0.68091856 0.51785612 0.         0.         0.        ]]\n",
      "['cats', 'chase', 'dogs', 'meow', 'say', 'woof']\n"
     ]
    }
   ],
   "source": [
    "# Import TfidfVectorizer\n",
    "from sklearn.feature_extraction.text import TfidfVectorizer\n",
    "\n",
    "# Create a TfidfVectorizer: tfidf\n",
    "tfidf = TfidfVectorizer() \n",
    "\n",
    "# Apply fit_transform to document: csr_mat\n",
    "csr_mat = tfidf.fit_transform(documents)\n",
    "\n",
    "# Print result of toarray() method\n",
    "print(csr_mat.toarray())\n",
    "\n",
    "# Get the words: words\n",
    "words = tfidf.get_feature_names()\n",
    "\n",
    "# Print words\n",
    "print(words)\n"
   ]
  },
  {
   "cell_type": "markdown",
   "metadata": {},
   "source": [
    "### Mining Wikipedia"
   ]
  },
  {
   "cell_type": "code",
   "execution_count": 154,
   "metadata": {},
   "outputs": [],
   "source": [
    "import pandas as pd\n",
    "from scipy.sparse import csr_matrix\n",
    "\n",
    "df = pd.read_csv('wikipedia/wikipedia-vectors.csv', index_col=0)\n",
    "articles = csr_matrix(df.transpose())\n",
    "titles = list(df.columns)"
   ]
  },
  {
   "cell_type": "code",
   "execution_count": 155,
   "metadata": {},
   "outputs": [],
   "source": [
    "# Perform the necessary imports\n",
    "from sklearn.decomposition import TruncatedSVD\n",
    "from sklearn.cluster import KMeans\n",
    "from sklearn.pipeline import make_pipeline\n",
    "\n",
    "# Create a TruncatedSVD instance: svd\n",
    "svd = TruncatedSVD(n_components=50)\n",
    "\n",
    "# Create a KMeans instance: kmeans\n",
    "kmeans = KMeans(n_clusters=6)\n",
    "\n",
    "# Create a pipeline: pipeline\n",
    "pipeline = make_pipeline(svd, kmeans)\n"
   ]
  },
  {
   "cell_type": "code",
   "execution_count": 156,
   "metadata": {},
   "outputs": [
    {
     "name": "stdout",
     "output_type": "stream",
     "text": [
      "    label                                        article\n",
      "59      0                                    Adam Levine\n",
      "50      0                                   Chad Kroeger\n",
      "51      0                                     Nate Ruess\n",
      "52      0                                     The Wanted\n",
      "53      0                                   Stevie Nicks\n",
      "58      0                                         Sepsis\n",
      "55      0                                  Black Sabbath\n",
      "56      0                                       Skrillex\n",
      "57      0                          Red Hot Chili Peppers\n",
      "54      0                                 Arctic Monkeys\n",
      "21      1                             Michael Fassbender\n",
      "28      1                                  Anne Hathaway\n",
      "27      1                                 Dakota Fanning\n",
      "26      1                                     Mila Kunis\n",
      "25      1                                  Russell Crowe\n",
      "24      1                                   Jessica Biel\n",
      "23      1                           Catherine Zeta-Jones\n",
      "22      1                              Denzel Washington\n",
      "20      1                                 Angelina Jolie\n",
      "29      1                               Jennifer Aniston\n",
      "0       2                                       HTTP 404\n",
      "1       2                                 Alexa Internet\n",
      "2       2                              Internet Explorer\n",
      "3       2                                    HTTP cookie\n",
      "4       2                                  Google Search\n",
      "5       2                                         Tumblr\n",
      "6       2                    Hypertext Transfer Protocol\n",
      "7       2                                  Social search\n",
      "8       2                                        Firefox\n",
      "9       2                                       LinkedIn\n",
      "38      3                                         Neymar\n",
      "37      3                                       Football\n",
      "36      3              2014 FIFA World Cup qualification\n",
      "35      3                Colombia national football team\n",
      "39      3                                  Franck Ribéry\n",
      "33      3                                 Radamel Falcao\n",
      "32      3                                   Arsenal F.C.\n",
      "31      3                              Cristiano Ronaldo\n",
      "30      3                  France national football team\n",
      "34      3                             Zlatan Ibrahimović\n",
      "49      4                                       Lymphoma\n",
      "48      4                                     Gabapentin\n",
      "46      4                                     Prednisone\n",
      "45      4                                    Hepatitis C\n",
      "47      4                                          Fever\n",
      "43      4                                       Leukemia\n",
      "42      4                                    Doxycycline\n",
      "41      4                                    Hepatitis B\n",
      "40      4                                    Tonsillitis\n",
      "44      4                                           Gout\n",
      "19      5  2007 United Nations Climate Change Conference\n",
      "10      5                                 Global warming\n",
      "11      5       Nationally Appropriate Mitigation Action\n",
      "12      5                                   Nigel Lawson\n",
      "13      5                               Connie Hedegaard\n",
      "14      5                                 Climate change\n",
      "15      5                                 Kyoto Protocol\n",
      "16      5                                        350.org\n",
      "17      5  Greenhouse gas emissions by the United States\n",
      "18      5  2010 United Nations Climate Change Conference\n"
     ]
    }
   ],
   "source": [
    "# Import pandas\n",
    "import pandas as pd\n",
    "\n",
    "# Fit the pipeline to articles\n",
    "pipeline.fit(articles)\n",
    "\n",
    "# Calculate the cluster labels: labels\n",
    "labels = pipeline.predict(articles)\n",
    "\n",
    "# Create a DataFrame aligning labels and titles: df\n",
    "df = pd.DataFrame({'label': labels, 'article': titles})\n",
    "\n",
    "# Display df sorted by cluster label\n",
    "print(df.sort_values('label'))\n"
   ]
  }
 ],
 "metadata": {
  "kernelspec": {
   "display_name": "Python 3",
   "language": "python",
   "name": "python3"
  },
  "language_info": {
   "codemirror_mode": {
    "name": "ipython",
    "version": 3
   },
   "file_extension": ".py",
   "mimetype": "text/x-python",
   "name": "python",
   "nbconvert_exporter": "python",
   "pygments_lexer": "ipython3",
   "version": "3.7.3"
  }
 },
 "nbformat": 4,
 "nbformat_minor": 4
}
