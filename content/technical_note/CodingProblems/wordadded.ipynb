{
 "cells": [
  {
   "cell_type": "raw",
   "metadata": {},
   "source": [
    "---\n",
    "title: \"Find the word added to a sentence\"\n",
    "date: 2020-04-12T14:41:32+02:00\n",
    "author: \"Othmane Rifki\"\n",
    "type: technical_note\n",
    "draft: false\n",
    "---"
   ]
  },
  {
   "cell_type": "code",
   "execution_count": 23,
   "metadata": {},
   "outputs": [],
   "source": [
    "class Solution():\n",
    "    \n",
    "    def __init__(self, sent1,sent2):\n",
    "        self.sent1=sent1.split()\n",
    "        self.sent2=sent2.split()\n",
    "    \n",
    "    def extra_word(self):\n",
    "        found={}\n",
    "        for s1 in self.sent1:\n",
    "            if s1 in found:\n",
    "                found[s1]+=1\n",
    "            else:\n",
    "                found[s1]=1\n",
    "        for s2 in self.sent2:\n",
    "            if s2 in found:\n",
    "                found[s2]-=1\n",
    "            else:\n",
    "                return s2\n",
    "        print(found)\n",
    "            \n",
    "        "
   ]
  },
  {
   "cell_type": "code",
   "execution_count": 27,
   "metadata": {},
   "outputs": [
    {
     "name": "stdout",
     "output_type": "stream",
     "text": [
      "{'this': 0, 'is': 0, 'a': -1, 'dog': 0}\n"
     ]
    }
   ],
   "source": [
    "test1=Solution('this is a dog','this is a a dog')\n",
    "test1.extra_word()"
   ]
  },
  {
   "cell_type": "code",
   "execution_count": 26,
   "metadata": {},
   "outputs": [
    {
     "data": {
      "text/plain": [
       "'hard'"
      ]
     },
     "execution_count": 26,
     "metadata": {},
     "output_type": "execute_result"
    }
   ],
   "source": [
    "test2=Solution('Can you solve algorithm questions','Can you solve hard algorithm questions')\n",
    "test2.extra_word()"
   ]
  },
  {
   "cell_type": "code",
   "execution_count": null,
   "metadata": {},
   "outputs": [],
   "source": []
  }
 ],
 "metadata": {
  "kernelspec": {
   "display_name": "Python 3",
   "language": "python",
   "name": "python3"
  },
  "language_info": {
   "codemirror_mode": {
    "name": "ipython",
    "version": 3
   },
   "file_extension": ".py",
   "mimetype": "text/x-python",
   "name": "python",
   "nbconvert_exporter": "python",
   "pygments_lexer": "ipython3",
   "version": "3.7.3"
  }
 },
 "nbformat": 4,
 "nbformat_minor": 4
}
