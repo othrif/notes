{
 "cells": [
  {
   "cell_type": "raw",
   "metadata": {},
   "source": [
    "---\n",
    "title: \"Look-elsewhere effect\"\n",
    "date: 2020-04-12T14:41:32+02:00\n",
    "author: \"Othmane Rifki\"\n",
    "type: technical_note\n",
    "draft: false\n",
    "---"
   ]
  },
  {
   "cell_type": "markdown",
   "metadata": {},
   "source": [
    "The probability of encountering an error is still extremely high. This is where the Bonferroni correction comes in. While a bit conservative, it controls the family-wise error rate for circumstances like these to avoid the high probability of a Type I error. "
   ]
  },
  {
   "cell_type": "code",
   "execution_count": 24,
   "metadata": {},
   "outputs": [
    {
     "name": "stdout",
     "output_type": "stream",
     "text": [
      "0.953930201013048\n"
     ]
    }
   ],
   "source": [
    "# Print error rate for 60 tests with 5% significance\n",
    "error_rate = 1 - (.95**(60))\n",
    "print(error_rate)"
   ]
  },
  {
   "cell_type": "code",
   "execution_count": 25,
   "metadata": {},
   "outputs": [
    {
     "name": "stdout",
     "output_type": "stream",
     "text": [
      "0.7853612360570628\n"
     ]
    }
   ],
   "source": [
    "# Print error rate for 30 tests with 5% significance\n",
    "error_rate = 1 - (.95**(30))\n",
    "print(error_rate)"
   ]
  },
  {
   "cell_type": "code",
   "execution_count": 26,
   "metadata": {},
   "outputs": [
    {
     "name": "stdout",
     "output_type": "stream",
     "text": [
      "0.4012630607616213\n"
     ]
    }
   ],
   "source": [
    "# Print error rate for 10 tests with 5% significance\n",
    "error_rate = 1 - (.95**(10))\n",
    "print(error_rate)"
   ]
  },
  {
   "cell_type": "markdown",
   "metadata": {},
   "source": [
    "### Bonferroni correction\n",
    "Let's implement multiple hypothesis tests using the Bonferroni correction approach that we discussed in the slides. You'll use the imported `multipletests()` function in order to achieve this.\n",
    "\n",
    "Use a single-test significance level of .05 and observe how the Bonferroni correction affects our sample list of p-values already created."
   ]
  },
  {
   "cell_type": "code",
   "execution_count": 27,
   "metadata": {},
   "outputs": [
    {
     "name": "stdout",
     "output_type": "stream",
     "text": [
      "[ True False False False False]\n",
      "[0.05 0.25 0.5  1.   1.  ]\n"
     ]
    }
   ],
   "source": [
    "from statsmodels.sandbox.stats.multicomp import multipletests\n",
    "pvals = [.01, .05, .10, .50, .99]\n",
    "\n",
    "# Create a list of the adjusted p-values\n",
    "p_adjusted = multipletests(pvals, alpha=0.05, method='bonferroni')\n",
    "\n",
    "# Print the resulting conclusions\n",
    "print(p_adjusted[0])\n",
    "\n",
    "# Print the adjusted p-values themselves \n",
    "print(p_adjusted[1])"
   ]
  },
  {
   "cell_type": "markdown",
   "metadata": {},
   "source": [
    "As you can see, the Bonferroni correction did it's job and corrected the family-wise error rate for our 5 hypothesis test results. In the end, only one of the tests remained signficant. There are other methods to do tjhis test:\n",
    "- Sidak correction\n",
    "- Step-based procedures \n",
    "- Tukey’s procedure\n",
    "- Dunnet’s correction\n"
   ]
  }
 ],
 "metadata": {
  "kernelspec": {
   "display_name": "Python 3",
   "language": "python",
   "name": "python3"
  },
  "language_info": {
   "codemirror_mode": {
    "name": "ipython",
    "version": 3
   },
   "file_extension": ".py",
   "mimetype": "text/x-python",
   "name": "python",
   "nbconvert_exporter": "python",
   "pygments_lexer": "ipython3",
   "version": "3.7.3"
  }
 },
 "nbformat": 4,
 "nbformat_minor": 4
}
