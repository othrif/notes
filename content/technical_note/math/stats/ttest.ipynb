{
 "cells": [
  {
   "cell_type": "raw",
   "metadata": {},
   "source": [
    "---\n",
    "title: \"Perform a t-test\"\n",
    "date: 2020-04-12T14:41:32+02:00\n",
    "author: \"Othmane Rifki\"\n",
    "type: technical_note\n",
    "draft: false\n",
    "---"
   ]
  },
  {
   "cell_type": "code",
   "execution_count": 43,
   "metadata": {},
   "outputs": [],
   "source": [
    "import pandas as pd\n",
    "laptops = pd.read_csv('laptops.csv' , encoding='latin-1', index_col=0) # added encoding because of errors\n",
    "laptops = laptops.loc[laptops['Company'].isin(['Asus', 'Toshiba'])]\n",
    "laptops = laptops[['Company','Price_euros']]\n",
    "laptops.columns = ['Company', 'Price']"
   ]
  },
  {
   "cell_type": "code",
   "execution_count": 45,
   "metadata": {},
   "outputs": [
    {
     "name": "stdout",
     "output_type": "stream",
     "text": [
      "               Price\n",
      "Company             \n",
      "Asus     1104.169367\n",
      "Toshiba  1267.812500\n"
     ]
    }
   ],
   "source": [
    "# Display the mean price for each group\n",
    "prices = laptops.groupby('Company').mean()\n",
    "print(prices)"
   ]
  },
  {
   "cell_type": "code",
   "execution_count": 47,
   "metadata": {},
   "outputs": [
    {
     "name": "stdout",
     "output_type": "stream",
     "text": [
      "0.133\n"
     ]
    }
   ],
   "source": [
    "# Assign the prices of each group\n",
    "asus = laptops[laptops['Company'] == 'Asus']['Price']\n",
    "toshiba = laptops[laptops['Company'] == 'Toshiba']['Price']\n",
    "\n",
    "# Run the t-test\n",
    "from scipy.stats import ttest_ind\n",
    "tstat, pval = ttest_ind(asus, toshiba)\n",
    "print('{0:0.3f}'.format(pval))"
   ]
  },
  {
   "cell_type": "markdown",
   "metadata": {},
   "source": [
    "With a p-value of .133, we cannot reject the null hypothesis! There's not enough evidence here to conclude that Toshiba laptops are significantly more expensive than Asus. With that being said, .133 is fairly close to reasonable significance so we may want to run another test or examine this further."
   ]
  }
 ],
 "metadata": {
  "kernelspec": {
   "display_name": "Python 3",
   "language": "python",
   "name": "python3"
  },
  "language_info": {
   "codemirror_mode": {
    "name": "ipython",
    "version": 3
   },
   "file_extension": ".py",
   "mimetype": "text/x-python",
   "name": "python",
   "nbconvert_exporter": "python",
   "pygments_lexer": "ipython3",
   "version": "3.7.3"
  }
 },
 "nbformat": 4,
 "nbformat_minor": 4
}
