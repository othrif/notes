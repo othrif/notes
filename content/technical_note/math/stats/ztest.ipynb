{
 "cells": [
  {
   "cell_type": "raw",
   "metadata": {},
   "source": [
    "---\n",
    "title: \"Perform a z-test\"\n",
    "date: 2020-04-12T14:41:32+02:00\n",
    "author: \"Othmane Rifki\"\n",
    "type: technical_note\n",
    "draft: false\n",
    "---"
   ]
  },
  {
   "cell_type": "code",
   "execution_count": 28,
   "metadata": {},
   "outputs": [
    {
     "name": "stdout",
     "output_type": "stream",
     "text": [
      "p-value=0.695, sig=0.392 sigma\n"
     ]
    }
   ],
   "source": [
    "from statsmodels.stats.proportion import proportions_ztest\n",
    "count = 5\n",
    "nobs = 83\n",
    "value = .05\n",
    "stat, pval = proportions_ztest(count, nobs, value)\n",
    "print(f'p-value={pval:0.3f}, sig={stat:0.3f} sigma')"
   ]
  },
  {
   "cell_type": "code",
   "execution_count": 30,
   "metadata": {},
   "outputs": [
    {
     "name": "stdout",
     "output_type": "stream",
     "text": [
      "p-value=0.159, sig=-1.408 sigma\n"
     ]
    }
   ],
   "source": [
    "import numpy as np\n",
    "from statsmodels.stats.proportion import proportions_ztest\n",
    "count = np.array([5, 12])\n",
    "nobs = np.array([83, 99])\n",
    "stat, pval = proportions_ztest(count, nobs)\n",
    "print(f'p-value={pval:0.3f}, sig={stat:0.3f} sigma')"
   ]
  },
  {
   "cell_type": "markdown",
   "metadata": {},
   "source": [
    "### Example"
   ]
  },
  {
   "cell_type": "code",
   "execution_count": 16,
   "metadata": {},
   "outputs": [
    {
     "name": "stdout",
     "output_type": "stream",
     "text": [
      "           Converted\n",
      "Group               \n",
      "control     0.120399\n",
      "treatment   0.118920\n"
     ]
    }
   ],
   "source": [
    "import pandas as pd\n",
    "results = pd.read_csv('ab_data.csv' , encoding='latin-1', index_col=0) # added encoding because of errors\n",
    "results = results[['group','converted']]\n",
    "results.columns = ['Group','Converted']\n",
    "# Assign and print the conversion rate for each group\n",
    "conv_rates = results.groupby('Group').mean()\n",
    "print(conv_rates)"
   ]
  },
  {
   "cell_type": "code",
   "execution_count": 17,
   "metadata": {},
   "outputs": [
    {
     "name": "stdout",
     "output_type": "stream",
     "text": [
      "p-value=0.892, sig=-1.237 sigma\n"
     ]
    }
   ],
   "source": [
    "# Assign the number of conversions and total trials\n",
    "num_control = results[results['Group'] == 'control']['Converted'].sum()\n",
    "total_control = len(results[results['Group'] == 'control'])\n",
    "\n",
    "# Assign the number of conversions and total trials\n",
    "num_treat = results[results['Group'] == 'treatment']['Converted'].sum()\n",
    "total_treat = len(results[results['Group'] == 'treatment'])\n",
    "\n",
    "import numpy as np\n",
    "from statsmodels.stats.proportion import proportions_ztest\n",
    "count = np.array([num_treat, num_control]) \n",
    "nobs = np.array([total_treat, total_control])\n",
    "\n",
    "# Run the z-test and print the result \n",
    "stat, pval = proportions_ztest(count, nobs, alternative=\"larger\")\n",
    "print(f'p-value={pval:0.3f}, sig={stat:0.3f} sigma')"
   ]
  },
  {
   "cell_type": "markdown",
   "metadata": {},
   "source": [
    "p-value > 0.05, cannot reject the null hypothesis"
   ]
  }
 ],
 "metadata": {
  "kernelspec": {
   "display_name": "Python 3",
   "language": "python",
   "name": "python3"
  },
  "language_info": {
   "codemirror_mode": {
    "name": "ipython",
    "version": 3
   },
   "file_extension": ".py",
   "mimetype": "text/x-python",
   "name": "python",
   "nbconvert_exporter": "python",
   "pygments_lexer": "ipython3",
   "version": "3.7.3"
  }
 },
 "nbformat": 4,
 "nbformat_minor": 4
}
