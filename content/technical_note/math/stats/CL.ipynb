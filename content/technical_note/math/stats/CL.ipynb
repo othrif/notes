{
 "cells": [
  {
   "cell_type": "raw",
   "metadata": {},
   "source": [
    "---\n",
    "title: \"Confidence Interval\"\n",
    "date: 2020-04-12T14:41:32+02:00\n",
    "author: \"Othmane Rifki\"\n",
    "type: technical_note\n",
    "draft: false\n",
    "---"
   ]
  },
  {
   "cell_type": "code",
   "execution_count": 1,
   "metadata": {},
   "outputs": [
    {
     "name": "stdout",
     "output_type": "stream",
     "text": [
      "1.036756838522439\n",
      "4.9632431614775605\n"
     ]
    }
   ],
   "source": [
    "from scipy.stats import sem, t\n",
    "data = [1, 2, 3, 4, 5]\n",
    "confidence = 0.95\n",
    "z_score = 2.7764451051977987\n",
    "sample_mean = 3.0\n",
    "\n",
    "# Compute the standard error and margin of error\n",
    "std_err = sem(data)\n",
    "margin_error = std_err * z_score\n",
    "\n",
    "# Compute and print the lower threshold\n",
    "lower = sample_mean - margin_error\n",
    "print(lower)\n",
    "\n",
    "# Compute and print the upper threshold\n",
    "upper = sample_mean + margin_error\n",
    "print(upper)"
   ]
  },
  {
   "cell_type": "code",
   "execution_count": 9,
   "metadata": {},
   "outputs": [
    {
     "name": "stdout",
     "output_type": "stream",
     "text": [
      "(0.35844514241179504, 0.721554857588205)\n"
     ]
    }
   ],
   "source": [
    "from statsmodels.stats.proportion import proportion_confint\n",
    "# Compute and print the 99% confidence interval\n",
    "heads = 27\n",
    "confidence_int = proportion_confint(heads, 50, 0.01)\n",
    "print(confidence_int)"
   ]
  },
  {
   "cell_type": "code",
   "execution_count": 10,
   "metadata": {},
   "outputs": [
    {
     "name": "stdout",
     "output_type": "stream",
     "text": [
      "(0.42406406993539053, 0.6559359300646095)\n"
     ]
    }
   ],
   "source": [
    "# Compute and print the 90% confidence interval\n",
    "confidence_int = proportion_confint(heads, 50, 0.1)\n",
    "print(confidence_int)"
   ]
  },
  {
   "cell_type": "code",
   "execution_count": 13,
   "metadata": {},
   "outputs": [
    {
     "name": "stdout",
     "output_type": "stream",
     "text": [
      "(0.3836912846323326, 0.6163087153676674)\n",
      "(0.42406406993539053, 0.6559359300646095)\n",
      "(0.2860411978842442, 0.5139588021157558)\n",
      "(0.36378436885322046, 0.5962156311467796)\n",
      "(0.3440640699353905, 0.5759359300646095)\n",
      "(0.42406406993539053, 0.6559359300646095)\n",
      "(0.2860411978842442, 0.5139588021157558)\n",
      "(0.2860411978842442, 0.5139588021157558)\n",
      "(0.5498070827050113, 0.7701929172949887)\n",
      "(0.46518968814451866, 0.6948103118554813)\n"
     ]
    }
   ],
   "source": [
    "from scipy.stats import binom\n",
    "# Repeat this process 10 times \n",
    "heads = binom.rvs(50, 0.5, size=10)\n",
    "for val in heads:\n",
    "    confidence_interval = proportion_confint(val, 50, .10)\n",
    "    print(confidence_interval)"
   ]
  },
  {
   "cell_type": "markdown",
   "metadata": {},
   "source": [
    "Examine your confidence interval results from the last step. You might see at least one confidence interval that does not contain 0.5, the true population proportion for a fair coin flip. You could decrease the likelihood of this happening by increasing your confidence level or lowering the alpha value."
   ]
  }
 ],
 "metadata": {
  "kernelspec": {
   "display_name": "Python 3",
   "language": "python",
   "name": "python3"
  },
  "language_info": {
   "codemirror_mode": {
    "name": "ipython",
    "version": 3
   },
   "file_extension": ".py",
   "mimetype": "text/x-python",
   "name": "python",
   "nbconvert_exporter": "python",
   "pygments_lexer": "ipython3",
   "version": "3.7.3"
  }
 },
 "nbformat": 4,
 "nbformat_minor": 4
}
