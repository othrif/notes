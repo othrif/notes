{
 "cells": [
  {
   "cell_type": "raw",
   "metadata": {},
   "source": [
    "---\n",
    "title: \"Manipulate a docker image and launch a notebook\"\n",
    "date: 2020-04-12T14:41:32+02:00\n",
    "author: \"Othmane Rifki\"\n",
    "type: technical_note\n",
    "draft: false\n",
    "---"
   ]
  },
  {
   "cell_type": "markdown",
   "metadata": {},
   "source": [
    "# Basics\n",
    "\n",
    "### Docker build\n",
    "``` bash \n",
    "docker build -t hello-world:1.0 .\n",
    "```\n",
    "\n",
    "### Run image\n",
    "``` bash \n",
    "docker run -p 8080:80 --name hello -d hello-world:1.0\n",
    "```\n",
    "\n",
    "### Tag image\n",
    "``` bash \n",
    "docker tag hello-world user/hello-world\n",
    "```\n",
    "\n",
    "### Push image to docker hub\n",
    "``` bash \n",
    "docker push <Your Docker ID>/hello-world\n",
    "```\n",
    "\n",
    "### Pull image to docker hub\n",
    "``` bash \n",
    "docker pull user/hello-world\n",
    "```\n",
    "\n",
    "### See existing images\n",
    "``` bash \n",
    "docker images\n",
    "```\n",
    "\n",
    "### See what is running \n",
    "``` bash \n",
    "docker ps\n",
    "docker ps -a # show images, even ones stopped\n",
    "```\n",
    "\n",
    "### Start docker process\n",
    "``` bash \n",
    "docker start <container NAME> # from `docker ps -a`\n",
    "```\n",
    "\n",
    "### Stop and remove image\n",
    "``` bash \n",
    "# Stop docker container from running\n",
    "docker stop <container NAME>\n",
    "# removes from both `docker ps` and `docker ps -a`\n",
    "docker rm <container NAME>\n",
    "\n",
    "# Replace above with\n",
    "docker rm -f <container NAME>\n",
    "```\n",
    "\n",
    "### Docker logs\n",
    "``` bash \n",
    "docker logs -f <container NAME> # -f to follow and listen\n",
    "```\n"
   ]
  },
  {
   "cell_type": "markdown",
   "metadata": {},
   "source": [
    "# Advanced\n",
    "\n",
    "### Clean your environment\n",
    "\n",
    "``` bash \n",
    "# running processes\n",
    "docker ps -a\n",
    "docker stop <CONTAINER ID>\n",
    "docker rm <CONTAINER ID>\n",
    "\n",
    "# Clean open images\n",
    "docker images\n",
    "docker rmi <IMAGE ID or REPOSITORY>\n",
    "\n",
    "# Prune system to close all communication\n",
    "docker system prune -f\n",
    "```"
   ]
  },
  {
   "cell_type": "markdown",
   "metadata": {},
   "source": [
    "### Show the history of a docker image \n",
    "``` bash \n",
    "docker images # get <IMAGE ID>\n",
    "docker history --no-trunc <IMAGE ID> # without runcation\n",
    "```"
   ]
  },
  {
   "cell_type": "markdown",
   "metadata": {},
   "source": [
    "### Build docker image \n",
    "``` bash \n",
    "docker build -f Dockerfile -t othrif:mytest .\n",
    "docker run -p 5000:5000 othrif:mytest \n",
    "# Let your local host recognize the server\n",
    "sudo emacs /private/etc/hosts\n",
    "# add the notebok address from running the line \"The Jupyter Notebook is running at:http://XXXXXX:5000/\"\n",
    "# by adding `XXXXXX` to `127.0.0.1\tlocalhost XXXXXX`\n",
    "```\n",
    "\n",
    "### Run interactively\n",
    "``` bash \n",
    "docker ps -a # get <IMAGE> and <CONTAINER ID>\n",
    "docker run -d -it -p 8000:8080 <IMAGE> /usr/bin/top # <IMAGE>=othrif:mytest\n",
    "docker exec -it <CONTAINER ID> /bin/bash\n",
    "\n",
    "```"
   ]
  },
  {
   "cell_type": "markdown",
   "metadata": {},
   "source": [
    "### Start Docker deamon\n",
    "``` bash \n",
    "docker-machine start\n",
    "docker-machine env\n",
    "eval $(docker-machine env)\n",
    "```"
   ]
  },
  {
   "cell_type": "markdown",
   "metadata": {},
   "source": [
    "# Docker compose"
   ]
  },
  {
   "cell_type": "markdown",
   "metadata": {},
   "source": [
    "### Build and run app\n",
    "```\n",
    "docker-compose up -d\n",
    "```\n",
    "\n",
    "### Stop app\n",
    "``` \n",
    "docker-compose down\n",
    "```\n",
    "\n",
    "\n",
    "### docker-compose.yml\n",
    "Examples \n",
    "``` python\n",
    "version: \"3.8\"\n",
    "services:\n",
    "  web:\n",
    "    build: .\n",
    "    ports:\n",
    "      - \"5000:5000\"\n",
    "  redis:\n",
    "    image: \"redis:alpine\"\n",
    "```"
   ]
  },
  {
   "cell_type": "code",
   "execution_count": null,
   "metadata": {},
   "outputs": [],
   "source": []
  }
 ],
 "metadata": {
  "kernelspec": {
   "display_name": "Python 3",
   "language": "python",
   "name": "python3"
  },
  "language_info": {
   "codemirror_mode": {
    "name": "ipython",
    "version": 3
   },
   "file_extension": ".py",
   "mimetype": "text/x-python",
   "name": "python",
   "nbconvert_exporter": "python",
   "pygments_lexer": "ipython3",
   "version": "3.8.5"
  }
 },
 "nbformat": 4,
 "nbformat_minor": 4
}
