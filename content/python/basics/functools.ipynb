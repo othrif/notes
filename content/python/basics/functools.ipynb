{
 "cells": [
  {
   "cell_type": "raw",
   "metadata": {},
   "source": [
    "---\n",
    "title: \"Functools:reduce()\"\n",
    "date: 2020-04-12T14:41:32+02:00\n",
    "author: \"Othmane Rifki\"\n",
    "type: technical_note\n",
    "draft: false\n",
    "---"
   ]
  },
  {
   "cell_type": "markdown",
   "metadata": {},
   "source": [
    "### `reduce()`\n",
    "\n",
    "Function call: `functools.reduce(function, iterable[, initializer])`   \n",
    "\n",
    "You’re doing a fold or reduction when you reduce a list of items to a single cumulative value:    \n",
    "1-**Apply** a function (or callable) to the first two items in an iterable and generate a partial result.   \n",
    "2-**Use** that partial result, together with the third item in the iterable, to generate another partial result.   \n",
    "3-**Repeat** the process until the iterable is exhausted and then return a single cumulative value.   "
   ]
  },
  {
   "cell_type": "markdown",
   "metadata": {},
   "source": [
    "#### Vanilla version"
   ]
  },
  {
   "cell_type": "code",
   "execution_count": 4,
   "metadata": {},
   "outputs": [
    {
     "name": "stdout",
     "output_type": "stream",
     "text": [
      "Start by adding first two elments\n",
      "0 + 1 = 1\n",
      "1 + 2 = 3\n",
      "3 + 3 = 6\n",
      "6 + 4 = 10\n",
      "\n",
      "Start by adding initializer with first element\n",
      "100 + 0 = 100\n",
      "100 + 1 = 101\n",
      "101 + 2 = 103\n",
      "103 + 3 = 106\n",
      "106 + 4 = 110\n"
     ]
    },
    {
     "data": {
      "text/plain": [
       "110"
      ]
     },
     "execution_count": 4,
     "metadata": {},
     "output_type": "execute_result"
    }
   ],
   "source": [
    "from functools import reduce\n",
    "\n",
    "def my_add(a, b):\n",
    "    result = a + b\n",
    "    print(f\"{a} + {b} = {result}\")\n",
    "    return result\n",
    "\n",
    "numbers = [0, 1, 2, 3, 4]\n",
    "\n",
    "print('Start by adding first two elments')\n",
    "reduce(my_add, numbers)\n",
    "\n",
    "print('\\nStart by adding initializer with first element')\n",
    "reduce(my_add, numbers, 100)"
   ]
  },
  {
   "cell_type": "markdown",
   "metadata": {},
   "source": [
    "#### using `lambda`"
   ]
  },
  {
   "cell_type": "code",
   "execution_count": 20,
   "metadata": {},
   "outputs": [
    {
     "name": "stdout",
     "output_type": "stream",
     "text": [
      "Input: [1, 1, 9, 7, 2, 4, 7, 3, 7, 4]\n",
      "Addition: 45\n",
      "Multiplication: 296352\n",
      "Minimum: 1\n",
      "Maximum: 9\n",
      "Checking if all values are true: False\n",
      "Checking if any values are true: True\n"
     ]
    }
   ],
   "source": [
    "import random\n",
    "numbers=[random.randint(0,10) for i in range(10)]\n",
    "print(f'Input: {numbers}')\n",
    "# addition\n",
    "print(f'Addition: {reduce(lambda a, b: a + b, numbers)}')\n",
    "# multiplication\n",
    "print(f'Multiplication: {reduce(lambda a, b: a * b, numbers)}')\n",
    "# Finding minimum\n",
    "print(f'Minimum: {reduce(lambda a, b: a if a < b else b, numbers)}')\n",
    "# Finding maximum\n",
    "print(f'Maximum: {reduce(lambda a, b: a if a > b else b, numbers)}')\n",
    "print(f'Checking if all values are true: {reduce(lambda a, b: bool(a and b), [1, 0, 1, 1, 1])}')\n",
    "print(f'Checking if any values are true: {reduce(lambda a, b: bool(a or b), [0, 0, 1, 1, 0])}')"
   ]
  },
  {
   "cell_type": "markdown",
   "metadata": {},
   "source": [
    "### more advanced "
   ]
  },
  {
   "cell_type": "code",
   "execution_count": 3,
   "metadata": {},
   "outputs": [
    {
     "data": {
      "text/plain": [
       "304"
      ]
     },
     "execution_count": 3,
     "metadata": {},
     "output_type": "execute_result"
    }
   ],
   "source": [
    "from functools import reduce\n",
    "from string import hexdigits\n",
    "\n",
    "reduce(lambda x,c: x * 7 + hexdigits.index(c.lower()), ['6','1','3'], 0)"
   ]
  },
  {
   "cell_type": "code",
   "execution_count": 4,
   "metadata": {},
   "outputs": [
    {
     "name": "stdout",
     "output_type": "stream",
     "text": [
      "0 * 7 + dec(6) = 6\n",
      "6 * 7 + dec(1) = 43\n",
      "43 * 7 + dec(3) = 304\n"
     ]
    },
    {
     "data": {
      "text/plain": [
       "304"
      ]
     },
     "execution_count": 4,
     "metadata": {},
     "output_type": "execute_result"
    }
   ],
   "source": [
    "def my_func(x, c):\n",
    "    result = x * 7 + hexdigits.index(c.lower())\n",
    "    print(f'{x} * 7 + dec({c}) = {result}')\n",
    "    return result\n",
    "reduce(my_func, ['6','1','3'], 0)"
   ]
  }
 ],
 "metadata": {
  "kernelspec": {
   "display_name": "Python 3",
   "language": "python",
   "name": "python3"
  },
  "language_info": {
   "codemirror_mode": {
    "name": "ipython",
    "version": 3
   },
   "file_extension": ".py",
   "mimetype": "text/x-python",
   "name": "python",
   "nbconvert_exporter": "python",
   "pygments_lexer": "ipython3",
   "version": "3.8.5"
  }
 },
 "nbformat": 4,
 "nbformat_minor": 4
}
