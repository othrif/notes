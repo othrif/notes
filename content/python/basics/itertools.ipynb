{
 "cells": [
  {
   "cell_type": "raw",
   "metadata": {},
   "source": [
    "---\n",
    "title: \"Itertools:groupby()\"\n",
    "date: 2020-04-12T14:41:32+02:00\n",
    "author: \"Othmane Rifki\"\n",
    "type: technical_note\n",
    "draft: false\n",
    "---"
   ]
  },
  {
   "cell_type": "markdown",
   "metadata": {},
   "source": [
    "### `groupby()`\n",
    "\n",
    "Function call: `functools.groupby(iterable[, key])`   \n",
    "\n",
    "Make an iterator that returns consecutive keys and groups from the iterable. Similar to the `uniq` filter in Unix."
   ]
  },
  {
   "cell_type": "markdown",
   "metadata": {},
   "source": [
    "### Count number of occurences"
   ]
  },
  {
   "cell_type": "code",
   "execution_count": 13,
   "metadata": {},
   "outputs": [
    {
     "name": "stdout",
     "output_type": "stream",
     "text": [
      "1 count: 2\n",
      "2 count: 2\n",
      "1 count: 4\n",
      "0 count: 2\n"
     ]
    }
   ],
   "source": [
    "import itertools\n",
    "for key, group in itertools.groupby('1122111100'):\n",
    "    print(key, 'count:', len(list(group)))"
   ]
  },
  {
   "cell_type": "markdown",
   "metadata": {},
   "source": [
    "### Use a cutom key function"
   ]
  },
  {
   "cell_type": "code",
   "execution_count": 12,
   "metadata": {},
   "outputs": [
    {
     "name": "stdout",
     "output_type": "stream",
     "text": [
      "a: [('a', 1), ('a', 2)]\n",
      "b: [('b', 3), ('b', 4)]\n"
     ]
    }
   ],
   "source": [
    "import itertools\n",
    "l = [(\"a\", 1), (\"a\", 2), (\"b\", 3), (\"b\", 4)]\n",
    "key_f = lambda x: x[0]\n",
    "\n",
    "for key, group in itertools.groupby(l, key_f):\n",
    "    print(key + \": \" + str(list(group)))\n"
   ]
  },
  {
   "cell_type": "markdown",
   "metadata": {},
   "source": [
    "### Implement a group by in python using dict()"
   ]
  },
  {
   "cell_type": "code",
   "execution_count": 15,
   "metadata": {},
   "outputs": [
    {
     "name": "stdout",
     "output_type": "stream",
     "text": [
      "{'integer': [1, 2], 'string': ['a'], 'float': [1.0]}\n"
     ]
    }
   ],
   "source": [
    "data = [ (\"integer\", 1), (\"string\", \"a\"), (\"float\", 1.0), (\"integer\", 2)]\n",
    "groups = {}\n",
    "for group, value in data:\n",
    "    # Add new group-value pair to `groups`\n",
    "    if group not in groups:\n",
    "        groups.update({group: [value]})\n",
    "    # Add `value` to existing group's value list\n",
    "    else:\n",
    "        groups[group].append(value)\n",
    "\n",
    "\n",
    "print(groups)"
   ]
  }
 ],
 "metadata": {
  "kernelspec": {
   "display_name": "Python 3",
   "language": "python",
   "name": "python3"
  },
  "language_info": {
   "codemirror_mode": {
    "name": "ipython",
    "version": 3
   },
   "file_extension": ".py",
   "mimetype": "text/x-python",
   "name": "python",
   "nbconvert_exporter": "python",
   "pygments_lexer": "ipython3",
   "version": "3.8.5"
  }
 },
 "nbformat": 4,
 "nbformat_minor": 4
}
