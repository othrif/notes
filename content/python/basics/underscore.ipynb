{
 "cells": [
  {
   "cell_type": "raw",
   "metadata": {},
   "source": [
    "---\n",
    "title: \"Usage of underscores\"\n",
    "date: 2020-04-12T14:41:32+02:00\n",
    "author: \"Othmane Rifki\"\n",
    "type: technical_note\n",
    "draft: false\n",
    "---"
   ]
  },
  {
   "cell_type": "markdown",
   "metadata": {},
   "source": [
    "There are 5 usages of underscores (`_`) in python"
   ]
  },
  {
   "cell_type": "markdown",
   "metadata": {},
   "source": [
    "### Single leading underscore `_var`\n",
    "\n",
    "* `_var` is intended for internal use. `from M import *` doesn’t import objects whose names start with an underscore.\n",
    "\n",
    "``` python\n",
    "# m.py\n",
    "external = \"external\"\n",
    "_internal = \"internal\"\n",
    "\n",
    "# main1.py - doesn't work\n",
    "from m import *\n",
    "print(external)\n",
    "# external\n",
    "print(_internal)\n",
    "# NameError: name '_internal' is not defined\n",
    "\n",
    "# main2.py - work\n",
    "from m import external, _internal\n",
    "print(external)\n",
    "# external\n",
    "print(_internal)\n",
    "# internal\n",
    "\n",
    "# main3.py - work\n",
    "import m\n",
    "print(m.external)\n",
    "# external\n",
    "print(m._internal)\n",
    "# internal\n",
    "```"
   ]
  },
  {
   "cell_type": "markdown",
   "metadata": {},
   "source": [
    "* Single leading underscore is used a lot in classes. Programmers can create private variables and methods"
   ]
  },
  {
   "cell_type": "code",
   "execution_count": 6,
   "metadata": {},
   "outputs": [
    {
     "name": "stdout",
     "output_type": "stream",
     "text": [
      "2020 7 10\n",
      "True\n"
     ]
    }
   ],
   "source": [
    "class Time:\n",
    "    def __init__(self, year, month, day):\n",
    "        self.year = year\n",
    "        self.month = month\n",
    "        self._day = day\n",
    "\n",
    "    def _is_even_number(self, x):\n",
    "        return x % 2 == 0\n",
    "\n",
    "time = Time(2020, 7, 10)\n",
    "print(time.year, time.month, time._day)\n",
    "print(time._is_even_number(10))"
   ]
  },
  {
   "cell_type": "markdown",
   "metadata": {},
   "source": [
    "### Visual seperator of digits"
   ]
  },
  {
   "cell_type": "code",
   "execution_count": 1,
   "metadata": {},
   "outputs": [
    {
     "name": "stdout",
     "output_type": "stream",
     "text": [
      "1000000.1\n"
     ]
    }
   ],
   "source": [
    "amount = 1_000_000.1\n",
    "print(amount)"
   ]
  },
  {
   "cell_type": "markdown",
   "metadata": {},
   "source": [
    "### Values we don't care about"
   ]
  },
  {
   "cell_type": "code",
   "execution_count": 2,
   "metadata": {},
   "outputs": [
    {
     "name": "stdout",
     "output_type": "stream",
     "text": [
      "I don't care about index\n",
      "I don't care about index\n",
      "I don't care about index\n"
     ]
    }
   ],
   "source": [
    "for _ in range(3):\n",
    "  print(\"I don't care about index\")"
   ]
  },
  {
   "cell_type": "code",
   "execution_count": 4,
   "metadata": {},
   "outputs": [
    {
     "name": "stdout",
     "output_type": "stream",
     "text": [
      "[7, 10, 12, 10]\n"
     ]
    }
   ],
   "source": [
    "year, *_, second = (2020, 7, 10, 12, 10, 59)\n",
    "print(_) "
   ]
  },
  {
   "cell_type": "markdown",
   "metadata": {},
   "source": [
    "### Single Trailing Underscore `var_`\n",
    "\n",
    "Only use to avoid conflicts with Python keywords. "
   ]
  },
  {
   "cell_type": "code",
   "execution_count": 7,
   "metadata": {},
   "outputs": [
    {
     "name": "stdout",
     "output_type": "stream",
     "text": [
      "['False', 'None', 'True', 'and', 'as', 'assert', 'async', 'await', 'break', 'class', 'continue', 'def', 'del', 'elif', 'else', 'except', 'finally', 'for', 'from', 'global', 'if', 'import', 'in', 'is', 'lambda', 'nonlocal', 'not', 'or', 'pass', 'raise', 'return', 'try', 'while', 'with', 'yield']\n"
     ]
    }
   ],
   "source": [
    "import keyword\n",
    "print(keyword.kwlist)"
   ]
  },
  {
   "cell_type": "code",
   "execution_count": 8,
   "metadata": {},
   "outputs": [],
   "source": [
    "global_=2"
   ]
  },
  {
   "cell_type": "markdown",
   "metadata": {},
   "source": [
    "### Double Leading Underscore `__var`\n",
    "`__var` will have a different name in the class where the python interpreter overwrites such identifiers in a class to avoid conflicts of names between the current class and its subclasses."
   ]
  },
  {
   "cell_type": "code",
   "execution_count": 10,
   "metadata": {},
   "outputs": [
    {
     "name": "stdout",
     "output_type": "stream",
     "text": [
      "['_Time__day', '__class__', '__delattr__', '__dict__', '__dir__', '__doc__', '__eq__', '__format__', '__ge__', '__getattribute__', '__gt__', '__hash__', '__init__', '__init_subclass__', '__le__', '__lt__', '__module__', '__ne__', '__new__', '__reduce__', '__reduce_ex__', '__repr__', '__setattr__', '__sizeof__', '__str__', '__subclasshook__', '__weakref__', '_month', 'year']\n"
     ]
    }
   ],
   "source": [
    "class Time:\n",
    "    def __init__(self, year, month):\n",
    "        self.year = year\n",
    "        self._month = month\n",
    "        self.__day = 1\n",
    "\n",
    "time = Time(2020, 7)\n",
    "print(dir(time))"
   ]
  },
  {
   "cell_type": "code",
   "execution_count": 11,
   "metadata": {},
   "outputs": [
    {
     "ename": "AttributeError",
     "evalue": "'Time' object has no attribute '__day'",
     "output_type": "error",
     "traceback": [
      "\u001b[0;31m---------------------------------------------------------------------------\u001b[0m",
      "\u001b[0;31mAttributeError\u001b[0m                            Traceback (most recent call last)",
      "\u001b[0;32m<ipython-input-11-6ce3ac535632>\u001b[0m in \u001b[0;36m<module>\u001b[0;34m\u001b[0m\n\u001b[0;32m----> 1\u001b[0;31m \u001b[0mprint\u001b[0m\u001b[0;34m(\u001b[0m\u001b[0mtime\u001b[0m\u001b[0;34m.\u001b[0m\u001b[0m__day\u001b[0m\u001b[0;34m)\u001b[0m\u001b[0;34m\u001b[0m\u001b[0;34m\u001b[0m\u001b[0m\n\u001b[0m",
      "\u001b[0;31mAttributeError\u001b[0m: 'Time' object has no attribute '__day'"
     ]
    }
   ],
   "source": [
    "print(time.__day)"
   ]
  },
  {
   "cell_type": "code",
   "execution_count": 12,
   "metadata": {},
   "outputs": [
    {
     "name": "stdout",
     "output_type": "stream",
     "text": [
      "1\n"
     ]
    }
   ],
   "source": [
    "print(time._Time__day)"
   ]
  },
  {
   "cell_type": "markdown",
   "metadata": {},
   "source": [
    "### Double Leading and Trailing Underscore __var__\n",
    "\n",
    "Magic methods like `__init__`, `__call__`, `__slots__`, can be overwritten "
   ]
  },
  {
   "cell_type": "code",
   "execution_count": 13,
   "metadata": {},
   "outputs": [
    {
     "name": "stdout",
     "output_type": "stream",
     "text": [
      "year: 2020, month: 7, day: 1\n"
     ]
    }
   ],
   "source": [
    "class Time:\n",
    "    def __init__(self, year, month):\n",
    "        self.year = year\n",
    "        self._month = month\n",
    "        self.__day = 1\n",
    "\n",
    "    def __str__(self):\n",
    "        return f\"year: {self.year}, month: {self._month}, day: {self.__day}\"\n",
    "      \n",
    "time = Time(2020,7)\n",
    "print(time)"
   ]
  }
 ],
 "metadata": {
  "kernelspec": {
   "display_name": "Python 3",
   "language": "python",
   "name": "python3"
  },
  "language_info": {
   "codemirror_mode": {
    "name": "ipython",
    "version": 3
   },
   "file_extension": ".py",
   "mimetype": "text/x-python",
   "name": "python",
   "nbconvert_exporter": "python",
   "pygments_lexer": "ipython3",
   "version": "3.8.5"
  }
 },
 "nbformat": 4,
 "nbformat_minor": 4
}
