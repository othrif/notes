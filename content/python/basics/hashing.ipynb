{
 "cells": [
  {
   "cell_type": "raw",
   "metadata": {},
   "source": [
    "---\n",
    "title: \"Hashing strings\"\n",
    "date: 2020-04-12T14:41:32+02:00\n",
    "author: \"Othmane Rifki\"\n",
    "type: technical_note\n",
    "draft: false\n",
    "---"
   ]
  },
  {
   "cell_type": "markdown",
   "metadata": {},
   "source": [
    "### Hashing strings\n",
    "\n",
    "A hash function is a function that takes input of a variable length sequence of bytes and converts it to a fixed length sequence.\n",
    "\n",
    "You will need to pass byte encoding or encode string."
   ]
  },
  {
   "cell_type": "markdown",
   "metadata": {},
   "source": [
    "### Used to encode unique filenames "
   ]
  },
  {
   "cell_type": "code",
   "execution_count": 9,
   "metadata": {},
   "outputs": [
    {
     "name": "stdout",
     "output_type": "stream",
     "text": [
      "b3580ab4_2aa33c2df5bc4f569d83d6924d04541c\n",
      "b3580ab4_7c170be56bd0466cac020e18189b842d\n",
      "b3580ab4_8e518d7fdffb4eb0bde3cfc0d7cec3dc\n"
     ]
    }
   ],
   "source": [
    "import hashlib\n",
    "import uuid\n",
    "for _ in range(3):\n",
    "    filename = hashlib.sha1('myfile'.encode('utf-8')).hexdigest()[:8]+'_'+str(uuid.uuid4().hex)\n",
    "    print(filename)"
   ]
  },
  {
   "cell_type": "markdown",
   "metadata": {},
   "source": [
    "### Available algorithms"
   ]
  },
  {
   "cell_type": "code",
   "execution_count": 2,
   "metadata": {},
   "outputs": [
    {
     "name": "stdout",
     "output_type": "stream",
     "text": [
      "{'sha1', 'sha3_256', 'sha3_224', 'shake_256', 'sha512_256', 'md5-sha1', 'blake2s', 'sha256', 'md4', 'md5', 'sm3', 'sha224', 'sha3_512', 'blake2b', 'sha512_224', 'sha3_384', 'ripemd160', 'sha512', 'sha384', 'mdc2', 'shake_128', 'whirlpool'}\n",
      "{'sha1', 'sha3_384', 'sha384', 'sha512', 'shake_128', 'blake2s', 'sha3_256', 'sha256', 'shake_256', 'md5', 'sha3_224', 'sha224', 'sha3_512', 'blake2b'}\n"
     ]
    }
   ],
   "source": [
    "import hashlib\n",
    "print(hashlib.algorithms_available) # lists all the algorithms available in the system,\n",
    "print(hashlib.algorithms_guaranteed) # only lists the algorithms present in the module"
   ]
  },
  {
   "cell_type": "code",
   "execution_count": 10,
   "metadata": {},
   "outputs": [
    {
     "name": "stdout",
     "output_type": "stream",
     "text": [
      "0a4d55a8d778e5022fab701977c5d840bbc486d0\n"
     ]
    }
   ],
   "source": [
    "import hashlib\n",
    "hash_object = hashlib.sha1(b'Hello World')\n",
    "hex_dig = hash_object.hexdigest()\n",
    "print(hex_dig)"
   ]
  },
  {
   "cell_type": "code",
   "execution_count": 5,
   "metadata": {},
   "outputs": [
    {
     "name": "stdout",
     "output_type": "stream",
     "text": [
      "0a4d55a8d778e5022fab701977c5d840bbc486d0\n"
     ]
    }
   ],
   "source": [
    "import hashlib\n",
    "hash_object = hashlib.sha1('Hello World'.encode('utf-8'))\n",
    "hex_dig = hash_object.hexdigest()\n",
    "print(hex_dig)"
   ]
  },
  {
   "cell_type": "markdown",
   "metadata": {},
   "source": [
    "### Shorten string"
   ]
  },
  {
   "cell_type": "code",
   "execution_count": 4,
   "metadata": {},
   "outputs": [
    {
     "name": "stdout",
     "output_type": "stream",
     "text": [
      "0a4d55a8\n"
     ]
    }
   ],
   "source": [
    "hex_dig_short = hash_object.hexdigest()[:8]\n",
    "print(hex_dig_short)"
   ]
  }
 ],
 "metadata": {
  "kernelspec": {
   "display_name": "Python 3",
   "language": "python",
   "name": "python3"
  },
  "language_info": {
   "codemirror_mode": {
    "name": "ipython",
    "version": 3
   },
   "file_extension": ".py",
   "mimetype": "text/x-python",
   "name": "python",
   "nbconvert_exporter": "python",
   "pygments_lexer": "ipython3",
   "version": "3.8.5"
  }
 },
 "nbformat": 4,
 "nbformat_minor": 4
}
