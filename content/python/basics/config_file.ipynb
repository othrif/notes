{
 "cells": [
  {
   "cell_type": "raw",
   "metadata": {},
   "source": [
    "---\n",
    "title: \"CLI arguments and config with click\"\n",
    "date: 2020-04-12T14:41:32+02:00\n",
    "author: \"Othmane Rifki\"\n",
    "type: technical_note\n",
    "draft: false\n",
    "---"
   ]
  },
  {
   "cell_type": "markdown",
   "metadata": {},
   "source": [
    "### Basic usage of click\n",
    "\n",
    "Command line arguments get passed to a function that you then call later on.\n",
    "\n",
    "``` python\n",
    "import click\n",
    "\n",
    "@click.command()\n",
    "@click.option('-f', '--first', default='first')\n",
    "@click.option('-s', '--second', default=10)\n",
    "\n",
    "\n",
    "def test(first, second):\n",
    "    print('First', first)\n",
    "    print('Second', second)\n",
    "\n",
    "\n",
    "test()\n",
    "```\n"
   ]
  },
  {
   "cell_type": "markdown",
   "metadata": {},
   "source": [
    "### Using click with config file\n",
    "\n",
    "Using the module `click_config_file` we can load the parameter file similar to this:\n",
    "\n",
    "``` python \n",
    "import click\n",
    "import click_config_file\n",
    "\n",
    "@click.command()\n",
    "@click.option('--name', default='World', help='Who to greet.')\n",
    "@click_config_file.configuration_option()\n",
    "\n",
    "def hello(name):\n",
    "    click.echo('Hello {}!'.format(name))\n",
    "\n",
    "hello()\n",
    "```\n",
    "\n",
    "the parameter file should read:\n",
    "``` python\n",
    "name='Othmane'\n",
    "```\n",
    "\n",
    "The command to use the config file is:\n",
    "``` bash \n",
    "python main.py --config myconfig.txt \n",
    "```"
   ]
  }
 ],
 "metadata": {
  "kernelspec": {
   "display_name": "Python 3",
   "language": "python",
   "name": "python3"
  },
  "language_info": {
   "codemirror_mode": {
    "name": "ipython",
    "version": 3
   },
   "file_extension": ".py",
   "mimetype": "text/x-python",
   "name": "python",
   "nbconvert_exporter": "python",
   "pygments_lexer": "ipython3",
   "version": "3.8.5"
  }
 },
 "nbformat": 4,
 "nbformat_minor": 4
}
