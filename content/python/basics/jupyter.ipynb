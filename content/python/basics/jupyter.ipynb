{
 "cells": [
  {
   "cell_type": "raw",
   "metadata": {},
   "source": [
    "---\n",
    "title: \"Jupyter kernel versions\"\n",
    "date: 2020-04-12T14:41:32+02:00\n",
    "author: \"Othmane Rifki\"\n",
    "type: technical_note\n",
    "draft: false\n",
    "---"
   ]
  },
  {
   "cell_type": "markdown",
   "metadata": {},
   "source": [
    "### Version of python running"
   ]
  },
  {
   "cell_type": "code",
   "execution_count": 1,
   "metadata": {},
   "outputs": [
    {
     "name": "stdout",
     "output_type": "stream",
     "text": [
      "/Users/othrif/.pyenv/versions/3.9.6/bin/python3.9\n",
      "3.9.6 (default, Jul 15 2021, 14:42:14) \n",
      "[Clang 12.0.5 (clang-1205.0.22.9)]\n",
      "['/Users/othrif/github/notes/content/python/basics', '/Users/othrif/.pyenv/versions/3.9.6/lib/python39.zip', '/Users/othrif/.pyenv/versions/3.9.6/lib/python3.9', '/Users/othrif/.pyenv/versions/3.9.6/lib/python3.9/lib-dynload', '', '/Users/othrif/.local/lib/python3.9/site-packages', '/Users/othrif/.pyenv/versions/3.9.6/lib/python3.9/site-packages', '/Users/othrif/.pyenv/versions/3.9.6/lib/python3.9/site-packages/IPython/extensions', '/Users/othrif/.ipython']\n"
     ]
    }
   ],
   "source": [
    "import sys\n",
    "print(sys.executable)\n",
    "print(sys.version)\n",
    "print(sys.path)"
   ]
  },
  {
   "cell_type": "markdown",
   "metadata": {},
   "source": [
    "### List all kernels"
   ]
  },
  {
   "cell_type": "code",
   "execution_count": 4,
   "metadata": {},
   "outputs": [
    {
     "name": "stdout",
     "output_type": "stream",
     "text": [
      "Available kernels:\n",
      "  python3.8    /Users/othrif/Library/Jupyter/kernels/python3.8\n",
      "  python3.9    /Users/othrif/Library/Jupyter/kernels/python3.9\n",
      "  python3      /Users/othrif/.pyenv/versions/3.9.6/share/jupyter/kernels/python3\n"
     ]
    }
   ],
   "source": [
    "!jupyter kernelspec list"
   ]
  },
  {
   "cell_type": "markdown",
   "metadata": {},
   "source": [
    "### Install Jupyter kernels\n",
    "\n",
    "``` bash \n",
    "python -m ipykernel install -name python3.9\n",
    "```\n",
    "\n",
    "You can also modify the `kernel.json` at `/usr/local/share/jupyter/kernels/python3.9/kernel.json` "
   ]
  }
 ],
 "metadata": {
  "kernelspec": {
   "display_name": "Python 3 (ipykernel)",
   "language": "python",
   "name": "python3"
  },
  "language_info": {
   "codemirror_mode": {
    "name": "ipython",
    "version": 3
   },
   "file_extension": ".py",
   "mimetype": "text/x-python",
   "name": "python",
   "nbconvert_exporter": "python",
   "pygments_lexer": "ipython3",
   "version": "3.9.6"
  }
 },
 "nbformat": 4,
 "nbformat_minor": 4
}
