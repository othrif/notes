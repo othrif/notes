{
 "cells": [
  {
   "cell_type": "raw",
   "metadata": {},
   "source": [
    "---\n",
    "title: \"Using pipenv and saving python environment\"\n",
    "date: 2020-04-12T14:41:32+02:00\n",
    "author: \"Othmane Rifki\"\n",
    "type: technical_note\n",
    "draft: false\n",
    "---"
   ]
  },
  {
   "cell_type": "markdown",
   "metadata": {},
   "source": [
    "### Pipenv workflow\n",
    "If the `Pipfile` exists, run \n",
    "``` bash  \n",
    "pipenv install\n",
    "```\n",
    "To run, \n",
    "``` bash \n",
    "pipenv run <command>\n",
    "```\n",
    "To enter a shell within the environment\n",
    "``` bash \n",
    "pipenv shell\n",
    "```\n",
    "\n",
    "To add a package to your new project\n",
    "``` bash \n",
    "pipenv install <package>\n",
    "```\n",
    "\n",
    "or edit the `Pipfile` directly, here added package `requests`\n",
    "``` python\n",
    "[[source]]\n",
    "url = \"https://pypi.python.org/simple\"\n",
    "verify_ssl = true\n",
    "name = \"pypi\"\n",
    "\n",
    "[packages]\n",
    "requests = \"*\"\n",
    "\n",
    "[dev-packages]\n",
    "```\n",
    "\n",
    "### Save python environment\n",
    "``` bash \n",
    "pipenv install <all packages i need>\n",
    "pipenv lock --requirements > requirements.txt\n",
    "```\n",
    "\n",
    "### Install a specific version of python\n",
    "``` bash \n",
    "pipenv --python X.Y\n",
    "```\n",
    "\n",
    "### Specify verion of a pckage\n",
    "``` bash \n",
    "pipenv install requests~=1.2\n",
    "```\n",
    "\n",
    "### Install from a website\n",
    "``` bash \n",
    "# Need to keep the correct python 3.9 version -> 39\n",
    "pipenv install https://download.pytorch.org/whl/cu111/torch-1.8.0%2Bcu111-cp39-cp39-linux_x86_64.whl\n",
    "\n",
    "# below runs but does not save it to Pipfile\n",
    "pipenv run pip install torch==1.8.0+cu111 -f https://download.pytorch.org/whl/torch_stable.html\n",
    "```\n",
    "\n",
    "### Install from git\n",
    "``` bash \n",
    "pipenv install -e git+https://github.com/requests/requests.git@v2.20.1#egg=requests\n",
    "```"
   ]
  }
 ],
 "metadata": {
  "kernelspec": {
   "display_name": "Python 3",
   "language": "python",
   "name": "python3"
  },
  "language_info": {
   "codemirror_mode": {
    "name": "ipython",
    "version": 3
   },
   "file_extension": ".py",
   "mimetype": "text/x-python",
   "name": "python",
   "nbconvert_exporter": "python",
   "pygments_lexer": "ipython3",
   "version": "3.8.5"
  }
 },
 "nbformat": 4,
 "nbformat_minor": 4
}
