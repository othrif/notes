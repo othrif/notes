{
 "cells": [
  {
   "cell_type": "raw",
   "metadata": {},
   "source": [
    "---\n",
    "title: \"Tuple and namedtuple\"\n",
    "date: 2020-04-12T14:41:32+02:00\n",
    "author: \"Othmane Rifki\"\n",
    "type: technical_note\n",
    "draft: false\n",
    "---"
   ]
  },
  {
   "cell_type": "markdown",
   "metadata": {},
   "source": [
    "### Tuple\n",
    "The standard tuple uses numerical indexes to access its members. "
   ]
  },
  {
   "cell_type": "code",
   "execution_count": 3,
   "metadata": {},
   "outputs": [
    {
     "name": "stdout",
     "output_type": "stream",
     "text": [
      "Representation:('Bob', 30, 'male')\n",
      "\n",
      "Field by index: Jane\n",
      "\n",
      "Fields by index:\n",
      "Bob is a 30 year old male\n",
      "Jane is a 29 year old female\n"
     ]
    }
   ],
   "source": [
    "bob = ('Bob', 30, 'male')\n",
    "print(f'Representation:{bob}')\n",
    "\n",
    "jane = ('Jane', 29, 'female')\n",
    "print(f'\\nField by index: {jane[0]}')\n",
    "\n",
    "print('\\nFields by index:')\n",
    "for p in [ bob, jane ]:\n",
    "    print('%s is a %d year old %s' % p)"
   ]
  },
  {
   "cell_type": "markdown",
   "metadata": {},
   "source": [
    "### Namedtuple\n",
    "remembering which index should be used for each value can lead to errors. A namedtuple assigns names, as well as the numerical index, to each member."
   ]
  },
  {
   "cell_type": "code",
   "execution_count": 4,
   "metadata": {},
   "outputs": [
    {
     "name": "stdout",
     "output_type": "stream",
     "text": [
      "Type of Person: <class 'type'>\n",
      "\n",
      "Representation: Person(name='Bob', age=30, gender='male')\n",
      "\n",
      "Field by name: Jane\n",
      "\n",
      "Fields by index:\n",
      "Bob is a 30 year old male\n",
      "Jane is a 29 year old female\n"
     ]
    }
   ],
   "source": [
    "import collections\n",
    "\n",
    "Person = collections.namedtuple('Person', 'name age gender')\n",
    "\n",
    "print('Type of Person:', type(Person))\n",
    "\n",
    "bob = Person(name='Bob', age=30, gender='male')\n",
    "print('\\nRepresentation:', bob)\n",
    "\n",
    "jane = Person(name='Jane', age=29, gender='female')\n",
    "print('\\nField by name:', jane.name)\n",
    "\n",
    "print('\\nFields by index:')\n",
    "for p in [ bob, jane ]:\n",
    "    print('%s is a %d year old %s' % p)"
   ]
  },
  {
   "cell_type": "markdown",
   "metadata": {},
   "source": [
    "### Used inside classes"
   ]
  },
  {
   "cell_type": "code",
   "execution_count": 6,
   "metadata": {},
   "outputs": [],
   "source": [
    "class Stack:\n",
    "\n",
    "    ElementCached = collections.namedtuple('ElementCached', ('element', 'max'))\n",
    "\n",
    "    def __init__(self) -> None:\n",
    "        self._elementcached_max: List[Stack.ElementCached] = []\n",
    "    \n",
    "    def push(self, x: int) -> None:\n",
    "\n",
    "        self._elementcached_max.append(\n",
    "            Stack.ElementCached(x, x if self.empty() else max(x, self.max()))\n",
    "        )"
   ]
  }
 ],
 "metadata": {
  "kernelspec": {
   "display_name": "Python 3",
   "language": "python",
   "name": "python3"
  },
  "language_info": {
   "codemirror_mode": {
    "name": "ipython",
    "version": 3
   },
   "file_extension": ".py",
   "mimetype": "text/x-python",
   "name": "python",
   "nbconvert_exporter": "python",
   "pygments_lexer": "ipython3",
   "version": "3.8.5"
  }
 },
 "nbformat": 4,
 "nbformat_minor": 4
}
