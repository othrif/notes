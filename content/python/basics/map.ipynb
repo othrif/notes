{
 "cells": [
  {
   "cell_type": "raw",
   "metadata": {},
   "source": [
    "---\n",
    "title: \"map, zip, eval, ord, dir, pow  function\"\n",
    "date: 2020-04-12T14:41:32+02:00\n",
    "author: \"Othmane Rifki\"\n",
    "type: technical_note\n",
    "draft: false\n",
    "---"
   ]
  },
  {
   "cell_type": "markdown",
   "metadata": {},
   "source": [
    "### map() "
   ]
  },
  {
   "cell_type": "markdown",
   "metadata": {},
   "source": [
    "The `map()` function allows you to execute a specified function for each item in an iterable that it takes as input(both function and iterable).\n",
    "\n",
    "| Syntax: map(function, iterable)   "
   ]
  },
  {
   "cell_type": "code",
   "execution_count": 2,
   "metadata": {},
   "outputs": [
    {
     "name": "stdout",
     "output_type": "stream",
     "text": [
      "Mapped result is:  [1, 4, 9, 16]\n"
     ]
    }
   ],
   "source": [
    "def square(n):\n",
    "    return n * n\n",
    "\n",
    "num_list = [1,2,3,4]\n",
    "result = map(square, num_list)\n",
    "print('Mapped result is: ', list(result))"
   ]
  },
  {
   "cell_type": "markdown",
   "metadata": {},
   "source": [
    "### zip()\n",
    "If we pass two iterators in zip() function, both iterators containing the same number of elements, then the zip() function will return an iterator of a tuple. Each tuple contains a map of the same index elements from the given iterators.\n",
    "\n",
    "| Syntax: zip(*iterators)"
   ]
  },
  {
   "cell_type": "code",
   "execution_count": 3,
   "metadata": {},
   "outputs": [
    {
     "name": "stdout",
     "output_type": "stream",
     "text": [
      "The zipped result is:  {(1, 'One'), (3, 'Three'), (2, 'Two')}\n"
     ]
    }
   ],
   "source": [
    "numbers = [1, 2, 3]\n",
    "letters = ['One', 'Two', 'Three']\n",
    "\n",
    "result = zip(numbers, letters)\n",
    "\n",
    "# converting values to print as set\n",
    "result = set(result)\n",
    "print('The zipped result is: ', result)"
   ]
  },
  {
   "cell_type": "markdown",
   "metadata": {},
   "source": [
    "### eval()\n",
    "\n",
    "eval function evaluates a string input as a python expression and returns the output as an integer.\n",
    "\n",
    "| Syntax : eval(string)"
   ]
  },
  {
   "cell_type": "code",
   "execution_count": 4,
   "metadata": {},
   "outputs": [
    {
     "name": "stdout",
     "output_type": "stream",
     "text": [
      "25\n",
      "24\n"
     ]
    }
   ],
   "source": [
    "result1 = eval('10 + 15')\n",
    "\n",
    "result2 = eval('3 * 8')\n",
    "\n",
    "print(result1)\n",
    "print(result2)"
   ]
  },
  {
   "cell_type": "markdown",
   "metadata": {},
   "source": [
    "### ord()\n",
    "\n",
    "This function is used to return the Unicode code point of a given character.\n",
    "\n",
    "| Syntax: ord(character)"
   ]
  },
  {
   "cell_type": "code",
   "execution_count": 5,
   "metadata": {},
   "outputs": [
    {
     "name": "stdout",
     "output_type": "stream",
     "text": [
      "97\n",
      "36\n",
      "32\n"
     ]
    }
   ],
   "source": [
    "x = ord('a')\n",
    "y = ord('$')\n",
    "z = ord(' ')   #space character\n",
    "\n",
    "print(x)\n",
    "print(y)\n",
    "print(z)"
   ]
  },
  {
   "cell_type": "markdown",
   "metadata": {},
   "source": [
    "#### dir()\n",
    "\n",
    "`dir()` returns a valid list of all the attributes of the specified object.\n",
    "\n",
    "|Syntax: dir(object)"
   ]
  },
  {
   "cell_type": "code",
   "execution_count": 6,
   "metadata": {},
   "outputs": [
    {
     "name": "stdout",
     "output_type": "stream",
     "text": [
      "['__class__', '__delattr__', '__dict__', '__dir__', '__doc__', '__eq__', '__format__', '__ge__', '__getattribute__', '__gt__', '__hash__', '__init__', '__init_subclass__', '__le__', '__lt__', '__module__', '__ne__', '__new__', '__reduce__', '__reduce_ex__', '__repr__', '__setattr__', '__sizeof__', '__str__', '__subclasshook__', '__weakref__', 'age', 'name', 'rollNo']\n"
     ]
    }
   ],
   "source": [
    "class Student:\n",
    "  name = \"Joy\",\n",
    "  age = 16,\n",
    "  rollNo = 25\n",
    "  \n",
    "print(dir(Student))"
   ]
  }
 ],
 "metadata": {
  "kernelspec": {
   "display_name": "Python 3",
   "language": "python",
   "name": "python3"
  },
  "language_info": {
   "codemirror_mode": {
    "name": "ipython",
    "version": 3
   },
   "file_extension": ".py",
   "mimetype": "text/x-python",
   "name": "python",
   "nbconvert_exporter": "python",
   "pygments_lexer": "ipython3",
   "version": "3.8.5"
  }
 },
 "nbformat": 4,
 "nbformat_minor": 4
}
