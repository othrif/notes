{
 "cells": [
  {
   "cell_type": "raw",
   "metadata": {},
   "source": [
    "---\n",
    "title: \"Print statements\"\n",
    "date: 2020-04-12T14:41:32+02:00\n",
    "author: \"Othmane Rifki\"\n",
    "type: technical_note\n",
    "draft: false\n",
    "---"
   ]
  },
  {
   "cell_type": "markdown",
   "metadata": {},
   "source": [
    "### f-string formatting:\n",
    "``` python\n",
    "f ' <text> { <expression> <optional !s, !r, or !a> <optional : format specifier> } <text> ... '\n",
    "```\n",
    "where `<optional !s, !r, or !a>` mean `!s (str), !r (repr), and !a (ascii)`\n"
   ]
  },
  {
   "cell_type": "code",
   "execution_count": 11,
   "metadata": {},
   "outputs": [
    {
     "name": "stdout",
     "output_type": "stream",
     "text": [
      "In lower case:  othmane\n",
      "My name is othmane, my age next year is 31, my anniversary is Monday, February 06, 1989.\n",
      "He said his name is 'Othmane'.\n",
      "Raw output: /Users/othmanerifki\n",
      "Hi Othmane.Your age is 30.\n"
     ]
    }
   ],
   "source": [
    "import datetime\n",
    "name = 'Othmane'\n",
    "age = 30\n",
    "anniversary = datetime.date(1989, 2, 6)\n",
    "print(f'My name is {name.lower()}, my age next year is {age+1}, my anniversary is {anniversary:%A, %B %d, %Y}.')\n",
    "print(f'He said his name is {name!r}.') # !r for repr\n",
    "print(r'Raw output: /Users/othmanerifki') # r for raw output\n",
    "message = (\n",
    "    f'Hi {name}.'\n",
    "    f'Your age is {age}.'\n",
    ")\n",
    "print(message)"
   ]
  },
  {
   "cell_type": "markdown",
   "metadata": {},
   "source": [
    "### Quotation, braces:"
   ]
  },
  {
   "cell_type": "code",
   "execution_count": 13,
   "metadata": {},
   "outputs": [
    {
     "name": "stdout",
     "output_type": "stream",
     "text": [
      "Using quotation Othmane.\n",
      "Using quotation \"Othmane\".\n",
      "Using quotation 'Othmane'.\n",
      "Without braces 74\n",
      "With braces {74}\n",
      "to show more {{74}}\n"
     ]
    }
   ],
   "source": [
    "print(f'Using quotation {name}.')\n",
    "print(f'Using quotation \"{name}\".')\n",
    "print(f'Using quotation \\'{name}\\'.')\n",
    "print(f'Without braces {74}')\n",
    "print(f'With braces {{74}}')\n",
    "print(f'to show more {{{{74}}}}')"
   ]
  },
  {
   "cell_type": "markdown",
   "metadata": {},
   "source": [
    "### Number formatting\n",
    "``` python f'{value:{width}.{precision}<type>}' ```  \n",
    "`<type>`: s(string), f(float), d(decimal), x(hex), X(HEX), e(exponent scientific notation), E(same as e with 'E'), g(general, it rounds and format to scientific or fixed decimals), G(same as g but E), %(x100 and percent sign)"
   ]
  },
  {
   "cell_type": "code",
   "execution_count": 14,
   "metadata": {},
   "outputs": [
    {
     "name": "stdout",
     "output_type": "stream",
     "text": [
      "With float is 83.10kg\n",
      "With percentage is 20.00%\n",
      "With scientific notation is 1.00E-06\n",
      "With general notation is 1e-06\n"
     ]
    }
   ],
   "source": [
    "weight = 83.1\n",
    "print(f'With float is {weight:.2f}kg')\n",
    "print(f'With percentage is {20/100:.2%}')\n",
    "print(f'With scientific notation is {10**-6:.2E}')\n",
    "print(f'With general notation is {10**-6:g}')"
   ]
  },
  {
   "cell_type": "markdown",
   "metadata": {},
   "source": [
    "### Indexing \n",
    "Not quite about printing, but a good illustration of what to expect"
   ]
  },
  {
   "cell_type": "code",
   "execution_count": 15,
   "metadata": {},
   "outputs": [
    {
     "name": "stdout",
     "output_type": "stream",
     "text": [
      "Particular element: H\n",
      "substring: Hello\n",
      "substring: Hello\n",
      "substring: Hello\n",
      "substring: World\n",
      "skip 2: HloWrd\n",
      "skip 3: HlWl\n",
      "Invert order: dlroW olleH\n",
      "String length: 11\n",
      "Repetition: ..........\n",
      "Concatenation: Hello World from Hamburg!\n",
      "Escape characters...\n",
      "few examples in this line: '\"12 \thorizontal\n",
      "XXX4567 carriage return \n"
     ]
    }
   ],
   "source": [
    "txt = 'Hello World'\n",
    "print(f'Particular element: {txt[0]}')\n",
    "print(f'substring: {txt[0:5]}')\n",
    "print(f'substring: {txt[:5]}')\n",
    "print(f'substring: {txt[0:-6]}')\n",
    "print(f'substring: {txt[6:]}')\n",
    "print(f'skip 2: {txt[::2]}')\n",
    "print(f'skip 3: {txt[::3]}')\n",
    "print(f'Invert order: {txt[::-1]}')\n",
    "print(f'String length: {len(txt)}')\n",
    "print(f'Repetition: {\".\"*10}')\n",
    "print(f'Concatenation: {txt+\" from Hamburg!\"}')\n",
    "print(f'Escape characters...')\n",
    "print(f'few examples in this line: \\'\\\"123\\b \\thorizontal')\n",
    "print(f'1234567 carriage return \\rXXX')"
   ]
  },
  {
   "cell_type": "markdown",
   "metadata": {},
   "source": [
    "### Casting\n",
    "Same as above, not related to printing but gives a good illustration"
   ]
  },
  {
   "cell_type": "code",
   "execution_count": 27,
   "metadata": {},
   "outputs": [
    {
     "name": "stdout",
     "output_type": "stream",
     "text": [
      "Test with x+y where x=10, y=7.1\n",
      "No casting: x+y=107.1\n",
      "Casting to float: x+y=17.1\n",
      "Casting to int: x+y=17\n"
     ]
    }
   ],
   "source": [
    "x=\"10\"\n",
    "y=\"7.1\"\n",
    "print(f'Test with x+y where x={x}, y={y}')\n",
    "print(f'No casting: x+y={x+y}')\n",
    "print(f'Casting to float: x+y={float(x)+float(y)}')\n",
    "print(f'Casting to int: x+y={int(x)+int(float(y))}') # int(7.1) give error"
   ]
  }
 ],
 "metadata": {
  "kernelspec": {
   "display_name": "Python 3",
   "language": "python",
   "name": "python3"
  },
  "language_info": {
   "codemirror_mode": {
    "name": "ipython",
    "version": 3
   },
   "file_extension": ".py",
   "mimetype": "text/x-python",
   "name": "python",
   "nbconvert_exporter": "python",
   "pygments_lexer": "ipython3",
   "version": "3.8.5"
  }
 },
 "nbformat": 4,
 "nbformat_minor": 4
}
