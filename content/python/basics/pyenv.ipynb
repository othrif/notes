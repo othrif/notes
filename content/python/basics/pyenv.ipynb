{
 "cells": [
  {
   "cell_type": "raw",
   "metadata": {},
   "source": [
    "---\n",
    "title: \"Using pyenv and upgrading python\"\n",
    "date: 2020-04-12T14:41:32+02:00\n",
    "author: \"Othmane Rifki\"\n",
    "type: technical_note\n",
    "draft: false\n",
    "---"
   ]
  },
  {
   "cell_type": "markdown",
   "metadata": {},
   "source": [
    "### Update pyenv\n",
    "\n",
    "To pick up the latest python versions for example to get `3.9.2`\n",
    "\n",
    "``` bash\n",
    "cd /home/`whoami`/.pyenv/plugins/python-build/../.. && git pull && cd -\n",
    "pyenv install 3.9.2\n",
    "```\n"
   ]
  },
  {
   "cell_type": "markdown",
   "metadata": {},
   "source": [
    "### Update python from 3.8.5 to 3.9.6\n",
    "\n",
    "``` bash \n",
    "pip list | awk '{print $1}' > /tmp/requirements.txt # list of all your packages in the current python version\n",
    "brew upgrade\n",
    "pyenv install 3.9.6\n",
    "eval \"$(pyenv init --path)\" # add in .zshrc or .bashrc\n",
    "pyenv global 3.9.6\n",
    "pip install -r /tmp/requirements.txt\n",
    "```"
   ]
  },
  {
   "cell_type": "markdown",
   "metadata": {},
   "source": [
    "### Working with pyenv\n",
    "* Note all my old packages worked in 3.8.5\n",
    "* good review article: https://mungingdata.com/python/how-pyenv-works-shims/\n",
    "* https://realpython.com/intro-to-pyenv/\n",
    "\n",
    "``` bash\n",
    "brew upgrade\n",
    "pyenv install --list | grep \" 3\\.9\"\n",
    "pyenv versions\n",
    "eval \"$(pyenv init --path)\" # add in .zshrc or .bashrc\n",
    "pyenv global 3.9.6  # set the global python\n",
    "cat ~/.pyenv/version # Global python version\n",
    "python -m test # test your python \n",
    "pyenv local 3.6.11 # set a python version for a specific directory\n",
    "cat /tmp/pyenv_test/.python-version # local python version\n",
    "ls ~/.pyenv/versions/3.6.11/lib/python3.6/site-packages # all packages code location and what is installed\n",
    "pyenv uninstall 3.6.11 # uninstall python versions you do not want\n",
    "pyenv shell 3.8.5 # Change python version\n",
    "echo $PYENV_VERSION # gives you the python version\n",
    "```"
   ]
  },
  {
   "cell_type": "markdown",
   "metadata": {},
   "source": [
    "###  Install all packages from old version to new\n",
    "``` bash\n",
    "pyenv shell 3.8.5\n",
    "pip list | awk '{print $1}' > /tmp/requirements.txt\n",
    "pyenv shell 3.9.6\n",
    "pip install -r /tmp/requirements.txt\n",
    "```"
   ]
  },
  {
   "cell_type": "markdown",
   "metadata": {},
   "source": [
    "### pyenv and virtual environment\n",
    "\n",
    "``` bash \n",
    "brew install pyenv-virtualenv\n",
    "eval \"$(pyenv virtualenv-init -)\" # add in .zshrc or .bashrc\n",
    "# pyenv virtualenv <python_version> <environment_name>\n",
    "pyenv virtualenv 3.9.6 myproject # create virtual environment\n",
    "pyenv local myproject # activate env\n",
    "pyenv which python # check that you are in the env\n",
    "```"
   ]
  },
  {
   "cell_type": "markdown",
   "metadata": {},
   "source": [
    "### Working with multiple environments"
   ]
  },
  {
   "cell_type": "markdown",
   "metadata": {},
   "source": [
    "``` bash \n",
    "# Project 1\n",
    "$ cd ~/project1/\n",
    "$ pyenv which python\n",
    "/usr/bin/python\n",
    "$ pyenv virtualenv 3.6.8 project1\n",
    "# ...\n",
    "$ pyenv local project1\n",
    "$ python -V\n",
    "/home/realpython/.pyenv/versions/project1/bin/python\n",
    "# Outside of folder is normal python\n",
    "$ cd $HOME\n",
    "$ pyenv which python\n",
    "/usr/bin/python\n",
    "\n",
    "# Project 2\n",
    "cd ~/project2/\n",
    "pyenv virtualenv 3.8-dev project2\n",
    "pyenv local project2\n",
    "\n",
    "# Result\n",
    "$ cd project2/\n",
    "$ python -V\n",
    "Python 3.8.0a0\n",
    "$ cd ../project1\n",
    "$ python -V\n",
    "Python 3.6.8\n",
    "```"
   ]
  }
 ],
 "metadata": {
  "kernelspec": {
   "display_name": "Python 3",
   "language": "python",
   "name": "python3"
  },
  "language_info": {
   "codemirror_mode": {
    "name": "ipython",
    "version": 3
   },
   "file_extension": ".py",
   "mimetype": "text/x-python",
   "name": "python",
   "nbconvert_exporter": "python",
   "pygments_lexer": "ipython3",
   "version": "3.8.5"
  }
 },
 "nbformat": 4,
 "nbformat_minor": 4
}
