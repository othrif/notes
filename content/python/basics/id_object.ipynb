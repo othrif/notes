{
 "cells": [
  {
   "cell_type": "raw",
   "metadata": {},
   "source": [
    "---\n",
    "title: \"id() of an object\"\n",
    "date: 2020-04-12T14:41:32+02:00\n",
    "author: \"Othmane Rifki\"\n",
    "type: technical_note\n",
    "draft: false\n",
    "---"
   ]
  },
  {
   "cell_type": "markdown",
   "metadata": {},
   "source": [
    "Everything in python is an object. `id(object)` function returns the identity of the object. This is an integer that is unique for the given object and remains constant during its lifetime."
   ]
  },
  {
   "cell_type": "code",
   "execution_count": 1,
   "metadata": {},
   "outputs": [
    {
     "name": "stdout",
     "output_type": "stream",
     "text": [
      "id of 5 = 4483840576\n",
      "id of a = 4483840576\n",
      "id of b = 4483840576\n",
      "id of c = 4518905328\n"
     ]
    }
   ],
   "source": [
    "print('id of 5 =',id(5))\n",
    "\n",
    "a = 5\n",
    "print('id of a =',id(a))\n",
    "\n",
    "b = a\n",
    "print('id of b =',id(b))\n",
    "\n",
    "c = 5.0\n",
    "print('id of c =',id(c))"
   ]
  }
 ],
 "metadata": {
  "kernelspec": {
   "display_name": "Python 3",
   "language": "python",
   "name": "python3"
  },
  "language_info": {
   "codemirror_mode": {
    "name": "ipython",
    "version": 3
   },
   "file_extension": ".py",
   "mimetype": "text/x-python",
   "name": "python",
   "nbconvert_exporter": "python",
   "pygments_lexer": "ipython3",
   "version": "3.8.5"
  }
 },
 "nbformat": 4,
 "nbformat_minor": 4
}
