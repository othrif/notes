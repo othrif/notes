{
 "cells": [
  {
   "cell_type": "raw",
   "metadata": {},
   "source": [
    "---\n",
    "title: \"Split text column into multiple new columns\"\n",
    "date: 2020-04-12T14:41:32+02:00\n",
    "author: \"Othmane Rifki\"\n",
    "type: technical_note\n",
    "draft: false\n",
    "---"
   ]
  },
  {
   "cell_type": "markdown",
   "metadata": {},
   "source": [
    "See: https://github.com/dennisbakhuis/Tutorials/blob/master/B_Pandas_tips/2-%20Split%20text%20column%20into%20multiple%20new%20columns.ipynb"
   ]
  },
  {
   "cell_type": "code",
   "execution_count": 1,
   "metadata": {},
   "outputs": [
    {
     "data": {
      "text/html": [
       "<div>\n",
       "<style scoped>\n",
       "    .dataframe tbody tr th:only-of-type {\n",
       "        vertical-align: middle;\n",
       "    }\n",
       "\n",
       "    .dataframe tbody tr th {\n",
       "        vertical-align: top;\n",
       "    }\n",
       "\n",
       "    .dataframe thead th {\n",
       "        text-align: right;\n",
       "    }\n",
       "</style>\n",
       "<table border=\"1\" class=\"dataframe\">\n",
       "  <thead>\n",
       "    <tr style=\"text-align: right;\">\n",
       "      <th></th>\n",
       "      <th>path</th>\n",
       "      <th>folder</th>\n",
       "      <th>filename</th>\n",
       "    </tr>\n",
       "  </thead>\n",
       "  <tbody>\n",
       "    <tr>\n",
       "      <th>0</th>\n",
       "      <td>train/data_shard_1.csv</td>\n",
       "      <td>train</td>\n",
       "      <td>data_shard_1.csv</td>\n",
       "    </tr>\n",
       "    <tr>\n",
       "      <th>1</th>\n",
       "      <td>train/data_shard_2.csv</td>\n",
       "      <td>train</td>\n",
       "      <td>data_shard_2.csv</td>\n",
       "    </tr>\n",
       "    <tr>\n",
       "      <th>2</th>\n",
       "      <td>train/data_shard_3.csv</td>\n",
       "      <td>train</td>\n",
       "      <td>data_shard_3.csv</td>\n",
       "    </tr>\n",
       "    <tr>\n",
       "      <th>3</th>\n",
       "      <td>test/data_shard_1.csv</td>\n",
       "      <td>test</td>\n",
       "      <td>data_shard_1.csv</td>\n",
       "    </tr>\n",
       "    <tr>\n",
       "      <th>4</th>\n",
       "      <td>test/data_shard_2.csv</td>\n",
       "      <td>test</td>\n",
       "      <td>data_shard_2.csv</td>\n",
       "    </tr>\n",
       "  </tbody>\n",
       "</table>\n",
       "</div>"
      ],
      "text/plain": [
       "                     path folder          filename\n",
       "0  train/data_shard_1.csv  train  data_shard_1.csv\n",
       "1  train/data_shard_2.csv  train  data_shard_2.csv\n",
       "2  train/data_shard_3.csv  train  data_shard_3.csv\n",
       "3   test/data_shard_1.csv   test  data_shard_1.csv\n",
       "4   test/data_shard_2.csv   test  data_shard_2.csv"
      ]
     },
     "execution_count": 1,
     "metadata": {},
     "output_type": "execute_result"
    }
   ],
   "source": [
    "import pandas as pd\n",
    "\n",
    "df = pd.DataFrame([\n",
    "    {'path': 'train/data_shard_1.csv'},\n",
    "    {'path': 'train/data_shard_2.csv'},\n",
    "    {'path': 'train/data_shard_3.csv'},\n",
    "    {'path': 'test/data_shard_1.csv'},\n",
    "    {'path': 'test/data_shard_2.csv'},\n",
    "])\n",
    "\n",
    "df = (df\n",
    "    .join(df\n",
    "        .loc[:, 'path']\n",
    "        .str.split('/', expand=True)\n",
    "        .rename(columns={0: 'folder', 1: 'filename'})\n",
    "    )\n",
    ")\n",
    "\n",
    "df"
   ]
  }
 ],
 "metadata": {
  "kernelspec": {
   "display_name": "Python 3",
   "language": "python",
   "name": "python3"
  },
  "language_info": {
   "codemirror_mode": {
    "name": "ipython",
    "version": 3
   },
   "file_extension": ".py",
   "mimetype": "text/x-python",
   "name": "python",
   "nbconvert_exporter": "python",
   "pygments_lexer": "ipython3",
   "version": "3.8.5"
  }
 },
 "nbformat": 4,
 "nbformat_minor": 4
}
