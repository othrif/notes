{
 "cells": [
  {
   "cell_type": "raw",
   "metadata": {},
   "source": [
    "---\n",
    "title: \"Primitive types\"\n",
    "date: 2021-02-04T00:00:00+00:00\n",
    "author: \"Othmane Rifki\"\n",
    "type: technical_note\n",
    "draft: false\n",
    "---"
   ]
  },
  {
   "cell_type": "markdown",
   "metadata": {},
   "source": [
    "### Definition"
   ]
  },
  {
   "cell_type": "markdown",
   "metadata": {},
   "source": [
    "Everything in Python is an object. Primitive types are built-in types such as: numerics (integers,etc.), sequences (lists...), mappings (dict), classes, instances, and exceptions."
   ]
  },
  {
   "cell_type": "markdown",
   "metadata": {},
   "source": [
    "### Key methods for numeric"
   ]
  },
  {
   "cell_type": "code",
   "execution_count": 63,
   "metadata": {},
   "outputs": [
    {
     "name": "stdout",
     "output_type": "stream",
     "text": [
      "Absolutve value: 34.5\n",
      "Round up: 35\n",
      "Round down: 34\n",
      "Max value: 1000\n",
      "Power: 1190.25 OR 1190.25\n",
      "Square root: 5.873670062235365\n"
     ]
    }
   ],
   "source": [
    "import math\n",
    "print(f'Absolutve value: {abs(-34.5)}')\n",
    "print(f'Round up: {math.ceil(34.5)}')\n",
    "print(f'Round down: {math.floor(34.5)}')\n",
    "print(f'Max value: {max(34.5, 1000)}')\n",
    "print(f'Power: {pow(34.5,2)} OR {34.5**2}')\n",
    "print(f'Square root: {math.sqrt(34.5)}')"
   ]
  },
  {
   "cell_type": "markdown",
   "metadata": {},
   "source": [
    "### Interconvert numbers and strings"
   ]
  },
  {
   "cell_type": "code",
   "execution_count": 67,
   "metadata": {},
   "outputs": [
    {
     "data": {
      "text/plain": [
       "'42'"
      ]
     },
     "execution_count": 67,
     "metadata": {},
     "output_type": "execute_result"
    }
   ],
   "source": [
    "str(42)"
   ]
  },
  {
   "cell_type": "code",
   "execution_count": 68,
   "metadata": {},
   "outputs": [
    {
     "data": {
      "text/plain": [
       "42"
      ]
     },
     "execution_count": 68,
     "metadata": {},
     "output_type": "execute_result"
    }
   ],
   "source": [
    "int('42')"
   ]
  },
  {
   "cell_type": "code",
   "execution_count": 69,
   "metadata": {},
   "outputs": [
    {
     "data": {
      "text/plain": [
       "'87.3'"
      ]
     },
     "execution_count": 69,
     "metadata": {},
     "output_type": "execute_result"
    }
   ],
   "source": [
    "str(87.3)"
   ]
  },
  {
   "cell_type": "code",
   "execution_count": 70,
   "metadata": {},
   "outputs": [
    {
     "data": {
      "text/plain": [
       "87.3"
      ]
     },
     "execution_count": 70,
     "metadata": {},
     "output_type": "execute_result"
    }
   ],
   "source": [
    "float('87.3')"
   ]
  },
  {
   "cell_type": "markdown",
   "metadata": {},
   "source": [
    "### Maximum of numerics"
   ]
  },
  {
   "cell_type": "code",
   "execution_count": 72,
   "metadata": {},
   "outputs": [
    {
     "name": "stdout",
     "output_type": "stream",
     "text": [
      "9223372036854775807 True\n"
     ]
    }
   ],
   "source": [
    "# max integer is a function of the memory size\n",
    "import sys\n",
    "maxInt = sys.maxsize\n",
    "print(maxInt, sys.maxsize==2**63-1) # 64-bit machine"
   ]
  },
  {
   "cell_type": "code",
   "execution_count": 73,
   "metadata": {},
   "outputs": [
    {
     "data": {
      "text/plain": [
       "1.7976931348623157e+308"
      ]
     },
     "execution_count": 73,
     "metadata": {},
     "output_type": "execute_result"
    }
   ],
   "source": [
    "# Bounds on floats\n",
    "sys.float_info.max"
   ]
  },
  {
   "cell_type": "code",
   "execution_count": 88,
   "metadata": {},
   "outputs": [
    {
     "name": "stdout",
     "output_type": "stream",
     "text": [
      "Max float:inf, Min float:-inf\n",
      "Inf is larger than max int: True\n"
     ]
    }
   ],
   "source": [
    "# Pseudo max-float / min-float\n",
    "print(f'Max float:{float(\"inf\")}, Min float:{float(\"-inf\")}')\n",
    "print(f'Inf is larger than max int: {float(\"inf\") > sys.maxsize}')"
   ]
  },
  {
   "cell_type": "markdown",
   "metadata": {},
   "source": [
    "### Best of random"
   ]
  },
  {
   "cell_type": "code",
   "execution_count": 141,
   "metadata": {},
   "outputs": [
    {
     "name": "stdout",
     "output_type": "stream",
     "text": [
      "randrange(start): 49\n",
      "randrange(start, stop, step): 58\n",
      "randint(start, stop): 27\n"
     ]
    }
   ],
   "source": [
    "import random\n",
    "# randrange([start], stop[, step])\n",
    "print(f'randrange(start): {random.randrange(100)}') # 0 to 99 [0,100)\n",
    "print(f'randrange(start, stop, step): {random.randrange(0, 100, 2)}') # 0 to 99 [0,100) with setps of 2\n",
    "# randint(a, b) = randrange(a,b+1)\n",
    "print(f'randint(start, stop): {random.randint(0,100)}') # 0 to 100 [0,100]"
   ]
  },
  {
   "cell_type": "code",
   "execution_count": 129,
   "metadata": {},
   "outputs": [
    {
     "name": "stdout",
     "output_type": "stream",
     "text": [
      "random(): 0.09094037940054844\n",
      "uniform(): 5.191762349159088\n"
     ]
    }
   ],
   "source": [
    "# Random float:  0.0 <= x < 1.0\n",
    "print(f'random(): {random.random()}')\n",
    "# Random float:  2.5 <= x < 10.0\n",
    "print(f'uniform(): {random.uniform(2.5, 10.0)}')"
   ]
  },
  {
   "cell_type": "code",
   "execution_count": 130,
   "metadata": {},
   "outputs": [
    {
     "data": {
      "text/plain": [
       "[3, 4, 2, 1, 5]"
      ]
     },
     "execution_count": 130,
     "metadata": {},
     "output_type": "execute_result"
    }
   ],
   "source": [
    "# Randomly shuffle a lit\n",
    "A = [1,2,3,4,5]\n",
    "random.shuffle(A)\n",
    "A"
   ]
  },
  {
   "cell_type": "code",
   "execution_count": 133,
   "metadata": {},
   "outputs": [
    {
     "data": {
      "text/plain": [
       "'lose'"
      ]
     },
     "execution_count": 133,
     "metadata": {},
     "output_type": "execute_result"
    }
   ],
   "source": [
    "# Single random element from a sequence\n",
    "random.choice(['win', 'lose', 'draw'])"
   ]
  },
  {
   "cell_type": "markdown",
   "metadata": {},
   "source": [
    "### Unicode, numbering systems"
   ]
  },
  {
   "cell_type": "code",
   "execution_count": 23,
   "metadata": {},
   "outputs": [
    {
     "data": {
      "text/plain": [
       "3"
      ]
     },
     "execution_count": 23,
     "metadata": {},
     "output_type": "execute_result"
    }
   ],
   "source": [
    "# bin representation\n",
    "0b11"
   ]
  },
  {
   "cell_type": "code",
   "execution_count": 24,
   "metadata": {},
   "outputs": [
    {
     "data": {
      "text/plain": [
       "9"
      ]
     },
     "execution_count": 24,
     "metadata": {},
     "output_type": "execute_result"
    }
   ],
   "source": [
    "# Octal representation\n",
    "0o11"
   ]
  },
  {
   "cell_type": "code",
   "execution_count": 1,
   "metadata": {},
   "outputs": [
    {
     "data": {
      "text/plain": [
       "17"
      ]
     },
     "execution_count": 1,
     "metadata": {},
     "output_type": "execute_result"
    }
   ],
   "source": [
    "# Hex representation\n",
    "0x11"
   ]
  },
  {
   "cell_type": "code",
   "execution_count": 26,
   "metadata": {},
   "outputs": [
    {
     "data": {
      "text/plain": [
       "['0b1', '0b10', '0b100', '0b1000', '0b10000']"
      ]
     },
     "execution_count": 26,
     "metadata": {},
     "output_type": "execute_result"
    }
   ],
   "source": [
    "# To binary\n",
    "[bin(i) for i in [1, 2, 4, 8, 16]] "
   ]
  },
  {
   "cell_type": "code",
   "execution_count": 27,
   "metadata": {},
   "outputs": [
    {
     "data": {
      "text/plain": [
       "[1, 2, 4, 8, 16]"
      ]
     },
     "execution_count": 27,
     "metadata": {},
     "output_type": "execute_result"
    }
   ],
   "source": [
    "# From binary\n",
    "[int(i, base=2) for i in ['0b1', '0b10', '0b100', '0b1000', '0b10000']] "
   ]
  },
  {
   "cell_type": "code",
   "execution_count": 28,
   "metadata": {},
   "outputs": [
    {
     "data": {
      "text/plain": [
       "['0x1', '0x2', '0x4', '0x8', '0x10']"
      ]
     },
     "execution_count": 28,
     "metadata": {},
     "output_type": "execute_result"
    }
   ],
   "source": [
    "# To hex\n",
    "[hex(i) for i in [1, 2, 4, 8, 16]]"
   ]
  },
  {
   "cell_type": "code",
   "execution_count": 29,
   "metadata": {},
   "outputs": [
    {
     "data": {
      "text/plain": [
       "97"
      ]
     },
     "execution_count": 29,
     "metadata": {},
     "output_type": "execute_result"
    }
   ],
   "source": [
    "# To ordinal value (index of character in utf-8 or ascii)\n",
    "ord('a')"
   ]
  },
  {
   "cell_type": "code",
   "execution_count": 22,
   "metadata": {},
   "outputs": [
    {
     "data": {
      "text/plain": [
       "'a'"
      ]
     },
     "execution_count": 22,
     "metadata": {},
     "output_type": "execute_result"
    }
   ],
   "source": [
    "# From ordinal value\n",
    "chr(97)"
   ]
  },
  {
   "cell_type": "code",
   "execution_count": 32,
   "metadata": {},
   "outputs": [
    {
     "data": {
      "text/plain": [
       "b'hello world'"
      ]
     },
     "execution_count": 32,
     "metadata": {},
     "output_type": "execute_result"
    }
   ],
   "source": [
    "# to bytes (b'' is for bytes)\n",
    "bytes((104, 101, 108, 108, 111, 32, 119, 111, 114, 108, 100))"
   ]
  },
  {
   "cell_type": "code",
   "execution_count": 36,
   "metadata": {},
   "outputs": [
    {
     "data": {
      "text/plain": [
       "b'r\\xc3\\xa9sum\\xc3\\xa9'"
      ]
     },
     "execution_count": 36,
     "metadata": {},
     "output_type": "execute_result"
    }
   ],
   "source": [
    "# encode using UTF-8\n",
    "\"résumé\".encode(\"utf-8\")"
   ]
  },
  {
   "cell_type": "code",
   "execution_count": 35,
   "metadata": {},
   "outputs": [
    {
     "data": {
      "text/plain": [
       "'résumé'"
      ]
     },
     "execution_count": 35,
     "metadata": {},
     "output_type": "execute_result"
    }
   ],
   "source": [
    "# decode using UTF-8\n",
    "b'r\\xc3\\xa9sum\\xc3\\xa9'.decode(\"utf-8\")"
   ]
  },
  {
   "cell_type": "markdown",
   "metadata": {},
   "source": [
    "### Bitwise operations"
   ]
  },
  {
   "cell_type": "code",
   "execution_count": 41,
   "metadata": {},
   "outputs": [
    {
     "data": {
      "text/plain": [
       "'0b11111'"
      ]
     },
     "execution_count": 41,
     "metadata": {},
     "output_type": "execute_result"
    }
   ],
   "source": [
    "# Bitwise OR\n",
    "bin(0b10101 | 0b01010)"
   ]
  },
  {
   "cell_type": "code",
   "execution_count": 43,
   "metadata": {},
   "outputs": [
    {
     "data": {
      "text/plain": [
       "'0b10000'"
      ]
     },
     "execution_count": 43,
     "metadata": {},
     "output_type": "execute_result"
    }
   ],
   "source": [
    "# Bitwise AND\n",
    "bin(0b10101 & 0b11010)"
   ]
  },
  {
   "cell_type": "code",
   "execution_count": 59,
   "metadata": {},
   "outputs": [
    {
     "data": {
      "text/plain": [
       "'0b1100011'"
      ]
     },
     "execution_count": 59,
     "metadata": {},
     "output_type": "execute_result"
    }
   ],
   "source": [
    "# Bitwise NOT (caution with negative sign in python)\n",
    "# 255 = 2^8 -1\n",
    "bin(~0b10011100 & 255)"
   ]
  },
  {
   "cell_type": "code",
   "execution_count": 52,
   "metadata": {},
   "outputs": [
    {
     "name": "stdout",
     "output_type": "stream",
     "text": [
      "0b1100011\n",
      "0b1100011\n"
     ]
    }
   ],
   "source": [
    "# Function to perform bitwise not operation\n",
    "def bit_not(n, numbits=8):\n",
    "    return ~n & ((1 << numbits) - 1)\n",
    "print(bin(bit_not(0b10011100)))\n",
    "\n",
    "# Alternative formulation:\n",
    "def bit_not(n, numbits=8):\n",
    "    return (1 << numbits) - 1 - n\n",
    "print(bin(bit_not(0b10011100)))"
   ]
  },
  {
   "cell_type": "code",
   "execution_count": 39,
   "metadata": {},
   "outputs": [
    {
     "data": {
      "text/plain": [
       "-1"
      ]
     },
     "execution_count": 39,
     "metadata": {},
     "output_type": "execute_result"
    }
   ],
   "source": [
    "# ~x = -x-1\n",
    "~0"
   ]
  },
  {
   "cell_type": "code",
   "execution_count": 46,
   "metadata": {},
   "outputs": [
    {
     "data": {
      "text/plain": [
       "'0b11011'"
      ]
     },
     "execution_count": 46,
     "metadata": {},
     "output_type": "execute_result"
    }
   ],
   "source": [
    "# Bitwise XOR (a_i + b_i mod 2)\n",
    "bin(0b10101 ^ 0b01110)"
   ]
  },
  {
   "cell_type": "code",
   "execution_count": 50,
   "metadata": {},
   "outputs": [
    {
     "data": {
      "text/plain": [
       "True"
      ]
     },
     "execution_count": 50,
     "metadata": {},
     "output_type": "execute_result"
    }
   ],
   "source": [
    "# Logical XOR (do not have equivalent similar to: & => and)\n",
    "def xor(a, b):\n",
    "    return (a and not b) or (not a and b)\n",
    "xor(2>8, 1>0)"
   ]
  },
  {
   "cell_type": "code",
   "execution_count": 61,
   "metadata": {},
   "outputs": [
    {
     "data": {
      "text/plain": [
       "'0b1001110'"
      ]
     },
     "execution_count": 61,
     "metadata": {},
     "output_type": "execute_result"
    }
   ],
   "source": [
    "# Left shift (a << n = a x 2^n)\n",
    "bin(0b100111 << 1)"
   ]
  },
  {
   "cell_type": "code",
   "execution_count": 62,
   "metadata": {},
   "outputs": [
    {
     "name": "stdout",
     "output_type": "stream",
     "text": [
      "78 is 2x 39\n"
     ]
    }
   ],
   "source": [
    "print(f'{0b100111 << 1} is 2x {0b100111}')"
   ]
  },
  {
   "cell_type": "code",
   "execution_count": 20,
   "metadata": {},
   "outputs": [
    {
     "data": {
      "text/plain": [
       "56"
      ]
     },
     "execution_count": 20,
     "metadata": {},
     "output_type": "execute_result"
    }
   ],
   "source": [
    "# restrict to 8 bits = 2^8-1\n",
    "39 << 3 & 255"
   ]
  },
  {
   "cell_type": "code",
   "execution_count": 68,
   "metadata": {},
   "outputs": [
    {
     "data": {
      "text/plain": [
       "'0b10011'"
      ]
     },
     "execution_count": 68,
     "metadata": {},
     "output_type": "execute_result"
    }
   ],
   "source": [
    "# Right shift(a >> n = a // 2^n, // => floor division)\n",
    "bin(0b100111 >> 1)"
   ]
  },
  {
   "cell_type": "code",
   "execution_count": 70,
   "metadata": {},
   "outputs": [
    {
     "name": "stdout",
     "output_type": "stream",
     "text": [
      "2 2 2.5\n"
     ]
    }
   ],
   "source": [
    "print(5 >> 1, 5 // 2, 5/2)"
   ]
  },
  {
   "cell_type": "code",
   "execution_count": 72,
   "metadata": {},
   "outputs": [
    {
     "name": "stdout",
     "output_type": "stream",
     "text": [
      "-0b101010\n",
      " 0b101010\n"
     ]
    }
   ],
   "source": [
    "# Sign bit\n",
    "print(bin(-42), bin(42), sep=\"\\n \")"
   ]
  },
  {
   "cell_type": "code",
   "execution_count": 75,
   "metadata": {},
   "outputs": [
    {
     "data": {
      "text/plain": [
       "'0b11010110'"
      ]
     },
     "execution_count": 75,
     "metadata": {},
     "output_type": "execute_result"
    }
   ],
   "source": [
    "mask = 0b11111111  # Same as 0xff or 255\n",
    "bin(-42 & mask)"
   ]
  },
  {
   "cell_type": "code",
   "execution_count": 80,
   "metadata": {},
   "outputs": [
    {
     "data": {
      "text/plain": [
       "214"
      ]
     },
     "execution_count": 80,
     "metadata": {},
     "output_type": "execute_result"
    }
   ],
   "source": [
    "int('0b11010110', 2) # 214 in unsigned same as -42 in signed"
   ]
  },
  {
   "cell_type": "code",
   "execution_count": 53,
   "metadata": {},
   "outputs": [],
   "source": [
    "# Bitmask operations: \n",
    "# value OP (1 << bit_index)\n",
    "# getting a bit => &\n",
    "# setting a bit => |\n",
    "# unsetting a bit => | ~\n",
    "# toggling a bit => ^"
   ]
  },
  {
   "cell_type": "code",
   "execution_count": 54,
   "metadata": {},
   "outputs": [
    {
     "name": "stdout",
     "output_type": "stream",
     "text": [
      "32\n",
      "1\n"
     ]
    }
   ],
   "source": [
    "# getting a bit\n",
    "\n",
    "# suppress all bits except desired one (2 ^ bit index)\n",
    "def get_bit(value, bit_index):\n",
    "    return value & (1 << bit_index)\n",
    "print(get_bit(0b10100000, bit_index=5))\n",
    "\n",
    "# yes or no answer\n",
    "def get_normalized_bit(value, bit_index):\n",
    "    return (value >> bit_index) & 1\n",
    "print(get_normalized_bit(0b10100000, bit_index=5))"
   ]
  },
  {
   "cell_type": "code",
   "execution_count": 90,
   "metadata": {},
   "outputs": [
    {
     "data": {
      "text/plain": [
       "160"
      ]
     },
     "execution_count": 90,
     "metadata": {},
     "output_type": "execute_result"
    }
   ],
   "source": [
    "# setting a bit\n",
    "def set_bit(value, bit_index):\n",
    "    return value | (1 << bit_index)\n",
    "set_bit(0b10000000, bit_index=5)"
   ]
  },
  {
   "cell_type": "code",
   "execution_count": 92,
   "metadata": {},
   "outputs": [
    {
     "data": {
      "text/plain": [
       "'0b11011111'"
      ]
     },
     "execution_count": 92,
     "metadata": {},
     "output_type": "execute_result"
    }
   ],
   "source": [
    "# unsetting bit\n",
    "def clear_bit(value, bit_index):\n",
    "    return value & ~(1 << bit_index)\n",
    "bin(clear_bit(0b11111111, bit_index=5))"
   ]
  },
  {
   "cell_type": "code",
   "execution_count": 93,
   "metadata": {},
   "outputs": [
    {
     "name": "stdout",
     "output_type": "stream",
     "text": [
      "0b100000\n",
      "0b10100000\n",
      "0b100000\n",
      "0b10100000\n",
      "0b100000\n"
     ]
    }
   ],
   "source": [
    "# toggle a bit on/off\n",
    "def toggle_bit(value, bit_index):\n",
    "    return value ^ (1 << bit_index)\n",
    "x = 0b10100000\n",
    "for _ in range(5):\n",
    "    x = toggle_bit(x, bit_index=7)\n",
    "    print(bin(x))"
   ]
  },
  {
   "cell_type": "code",
   "execution_count": 95,
   "metadata": {},
   "outputs": [
    {
     "name": "stdout",
     "output_type": "stream",
     "text": [
      "{'tomato', 'banana', 'apple', 'eggplant'}\n",
      "{'tomato'}\n",
      "{'eggplant', 'apple', 'banana'}\n",
      "{'apple', 'banana'}\n"
     ]
    }
   ],
   "source": [
    "# bitwise operator overloading\n",
    "fruits = {\"apple\", \"banana\", \"tomato\"}\n",
    "veggies = {\"eggplant\", \"tomato\"}\n",
    "print(fruits | veggies)\n",
    "print(fruits & veggies)\n",
    "print(fruits ^ veggies)\n",
    "print(fruits - veggies)"
   ]
  },
  {
   "cell_type": "markdown",
   "metadata": {},
   "source": [
    "### Important notations\n",
    "`a >>= b` means `a = a >> b`"
   ]
  }
 ],
 "metadata": {
  "kernelspec": {
   "display_name": "Python 3",
   "language": "python",
   "name": "python3"
  },
  "language_info": {
   "codemirror_mode": {
    "name": "ipython",
    "version": 3
   },
   "file_extension": ".py",
   "mimetype": "text/x-python",
   "name": "python",
   "nbconvert_exporter": "python",
   "pygments_lexer": "ipython3",
   "version": "3.8.5"
  }
 },
 "nbformat": 4,
 "nbformat_minor": 4
}
