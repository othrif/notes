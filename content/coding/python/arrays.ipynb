{
 "cells": [
  {
   "cell_type": "raw",
   "metadata": {},
   "source": [
    "---\n",
    "title: \"Arrays\"\n",
    "date: 2021-02-04T00:00:00+00:00\n",
    "author: \"Othmane Rifki\"\n",
    "type: technical_note\n",
    "draft: false\n",
    "---"
   ]
  },
  {
   "cell_type": "markdown",
   "metadata": {},
   "source": [
    "### Definition"
   ]
  },
  {
   "cell_type": "markdown",
   "metadata": {},
   "source": [
    "Arrays in python are of `list` type that is dynamically resized. The `tuple` is similar but immutable. "
   ]
  },
  {
   "cell_type": "markdown",
   "metadata": {},
   "source": [
    "### Basic operations"
   ]
  },
  {
   "cell_type": "code",
   "execution_count": 17,
   "metadata": {},
   "outputs": [
    {
     "name": "stdout",
     "output_type": "stream",
     "text": [
      "len() of A: 10\n",
      "append() to A: [0, 1, 2, 3, 4, 5, 6, 7, 8, 9, 5]\n",
      "remove() first occurence from A: [0, 1, 2, 3, 4, 6, 7, 8, 9, 5]\n",
      "insert() first occurence from A: [0, 999, 1, 2, 3, 4, 6, 7, 8, 9, 5]\n"
     ]
    }
   ],
   "source": [
    "A = list(range(10))\n",
    "print(f'len() of A: {len(A)}')\n",
    "A.append(5)\n",
    "print(f'append() to A: {A}')\n",
    "A.remove(5)\n",
    "print(f'remove() first occurence from A: {A}')\n",
    "A.insert(1, 999)\n",
    "print(f'insert() first occurence from A: {A}')"
   ]
  },
  {
   "cell_type": "markdown",
   "metadata": {},
   "source": [
    "### Copy\n",
    "3 types: \n",
    "* assignment copy(**=**): makes the two variables point to the one list in memory\n",
    "* shallow copy (**[:]** OR **copy.copy()**): constructs a new compound object and then (to the extent possible) inserts references into it to the objects found in the original\n",
    "* deep copy (**copy.deepcopy()**): constructs a new compound object and then, recursively, inserts copies into it of the objects found in the original. **Slower but changes will NOT be reflected on the original list**\n",
    "\n",
    "*Difference between shallow and deep copying is only relevant for compound objects (e.g. a list of lists, or class instances).*    \n",
    "Reference: https://medium.com/@thawsitt/assignment-vs-shallow-copy-vs-deep-copy-in-python-f70c2f0ebd86"
   ]
  },
  {
   "cell_type": "code",
   "execution_count": 25,
   "metadata": {},
   "outputs": [
    {
     "name": "stdout",
     "output_type": "stream",
     "text": [
      "Copied/modified list: ['red', 'blue', 'green', 'white']\n",
      "Original list ALSO modified: ['red', 'blue', 'green', 'white']\n"
     ]
    }
   ],
   "source": [
    "# Assignment copy\n",
    "colors = ['red', 'blue', 'green']\n",
    "b = colors\n",
    "b.append('white')\n",
    "print(f'Copied/modified list: {b}')\n",
    "print(f'Original list ALSO modified: {colors}')"
   ]
  },
  {
   "cell_type": "code",
   "execution_count": 26,
   "metadata": {},
   "outputs": [
    {
     "name": "stdout",
     "output_type": "stream",
     "text": [
      "Copied/modified list: [[1, 2], [2, 4], [3, 6]]\n",
      "Original list NOT modified: [[1, 2], [2, 4]]\n"
     ]
    }
   ],
   "source": [
    "# Shallow copy\n",
    "a = [[1, 2], [2, 4]]\n",
    "b = a[:] ## shallow copy\n",
    "b.append([3, 6])\n",
    "print(f'Copied/modified list: {b}')\n",
    "print(f'Original list NOT modified: {a}')"
   ]
  },
  {
   "cell_type": "code",
   "execution_count": 28,
   "metadata": {},
   "outputs": [
    {
     "name": "stdout",
     "output_type": "stream",
     "text": [
      "Copied/modified list: [[1, 2, 3], [2, 4]]\n",
      "Original list ALSO modified: [[1, 2, 3], [2, 4]]\n"
     ]
    }
   ],
   "source": [
    "# Shallow copy compound object => referenced to the original elements\n",
    "a = [[1, 2], [2, 4]]\n",
    "b = a[:] #shallow copy\n",
    "b[0].append(3)\n",
    "print(f'Copied/modified list: {b}')\n",
    "print(f'Original list ALSO modified: {a}')\n",
    "# List b has its own pointer, but its elements do not"
   ]
  },
  {
   "cell_type": "code",
   "execution_count": 29,
   "metadata": {},
   "outputs": [
    {
     "name": "stdout",
     "output_type": "stream",
     "text": [
      "Copied/modified list: [[1, 2, 3], [2, 4]]\n",
      "Original list NOT modified: [[1, 2], [2, 4]]\n"
     ]
    }
   ],
   "source": [
    "# Deep copy, need copy module\n",
    "import copy\n",
    "a = [[1, 2], [2, 4]]\n",
    "b = copy.deepcopy(a) ## deep copy\n",
    "b[0].append(3) \n",
    "print(f'Copied/modified list: {b}')\n",
    "print(f'Original list NOT modified: {a}')"
   ]
  },
  {
   "cell_type": "code",
   "execution_count": null,
   "metadata": {},
   "outputs": [],
   "source": []
  }
 ],
 "metadata": {
  "kernelspec": {
   "display_name": "Python 3",
   "language": "python",
   "name": "python3"
  },
  "language_info": {
   "codemirror_mode": {
    "name": "ipython",
    "version": 3
   },
   "file_extension": ".py",
   "mimetype": "text/x-python",
   "name": "python",
   "nbconvert_exporter": "python",
   "pygments_lexer": "ipython3",
   "version": "3.8.5"
  }
 },
 "nbformat": 4,
 "nbformat_minor": 4
}
