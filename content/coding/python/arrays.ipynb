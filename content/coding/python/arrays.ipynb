{
 "cells": [
  {
   "cell_type": "raw",
   "metadata": {},
   "source": [
    "---\n",
    "title: \"Arrays\"\n",
    "date: 2021-02-04T00:00:00+00:00\n",
    "author: \"Othmane Rifki\"\n",
    "type: technical_note\n",
    "draft: false\n",
    "---"
   ]
  },
  {
   "cell_type": "markdown",
   "metadata": {},
   "source": [
    "### Definition"
   ]
  },
  {
   "cell_type": "markdown",
   "metadata": {},
   "source": [
    "Arrays in python are of `list` type that is dynamically resized. The `tuple` is similar but immutable. "
   ]
  },
  {
   "cell_type": "markdown",
   "metadata": {},
   "source": [
    "### Basic operations"
   ]
  },
  {
   "cell_type": "code",
   "execution_count": 64,
   "metadata": {},
   "outputs": [
    {
     "name": "stdout",
     "output_type": "stream",
     "text": [
      "len() of A: 10\n",
      "append() to A: [0, 1, 2, 3, 4, 5, 6, 7, 8, 9, 5]\n",
      "remove() first occurence from A: [0, 1, 2, 3, 4, 6, 7, 8, 9, 5]\n",
      "insert() first occurence from A: [0, 999, 1, 2, 3, 4, 6, 7, 8, 9, 5]\n",
      "min() of A: 0\n",
      "max() of A: 999\n",
      "del element with index i of A: [0, 1, 2, 3, 4, 6, 7, 8, 9, 5]\n",
      "del a range of elements of A: [4, 6, 7, 8, 9, 5]\n"
     ]
    }
   ],
   "source": [
    "# Manipulate list\n",
    "A = list(range(10))\n",
    "print(f'len() of A: {len(A)}')\n",
    "A.append(5)\n",
    "print(f'append() to A: {A}')\n",
    "A.remove(5)\n",
    "print(f'remove() first occurence from A: {A}')\n",
    "A.insert(1, 999)\n",
    "print(f'insert() first occurence from A: {A}')\n",
    "print(f'min() of A: {min(A)}')\n",
    "print(f'max() of A: {max(A)}')\n",
    "del A[1]\n",
    "print(f'del element with index i of A: {A}')\n",
    "del A[:4]\n",
    "print(f'del a range of elements of A: {A}')"
   ]
  },
  {
   "cell_type": "markdown",
   "metadata": {},
   "source": [
    "### Copy\n",
    "3 types: \n",
    "* assignment copy(**=**): makes the two variables point to the one list in memory\n",
    "* shallow copy ([:] OR **copy.copy()**): constructs a new compound object and then (to the extent possible) inserts references into it to the objects found in the original\n",
    "* deep copy (**copy.deepcopy()**): constructs a new compound object and then, recursively, inserts copies into it of the objects found in the original. **Slower but changes will NOT be reflected on the original list**\n",
    "\n",
    "*Difference between shallow and deep copying is only relevant for compound objects (e.g. a list of lists, or class instances).*    \n",
    "Reference: https://medium.com/@thawsitt/assignment-vs-shallow-copy-vs-deep-copy-in-python-f70c2f0ebd86\n",
    "\n",
    "![Types of copies in python](./figs/copy.png)"
   ]
  },
  {
   "cell_type": "code",
   "execution_count": 25,
   "metadata": {},
   "outputs": [
    {
     "name": "stdout",
     "output_type": "stream",
     "text": [
      "Copied/modified list: ['red', 'blue', 'green', 'white']\n",
      "Original list ALSO modified: ['red', 'blue', 'green', 'white']\n"
     ]
    }
   ],
   "source": [
    "# Assignment copy\n",
    "colors = ['red', 'blue', 'green']\n",
    "b = colors\n",
    "b.append('white')\n",
    "print(f'Copied/modified list: {b}')\n",
    "print(f'Original list ALSO modified: {colors}')"
   ]
  },
  {
   "cell_type": "code",
   "execution_count": 26,
   "metadata": {},
   "outputs": [
    {
     "name": "stdout",
     "output_type": "stream",
     "text": [
      "Copied/modified list: [[1, 2], [2, 4], [3, 6]]\n",
      "Original list NOT modified: [[1, 2], [2, 4]]\n"
     ]
    }
   ],
   "source": [
    "# Shallow copy\n",
    "a = [[1, 2], [2, 4]]\n",
    "b = a[:] ## shallow copy\n",
    "b.append([3, 6])\n",
    "print(f'Copied/modified list: {b}')\n",
    "print(f'Original list NOT modified: {a}')"
   ]
  },
  {
   "cell_type": "code",
   "execution_count": 28,
   "metadata": {},
   "outputs": [
    {
     "name": "stdout",
     "output_type": "stream",
     "text": [
      "Copied/modified list: [[1, 2, 3], [2, 4]]\n",
      "Original list ALSO modified: [[1, 2, 3], [2, 4]]\n"
     ]
    }
   ],
   "source": [
    "# Shallow copy compound object => referenced to the original elements\n",
    "a = [[1, 2], [2, 4]]\n",
    "b = a[:] #shallow copy\n",
    "b[0].append(3)\n",
    "print(f'Copied/modified list: {b}')\n",
    "print(f'Original list ALSO modified: {a}')\n",
    "# List b has its own pointer, but its elements do not"
   ]
  },
  {
   "cell_type": "code",
   "execution_count": 29,
   "metadata": {},
   "outputs": [
    {
     "name": "stdout",
     "output_type": "stream",
     "text": [
      "Copied/modified list: [[1, 2, 3], [2, 4]]\n",
      "Original list NOT modified: [[1, 2], [2, 4]]\n"
     ]
    }
   ],
   "source": [
    "# Deep copy, need copy module\n",
    "import copy\n",
    "a = [[1, 2], [2, 4]]\n",
    "b = copy.deepcopy(a) ## deep copy\n",
    "b[0].append(3) \n",
    "print(f'Copied/modified list: {b}')\n",
    "print(f'Original list NOT modified: {a}')"
   ]
  },
  {
   "cell_type": "markdown",
   "metadata": {},
   "source": [
    "### Binary search for sorted list\n",
    "* `bisect` module maintains a list in sorted order without having to sort the list after each insertion  "
   ]
  },
  {
   "cell_type": "code",
   "execution_count": 24,
   "metadata": {},
   "outputs": [
    {
     "name": "stdout",
     "output_type": "stream",
     "text": [
      "[0, 1, 2, 3, 4, 5, 6, 7, 8, 9]\n"
     ]
    },
    {
     "data": {
      "text/plain": [
       "7"
      ]
     },
     "execution_count": 24,
     "metadata": {},
     "output_type": "execute_result"
    }
   ],
   "source": [
    "# index where the element needs to be inserted in a sorted list \n",
    "import bisect\n",
    "A = list(range(10))\n",
    "print(A)\n",
    "bisect.bisect(A, 6) # similar to bisect.bisect_right()"
   ]
  },
  {
   "cell_type": "code",
   "execution_count": 27,
   "metadata": {},
   "outputs": [
    {
     "name": "stdout",
     "output_type": "stream",
     "text": [
      "[0, 1, 2, 3, 4, 5, 6, 7, 8, 9]\n"
     ]
    },
    {
     "data": {
      "text/plain": [
       "6"
      ]
     },
     "execution_count": 27,
     "metadata": {},
     "output_type": "execute_result"
    }
   ],
   "source": [
    "# if element exist, return index of the left of it\n",
    "print(A)\n",
    "bisect.bisect_left(A, 6) # similar to bisect.bisect_right()"
   ]
  },
  {
   "cell_type": "code",
   "execution_count": 30,
   "metadata": {},
   "outputs": [
    {
     "name": "stdout",
     "output_type": "stream",
     "text": [
      "[0, 1, 2, 3, 4, 5, 6, 7, 8, 9]\n",
      "[0, 1, 2, 3, 4, 5, 6, 7, 7, 8, 9]\n"
     ]
    }
   ],
   "source": [
    "# insert the element and not just the index\n",
    "A = list(range(10))\n",
    "print(A)\n",
    "bisect.insort(A, 7) # same as bisect.insort_right()\n",
    "print(A)"
   ]
  },
  {
   "cell_type": "markdown",
   "metadata": {},
   "source": [
    "### Sorting  "
   ]
  },
  {
   "cell_type": "code",
   "execution_count": 36,
   "metadata": {},
   "outputs": [
    {
     "name": "stdout",
     "output_type": "stream",
     "text": [
      "[9, 8, 7, 6, 5, 4, 3, 2, 1, 0]\n"
     ]
    }
   ],
   "source": [
    "# reverse in-place\n",
    "A = list(range(10))\n",
    "A.reverse()\n",
    "print(A)"
   ]
  },
  {
   "cell_type": "code",
   "execution_count": 47,
   "metadata": {},
   "outputs": [
    {
     "name": "stdout",
     "output_type": "stream",
     "text": [
      "9,8,7,6,5,4,3,2,1,0,"
     ]
    }
   ],
   "source": [
    "# return an iterator\n",
    "A = list(range(10))\n",
    "for i in reversed(A): print(i, end=',')"
   ]
  },
  {
   "cell_type": "code",
   "execution_count": 51,
   "metadata": {},
   "outputs": [
    {
     "name": "stdout",
     "output_type": "stream",
     "text": [
      "[0, 1, 2, 3, 4]\n"
     ]
    }
   ],
   "source": [
    "# sort in-place\n",
    "A = [4,3,2,1,0]\n",
    "A.sort()\n",
    "print(A)"
   ]
  },
  {
   "cell_type": "code",
   "execution_count": 53,
   "metadata": {},
   "outputs": [
    {
     "data": {
      "text/plain": [
       "[0, 1, 2, 3, 4]"
      ]
     },
     "execution_count": 53,
     "metadata": {},
     "output_type": "execute_result"
    }
   ],
   "source": [
    "# returns a copy\n",
    "A = [4,3,2,1,0]\n",
    "sorted(A)"
   ]
  },
  {
   "cell_type": "markdown",
   "metadata": {},
   "source": [
    "### Slicing"
   ]
  },
  {
   "cell_type": "code",
   "execution_count": 81,
   "metadata": {},
   "outputs": [
    {
     "data": {
      "text/plain": [
       "[7, 8]"
      ]
     },
     "execution_count": 81,
     "metadata": {},
     "output_type": "execute_result"
    }
   ],
   "source": [
    "# note the range is [0,5)\n",
    "A = list(range(10))\n",
    "A[0:5]"
   ]
  },
  {
   "cell_type": "code",
   "execution_count": 83,
   "metadata": {},
   "outputs": [
    {
     "data": {
      "text/plain": [
       "[7, 8]"
      ]
     },
     "execution_count": 83,
     "metadata": {},
     "output_type": "execute_result"
    }
   ],
   "source": [
    "# from the back\n",
    "A[-3:-1]"
   ]
  },
  {
   "cell_type": "code",
   "execution_count": 78,
   "metadata": {},
   "outputs": [
    {
     "data": {
      "text/plain": [
       "[0, 2, 4]"
      ]
     },
     "execution_count": 78,
     "metadata": {},
     "output_type": "execute_result"
    }
   ],
   "source": [
    "# skip n=2\n",
    "A[0:5:2] "
   ]
  },
  {
   "cell_type": "code",
   "execution_count": 79,
   "metadata": {},
   "outputs": [
    {
     "data": {
      "text/plain": [
       "[9, 8, 7, 6, 5, 4, 3, 2, 1, 0]"
      ]
     },
     "execution_count": 79,
     "metadata": {},
     "output_type": "execute_result"
    }
   ],
   "source": [
    "# reverse with [::-1]\n",
    "A[::-1] "
   ]
  },
  {
   "cell_type": "code",
   "execution_count": 80,
   "metadata": {},
   "outputs": [
    {
     "data": {
      "text/plain": [
       "[5, 6, 7, 8, 9, 0, 1, 2, 3, 4]"
      ]
     },
     "execution_count": 80,
     "metadata": {},
     "output_type": "execute_result"
    }
   ],
   "source": [
    "# rotate a list\n",
    "A[5:] + A[:5]"
   ]
  },
  {
   "cell_type": "markdown",
   "metadata": {},
   "source": [
    "### List comprehension\n",
    "`[<expression> for element in <iterator over sequence> <logical condition>]`"
   ]
  },
  {
   "cell_type": "code",
   "execution_count": 86,
   "metadata": {},
   "outputs": [
    {
     "data": {
      "text/plain": [
       "[0, 4, 16]"
      ]
     },
     "execution_count": 86,
     "metadata": {},
     "output_type": "execute_result"
    }
   ],
   "source": [
    "[x**2 for x in range(6) if x%2==0]"
   ]
  },
  {
   "cell_type": "code",
   "execution_count": 87,
   "metadata": {},
   "outputs": [
    {
     "data": {
      "text/plain": [
       "[(1, 'a'), (1, 'b'), (2, 'a'), (2, 'b'), (3, 'a'), (3, 'b')]"
      ]
     },
     "execution_count": 87,
     "metadata": {},
     "output_type": "execute_result"
    }
   ],
   "source": [
    "# multiple levels\n",
    "A = [1,2,3]\n",
    "B = ['a', 'b']\n",
    "[(x,y) for x in A for y in B]"
   ]
  },
  {
   "cell_type": "code",
   "execution_count": 88,
   "metadata": {},
   "outputs": [
    {
     "data": {
      "text/plain": [
       "['a', 'b', 'c', 'd', 'e']"
      ]
     },
     "execution_count": 88,
     "metadata": {},
     "output_type": "execute_result"
    }
   ],
   "source": [
    "# convert 2D to 1D\n",
    "M = [['a', 'b', 'c'],['d', 'e']]\n",
    "[x for row in M for x in row]"
   ]
  },
  {
   "cell_type": "code",
   "execution_count": 89,
   "metadata": {},
   "outputs": [
    {
     "data": {
      "text/plain": [
       "[[1, 4, 9], [16, 25, 36]]"
      ]
     },
     "execution_count": 89,
     "metadata": {},
     "output_type": "execute_result"
    }
   ],
   "source": [
    "# 2 level looping\n",
    "M = [[1,2,3], [4,5,6]]\n",
    "[[x**2 for x in row] for row in M]"
   ]
  }
 ],
 "metadata": {
  "kernelspec": {
   "display_name": "Python 3",
   "language": "python",
   "name": "python3"
  },
  "language_info": {
   "codemirror_mode": {
    "name": "ipython",
    "version": 3
   },
   "file_extension": ".py",
   "mimetype": "text/x-python",
   "name": "python",
   "nbconvert_exporter": "python",
   "pygments_lexer": "ipython3",
   "version": "3.8.5"
  }
 },
 "nbformat": 4,
 "nbformat_minor": 4
}
