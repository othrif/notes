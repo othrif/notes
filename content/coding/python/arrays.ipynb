{
 "cells": [
  {
   "cell_type": "raw",
   "metadata": {},
   "source": [
    "---\n",
    "title: \"Arrays\"\n",
    "date: 2021-02-04T00:00:00+00:00\n",
    "author: \"Othmane Rifki\"\n",
    "type: technical_note\n",
    "draft: false\n",
    "---"
   ]
  },
  {
   "cell_type": "markdown",
   "metadata": {},
   "source": [
    "### Definition"
   ]
  },
  {
   "cell_type": "markdown",
   "metadata": {},
   "source": [
    "Arrays in python are of `list` type that is dynamically resized. The `tuple` is similar but immutable. "
   ]
  },
  {
   "cell_type": "markdown",
   "metadata": {},
   "source": [
    "### Basic operations"
   ]
  },
  {
   "cell_type": "code",
   "execution_count": 64,
   "metadata": {},
   "outputs": [
    {
     "name": "stdout",
     "output_type": "stream",
     "text": [
      "len() of A: 10\n",
      "append() to A: [0, 1, 2, 3, 4, 5, 6, 7, 8, 9, 5]\n",
      "remove() first occurence from A: [0, 1, 2, 3, 4, 6, 7, 8, 9, 5]\n",
      "insert() first occurence from A: [0, 999, 1, 2, 3, 4, 6, 7, 8, 9, 5]\n",
      "min() of A: 0\n",
      "max() of A: 999\n",
      "del element with index i of A: [0, 1, 2, 3, 4, 6, 7, 8, 9, 5]\n",
      "del a range of elements of A: [4, 6, 7, 8, 9, 5]\n"
     ]
    }
   ],
   "source": [
    "# Manipulate list\n",
    "A = list(range(10))\n",
    "print(f'len() of A: {len(A)}')\n",
    "A.append(5)\n",
    "print(f'append() to A: {A}')\n",
    "A.remove(5)\n",
    "print(f'remove() first occurence from A: {A}')\n",
    "A.insert(1, 999)\n",
    "print(f'insert() first occurence from A: {A}')\n",
    "print(f'min() of A: {min(A)}')\n",
    "print(f'max() of A: {max(A)}')\n",
    "del A[1]\n",
    "print(f'del element with index i of A: {A}')\n",
    "del A[:4]\n",
    "print(f'del a range of elements of A: {A}')"
   ]
  },
  {
   "cell_type": "markdown",
   "metadata": {},
   "source": [
    "### Copy\n",
    "3 types: \n",
    "* assignment copy(**=**): makes the two variables point to the one list in memory\n",
    "* shallow copy ([:] OR **copy.copy()**): constructs a new compound object and then (to the extent possible) inserts references into it to the objects found in the original\n",
    "* deep copy (**copy.deepcopy()**): constructs a new compound object and then, recursively, inserts copies into it of the objects found in the original. **Slower but changes will NOT be reflected on the original list**\n",
    "\n",
    "*Difference between shallow and deep copying is only relevant for compound objects (e.g. a list of lists, or class instances).*    \n",
    "Reference: https://medium.com/@thawsitt/assignment-vs-shallow-copy-vs-deep-copy-in-python-f70c2f0ebd86\n",
    "\n",
    "![Types of copies in python](./figs/copy.png)"
   ]
  },
  {
   "cell_type": "code",
   "execution_count": 25,
   "metadata": {},
   "outputs": [
    {
     "name": "stdout",
     "output_type": "stream",
     "text": [
      "Copied/modified list: ['red', 'blue', 'green', 'white']\n",
      "Original list ALSO modified: ['red', 'blue', 'green', 'white']\n"
     ]
    }
   ],
   "source": [
    "# Assignment copy\n",
    "colors = ['red', 'blue', 'green']\n",
    "b = colors\n",
    "b.append('white')\n",
    "print(f'Copied/modified list: {b}')\n",
    "print(f'Original list ALSO modified: {colors}')"
   ]
  },
  {
   "cell_type": "code",
   "execution_count": 26,
   "metadata": {},
   "outputs": [
    {
     "name": "stdout",
     "output_type": "stream",
     "text": [
      "Copied/modified list: [[1, 2], [2, 4], [3, 6]]\n",
      "Original list NOT modified: [[1, 2], [2, 4]]\n"
     ]
    }
   ],
   "source": [
    "# Shallow copy\n",
    "a = [[1, 2], [2, 4]]\n",
    "b = a[:] ## shallow copy\n",
    "b.append([3, 6])\n",
    "print(f'Copied/modified list: {b}')\n",
    "print(f'Original list NOT modified: {a}')"
   ]
  },
  {
   "cell_type": "code",
   "execution_count": 28,
   "metadata": {},
   "outputs": [
    {
     "name": "stdout",
     "output_type": "stream",
     "text": [
      "Copied/modified list: [[1, 2, 3], [2, 4]]\n",
      "Original list ALSO modified: [[1, 2, 3], [2, 4]]\n"
     ]
    }
   ],
   "source": [
    "# Shallow copy compound object => referenced to the original elements\n",
    "a = [[1, 2], [2, 4]]\n",
    "b = a[:] #shallow copy\n",
    "b[0].append(3)\n",
    "print(f'Copied/modified list: {b}')\n",
    "print(f'Original list ALSO modified: {a}')\n",
    "# List b has its own pointer, but its elements do not"
   ]
  },
  {
   "cell_type": "code",
   "execution_count": 29,
   "metadata": {},
   "outputs": [
    {
     "name": "stdout",
     "output_type": "stream",
     "text": [
      "Copied/modified list: [[1, 2, 3], [2, 4]]\n",
      "Original list NOT modified: [[1, 2], [2, 4]]\n"
     ]
    }
   ],
   "source": [
    "# Deep copy, need copy module\n",
    "import copy\n",
    "a = [[1, 2], [2, 4]]\n",
    "b = copy.deepcopy(a) ## deep copy\n",
    "b[0].append(3) \n",
    "print(f'Copied/modified list: {b}')\n",
    "print(f'Original list NOT modified: {a}')"
   ]
  },
  {
   "cell_type": "markdown",
   "metadata": {},
   "source": [
    "### Binary search for sorted list\n",
    "* `bisect` module maintains a list in sorted order without having to sort the list after each insertion  "
   ]
  },
  {
   "cell_type": "code",
   "execution_count": 24,
   "metadata": {},
   "outputs": [
    {
     "name": "stdout",
     "output_type": "stream",
     "text": [
      "[0, 1, 2, 3, 4, 5, 6, 7, 8, 9]\n"
     ]
    },
    {
     "data": {
      "text/plain": [
       "7"
      ]
     },
     "execution_count": 24,
     "metadata": {},
     "output_type": "execute_result"
    }
   ],
   "source": [
    "# index where the element needs to be inserted in a sorted list \n",
    "import bisect\n",
    "A = list(range(10))\n",
    "print(A)\n",
    "bisect.bisect(A, 6) # similar to bisect.bisect_right()"
   ]
  },
  {
   "cell_type": "code",
   "execution_count": 27,
   "metadata": {},
   "outputs": [
    {
     "name": "stdout",
     "output_type": "stream",
     "text": [
      "[0, 1, 2, 3, 4, 5, 6, 7, 8, 9]\n"
     ]
    },
    {
     "data": {
      "text/plain": [
       "6"
      ]
     },
     "execution_count": 27,
     "metadata": {},
     "output_type": "execute_result"
    }
   ],
   "source": [
    "# if element exist, return index of the left of it\n",
    "print(A)\n",
    "bisect.bisect_left(A, 6) # similar to bisect.bisect_right()"
   ]
  },
  {
   "cell_type": "code",
   "execution_count": 30,
   "metadata": {},
   "outputs": [
    {
     "name": "stdout",
     "output_type": "stream",
     "text": [
      "[0, 1, 2, 3, 4, 5, 6, 7, 8, 9]\n",
      "[0, 1, 2, 3, 4, 5, 6, 7, 7, 8, 9]\n"
     ]
    }
   ],
   "source": [
    "# insert the element and not just the index\n",
    "A = list(range(10))\n",
    "print(A)\n",
    "bisect.insort(A, 7) # same as bisect.insort_right()\n",
    "print(A)"
   ]
  },
  {
   "cell_type": "markdown",
   "metadata": {},
   "source": [
    "### Sorting  "
   ]
  },
  {
   "cell_type": "code",
   "execution_count": 36,
   "metadata": {},
   "outputs": [
    {
     "name": "stdout",
     "output_type": "stream",
     "text": [
      "[9, 8, 7, 6, 5, 4, 3, 2, 1, 0]\n"
     ]
    }
   ],
   "source": [
    "# reverse in-place\n",
    "A = list(range(10))\n",
    "A.reverse()\n",
    "print(A)"
   ]
  },
  {
   "cell_type": "code",
   "execution_count": 47,
   "metadata": {},
   "outputs": [
    {
     "name": "stdout",
     "output_type": "stream",
     "text": [
      "9,8,7,6,5,4,3,2,1,0,"
     ]
    }
   ],
   "source": [
    "# return an iterator\n",
    "A = list(range(10))\n",
    "for i in reversed(A): print(i, end=',')"
   ]
  },
  {
   "cell_type": "code",
   "execution_count": 51,
   "metadata": {},
   "outputs": [
    {
     "name": "stdout",
     "output_type": "stream",
     "text": [
      "[0, 1, 2, 3, 4]\n"
     ]
    }
   ],
   "source": [
    "# sort in-place\n",
    "A = [4,3,2,1,0]\n",
    "A.sort()\n",
    "print(A)"
   ]
  },
  {
   "cell_type": "code",
   "execution_count": 53,
   "metadata": {},
   "outputs": [
    {
     "data": {
      "text/plain": [
       "[0, 1, 2, 3, 4]"
      ]
     },
     "execution_count": 53,
     "metadata": {},
     "output_type": "execute_result"
    }
   ],
   "source": [
    "# returns a copy\n",
    "A = [4,3,2,1,0]\n",
    "sorted(A)"
   ]
  },
  {
   "cell_type": "markdown",
   "metadata": {},
   "source": [
    "### Slicing"
   ]
  },
  {
   "cell_type": "code",
   "execution_count": 81,
   "metadata": {},
   "outputs": [
    {
     "data": {
      "text/plain": [
       "[7, 8]"
      ]
     },
     "execution_count": 81,
     "metadata": {},
     "output_type": "execute_result"
    }
   ],
   "source": [
    "# note the range is [0,5)\n",
    "A = list(range(10))\n",
    "A[0:5]"
   ]
  },
  {
   "cell_type": "code",
   "execution_count": 83,
   "metadata": {},
   "outputs": [
    {
     "data": {
      "text/plain": [
       "[7, 8]"
      ]
     },
     "execution_count": 83,
     "metadata": {},
     "output_type": "execute_result"
    }
   ],
   "source": [
    "# from the back\n",
    "A[-3:-1]"
   ]
  },
  {
   "cell_type": "code",
   "execution_count": 78,
   "metadata": {},
   "outputs": [
    {
     "data": {
      "text/plain": [
       "[0, 2, 4]"
      ]
     },
     "execution_count": 78,
     "metadata": {},
     "output_type": "execute_result"
    }
   ],
   "source": [
    "# skip n=2\n",
    "A[0:5:2] "
   ]
  },
  {
   "cell_type": "code",
   "execution_count": 79,
   "metadata": {},
   "outputs": [
    {
     "data": {
      "text/plain": [
       "[9, 8, 7, 6, 5, 4, 3, 2, 1, 0]"
      ]
     },
     "execution_count": 79,
     "metadata": {},
     "output_type": "execute_result"
    }
   ],
   "source": [
    "# reverse with [::-1]\n",
    "A[::-1] "
   ]
  },
  {
   "cell_type": "code",
   "execution_count": 80,
   "metadata": {},
   "outputs": [
    {
     "data": {
      "text/plain": [
       "[5, 6, 7, 8, 9, 0, 1, 2, 3, 4]"
      ]
     },
     "execution_count": 80,
     "metadata": {},
     "output_type": "execute_result"
    }
   ],
   "source": [
    "# rotate a list\n",
    "A[5:] + A[:5]"
   ]
  },
  {
   "cell_type": "markdown",
   "metadata": {},
   "source": [
    "### List comprehension\n",
    "`[<expression> for element in <iterator over sequence> <logical condition>]`"
   ]
  },
  {
   "cell_type": "code",
   "execution_count": 86,
   "metadata": {},
   "outputs": [
    {
     "data": {
      "text/plain": [
       "[0, 4, 16]"
      ]
     },
     "execution_count": 86,
     "metadata": {},
     "output_type": "execute_result"
    }
   ],
   "source": [
    "[x**2 for x in range(6) if x%2==0]"
   ]
  },
  {
   "cell_type": "code",
   "execution_count": 87,
   "metadata": {},
   "outputs": [
    {
     "data": {
      "text/plain": [
       "[(1, 'a'), (1, 'b'), (2, 'a'), (2, 'b'), (3, 'a'), (3, 'b')]"
      ]
     },
     "execution_count": 87,
     "metadata": {},
     "output_type": "execute_result"
    }
   ],
   "source": [
    "# multiple levels\n",
    "A = [1,2,3]\n",
    "B = ['a', 'b']\n",
    "[(x,y) for x in A for y in B]"
   ]
  },
  {
   "cell_type": "code",
   "execution_count": 88,
   "metadata": {},
   "outputs": [
    {
     "data": {
      "text/plain": [
       "['a', 'b', 'c', 'd', 'e']"
      ]
     },
     "execution_count": 88,
     "metadata": {},
     "output_type": "execute_result"
    }
   ],
   "source": [
    "# convert 2D to 1D\n",
    "M = [['a', 'b', 'c'],['d', 'e']]\n",
    "[x for row in M for x in row]"
   ]
  },
  {
   "cell_type": "code",
   "execution_count": 89,
   "metadata": {},
   "outputs": [
    {
     "data": {
      "text/plain": [
       "[[1, 4, 9], [16, 25, 36]]"
      ]
     },
     "execution_count": 89,
     "metadata": {},
     "output_type": "execute_result"
    }
   ],
   "source": [
    "# 2 level looping\n",
    "M = [[1,2,3], [4,5,6]]\n",
    "[[x**2 for x in row] for row in M]"
   ]
  },
  {
   "cell_type": "markdown",
   "metadata": {},
   "source": [
    "### Useful tips\n",
    "* Use of `next(iterator[, default])`"
   ]
  },
  {
   "cell_type": "code",
   "execution_count": 3,
   "metadata": {},
   "outputs": [
    {
     "data": {
      "text/plain": [
       "[1, 2, 3, 4]"
      ]
     },
     "execution_count": 3,
     "metadata": {},
     "output_type": "execute_result"
    }
   ],
   "source": [
    "# remove the leading zeros\n",
    "res = [0,0,1,2,3,4]\n",
    "res[next((i for i,x in enumerate(res) if x!=0)):]"
   ]
  },
  {
   "cell_type": "code",
   "execution_count": 5,
   "metadata": {},
   "outputs": [
    {
     "data": {
      "text/plain": [
       "[]"
      ]
     },
     "execution_count": 5,
     "metadata": {},
     "output_type": "execute_result"
    }
   ],
   "source": [
    "# what if they are all zeros\n",
    "res = [0,0,0,0,0]\n",
    "res[next((i for i,x in enumerate(res) if x!=0), len(res)):]"
   ]
  },
  {
   "cell_type": "markdown",
   "metadata": {},
   "source": [
    "* `for-else` statement: search through a list and process each item until a flag item is found and then stop processing"
   ]
  },
  {
   "cell_type": "code",
   "execution_count": 1,
   "metadata": {},
   "outputs": [
    {
     "name": "stdout",
     "output_type": "stream",
     "text": [
      "1\n",
      "2\n",
      "3\n"
     ]
    },
    {
     "ename": "ValueError",
     "evalue": "List argument missing terminal flag.",
     "output_type": "error",
     "traceback": [
      "\u001b[0;31m---------------------------------------------------------------------------\u001b[0m",
      "\u001b[0;31mValueError\u001b[0m                                Traceback (most recent call last)",
      "\u001b[0;32m<ipython-input-1-9dbebae898f3>\u001b[0m in \u001b[0;36m<module>\u001b[0;34m\u001b[0m\n\u001b[1;32m      6\u001b[0m     \u001b[0mprint\u001b[0m\u001b[0;34m(\u001b[0m\u001b[0mi\u001b[0m\u001b[0;34m)\u001b[0m\u001b[0;34m\u001b[0m\u001b[0;34m\u001b[0m\u001b[0m\n\u001b[1;32m      7\u001b[0m \u001b[0;32melse\u001b[0m\u001b[0;34m:\u001b[0m\u001b[0;34m\u001b[0m\u001b[0;34m\u001b[0m\u001b[0m\n\u001b[0;32m----> 8\u001b[0;31m     \u001b[0;32mraise\u001b[0m \u001b[0mValueError\u001b[0m\u001b[0;34m(\u001b[0m\u001b[0;34m\"List argument missing terminal flag.\"\u001b[0m\u001b[0;34m)\u001b[0m\u001b[0;34m\u001b[0m\u001b[0;34m\u001b[0m\u001b[0m\n\u001b[0m",
      "\u001b[0;31mValueError\u001b[0m: List argument missing terminal flag."
     ]
    }
   ],
   "source": [
    "# Loop until something is found\n",
    "mylist=[1,2,3]\n",
    "for i in mylist:\n",
    "    if i == 5:\n",
    "        break\n",
    "    print(i)\n",
    "else:\n",
    "    raise ValueError(\"List argument missing terminal flag.\")"
   ]
  },
  {
   "cell_type": "markdown",
   "metadata": {},
   "source": [
    "### `get() dict`\n",
    "`dictionary.get(keyname, value)` returns the value of the item with the specified key and value if key does not exist"
   ]
  },
  {
   "cell_type": "code",
   "execution_count": 2,
   "metadata": {},
   "outputs": [
    {
     "name": "stdout",
     "output_type": "stream",
     "text": [
      "15000\n"
     ]
    }
   ],
   "source": [
    "car = {\n",
    "  \"brand\": \"Ford\",\n",
    "  \"model\": \"Mustang\",\n",
    "  \"year\": 1964\n",
    "}\n",
    "\n",
    "x = car.get(\"price\", 15000)\n",
    "\n",
    "print(x)"
   ]
  },
  {
   "cell_type": "markdown",
   "metadata": {},
   "source": [
    "### `any()` and `all()`\n",
    "* `any()` sequence of OR operations on the provided iterables. Stops the execution as soon as the result is known.\n",
    "* `all()` sequence of AND operations on the provided iterables. Stops the execution as soon as the result is known."
   ]
  },
  {
   "cell_type": "code",
   "execution_count": 4,
   "metadata": {},
   "outputs": [
    {
     "name": "stdout",
     "output_type": "stream",
     "text": [
      "True\n"
     ]
    }
   ],
   "source": [
    "# short circuits after second element\n",
    "print (any([False, True, False, False]))  "
   ]
  },
  {
   "cell_type": "code",
   "execution_count": 3,
   "metadata": {},
   "outputs": [
    {
     "name": "stdout",
     "output_type": "stream",
     "text": [
      "False\n"
     ]
    }
   ],
   "source": [
    "# short circuits at the first element\n",
    "print (all([False, True, True, False]))"
   ]
  },
  {
   "cell_type": "markdown",
   "metadata": {},
   "source": [
    "### Checking for duplicates"
   ]
  },
  {
   "cell_type": "code",
   "execution_count": 7,
   "metadata": {},
   "outputs": [
    {
     "name": "stdout",
     "output_type": "stream",
     "text": [
      "True\n"
     ]
    }
   ],
   "source": [
    "def has_duplicates(block):\n",
    "    return len(block) != len(set(block))\n",
    "a=[1,2,3,1]\n",
    "print(has_duplicates(a))"
   ]
  },
  {
   "cell_type": "markdown",
   "metadata": {},
   "source": [
    "### Filter + lambda vs. list comprehension\n",
    "Time is very close between the two, thought list comprehension slighlty faster."
   ]
  },
  {
   "cell_type": "code",
   "execution_count": 20,
   "metadata": {},
   "outputs": [
    {
     "name": "stdout",
     "output_type": "stream",
     "text": [
      "3.8697273540000197\n",
      "3.6555018579999796\n"
     ]
    }
   ],
   "source": [
    "import timeit\n",
    "block=[1,0,3,1,0]\n",
    "time1=timeit.timeit(str(list(filter(lambda x: x != 0, block))), number=100000000)\n",
    "print(time1)\n",
    "time2=timeit.timeit(str([x for x in block if x != 0]), number=100000000)\n",
    "print(time2)"
   ]
  },
  {
   "cell_type": "markdown",
   "metadata": {},
   "source": [
    "### Loop over sub-blocks of a matrix\n",
    "Useful when doing convolutions"
   ]
  },
  {
   "cell_type": "code",
   "execution_count": 26,
   "metadata": {},
   "outputs": [
    {
     "name": "stdout",
     "output_type": "stream",
     "text": [
      "Original matrix:\n",
      "0, 0, 0, 0, 0, 0, 0, 0, 0, \n",
      "0, 0, 0, 0, 0, 0, 0, 0, 0, \n",
      "0, 0, 0, 0, 0, 1, 2, 0, 0, \n",
      "0, 0, 0, 0, 6, 0, 4, 0, 0, \n",
      "0, 0, 0, 2, 0, 0, 0, 0, 5, \n",
      "7, 0, 0, 0, 0, 0, 0, 0, 0, \n",
      "0, 8, 3, 0, 0, 0, 0, 0, 0, \n",
      "0, 0, 0, 0, 0, 0, 3, 3, 0, \n",
      "0, 0, 4, 0, 0, 0, 0, 0, 0, \n",
      "---\n",
      "Sub-blocks of the matrix:\n",
      "0,0,0,\n",
      "0,0,0,\n",
      "0,0,0,\n",
      "---\n",
      "0,0,0,\n",
      "0,0,0,\n",
      "0,0,1,\n",
      "---\n",
      "0,0,0,\n",
      "0,0,0,\n",
      "2,0,0,\n",
      "---\n",
      "0,0,0,\n",
      "0,0,0,\n",
      "7,0,0,\n",
      "---\n",
      "0,6,0,\n",
      "2,0,0,\n",
      "0,0,0,\n",
      "---\n",
      "4,0,0,\n",
      "0,0,5,\n",
      "0,0,0,\n",
      "---\n",
      "0,8,3,\n",
      "0,0,0,\n",
      "0,0,4,\n",
      "---\n",
      "0,0,0,\n",
      "0,0,0,\n",
      "0,0,0,\n",
      "---\n",
      "0,0,0,\n",
      "3,3,0,\n",
      "0,0,0,\n",
      "---\n"
     ]
    }
   ],
   "source": [
    "# Example with 9x9 matrix and sub-block of 3x3\n",
    "import math\n",
    "M = [[0, 0, 0, 0, 0, 0, 0, 0, 0], [0, 0, 0, 0, 0, 0, 0, 0, 0], [0, 0, 0, 0, 0, 1, 2, 0, 0], [0, 0, 0, 0, 6, 0, 4, 0, 0], [0, 0, 0, 2, 0, 0, 0, 0, 5], [7, 0, 0, 0, 0, 0, 0, 0, 0], [0, 8, 3, 0, 0, 0, 0, 0, 0], [0, 0, 0, 0, 0, 0, 3, 3, 0], [0, 0, 4, 0, 0, 0, 0, 0, 0]]\n",
    "m = len(M)\n",
    "n = int(math.sqrt(m))\n",
    "\n",
    "# Original matrix\n",
    "print('Original matrix:')\n",
    "for i in range(m):\n",
    "    for j in range(m):\n",
    "        print(M[i][j], end=', ')\n",
    "    print('')\n",
    "print('---')\n",
    "print('Sub-blocks of the matrix:')\n",
    "for i in range(n):\n",
    "    for j in range(n):\n",
    "        for a in range(i*n, (i+1)*n):\n",
    "            for b in range(j*n, (j+1)*n):\n",
    "                print(M[a][b], end=',')\n",
    "            print('')\n",
    "        print('---')"
   ]
  }
 ],
 "metadata": {
  "kernelspec": {
   "display_name": "Python 3",
   "language": "python",
   "name": "python3"
  },
  "language_info": {
   "codemirror_mode": {
    "name": "ipython",
    "version": 3
   },
   "file_extension": ".py",
   "mimetype": "text/x-python",
   "name": "python",
   "nbconvert_exporter": "python",
   "pygments_lexer": "ipython3",
   "version": "3.8.5"
  }
 },
 "nbformat": 4,
 "nbformat_minor": 4
}
