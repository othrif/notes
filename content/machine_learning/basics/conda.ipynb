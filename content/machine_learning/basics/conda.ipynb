{
 "cells": [
  {
   "cell_type": "raw",
   "metadata": {},
   "source": [
    "---\n",
    "title: \"Conda cheat sheet\"\n",
    "date: 2020-04-12T14:41:32+02:00\n",
    "author: \"Othmane Rifki\"\n",
    "type: technical_note\n",
    "draft: false\n",
    "---"
   ]
  },
  {
   "cell_type": "markdown",
   "metadata": {},
   "source": [
    "### Resources\n",
    "* https://docs.conda.io/projects/conda/en/4.6.0/_downloads/52a95608c49671267e40c689e0bc00ca/conda-cheatsheet.pdf\n",
    "* https://docs.conda.io/projects/conda/en/latest/commands.html#conda-vs-pip-vs-virtualenv-commands\n",
    "* https://anaconda.org/\n",
    "\n",
    "\n",
    "### Managing environment\n",
    "\n",
    "* Use **base** environment: `conda activate`\n",
    "* Deactivate enviornment: `conda deactivate`\n",
    "* List all conda environments: `conda info --envs`\n",
    "* Create a new environment: `conda create --name pytorch`\n",
    "* Active the new environment: `conda activate pytorch`\n",
    "* Install a package in the newly created environment: \n",
    "```bash \n",
    "conda install pytorch torchvision torchaudio -c pytorch\n",
    "conda install jupyterlab -c conda-forge\n",
    "```\n",
    "* List all packages in an environment: `conda list`\n",
    "* List all packages installed into the environment 'myenv': `conda list -n myenv`\n",
    "* Save packages for future use: `conda list --export > package-list.txt`\n",
    "* Reinstall packages from an export file: `conda create -n myenv --file package-list.txt`\n",
    "* Create a new environment with Python 3.10: `conda create --name py310 python=3.10`\n",
    "* Make exact copy of an environment: `conda create --clone py310 --name py310-2`\n",
    "\n",
    "Note:    \n",
    "* `-c` stands for channel: Location of where the packages are stored, i.e.: http://conda.anaconda.org/. For example: pytorch -> https://anaconda.org/pytorch, conda-forge -> https://anaconda.org/conda-forge.\n",
    "\n",
    "\n",
    "\n",
    "### Conda installation\n",
    "\n",
    "* Download and run installers based on OS from https://docs.conda.io/en/latest/miniconda.html\n",
    "* Verify it is running `conda --version`\n",
    "* Update conda `conda update conda`\n",
    "\n",
    "\n",
    "### Conda vs pip\n",
    "\n",
    "**Pip** is the Python Packaging Authority’s recommended tool for installing packages from the Python Package Index. Only works with Python. Relies on `pipenv` or `virtualenv` or `venv` to isolate environment. Contains over 150,000 packages.\n",
    "\n",
    "**Conda** is a cross platform package and environment manager that installs packages in any language (python, C, C++, etc.). Contains 15,000 packages. Can install pip for PyPi packages.\n",
    "\n",
    "Resources:   \n",
    "* https://docs.conda.io/projects/conda/en/latest/commands.html#conda-vs-pip-vs-virtualenv-commands\n",
    "* https://www.anaconda.com/blog/understanding-conda-and-pip\n"
   ]
  }
 ],
 "metadata": {
  "kernelspec": {
   "display_name": "Python 3 (ipykernel)",
   "language": "python",
   "name": "python3"
  },
  "language_info": {
   "codemirror_mode": {
    "name": "ipython",
    "version": 3
   },
   "file_extension": ".py",
   "mimetype": "text/x-python",
   "name": "python",
   "nbconvert_exporter": "python",
   "pygments_lexer": "ipython3",
   "version": "3.9.6"
  }
 },
 "nbformat": 4,
 "nbformat_minor": 4
}
