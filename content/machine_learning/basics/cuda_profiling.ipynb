{
 "cells": [
  {
   "cell_type": "raw",
   "metadata": {},
   "source": [
    "---\n",
    "title: \"Profiling GPU with Nvidia tools\"\n",
    "date: 2020-04-12T14:41:32+02:00\n",
    "author: \"Othmane Rifki\"\n",
    "type: technical_note\n",
    "draft: false\n",
    "---"
   ]
  },
  {
   "cell_type": "markdown",
   "metadata": {},
   "source": [
    "### Using Nsight systems\n",
    "\n",
    "To install Nsight systems:\n",
    "* Download from Nvidia\n",
    "* Make executable with `chmod a+x NsightSystems-linux-public-2020.5.1.85-5ee086b.run`\n",
    "* install with `./NsightSystems-linux-public-2020.5.1.85-5ee086b.run`\n",
    "* Add to path `export PATH=\"/home/othrif/setup/nsight-systems-2020.5.1/target-linux-x64:$PATH\"`\n",
    "* Run profiling tool with: `nsys profile ./program`"
   ]
  },
  {
   "cell_type": "markdown",
   "metadata": {},
   "source": [
    "### Using `nvida-smi`\n",
    "``` bash \n",
    "nvidia-smi -l 1 >> gpu-stats.out\n",
    "```"
   ]
  }
 ],
 "metadata": {
  "kernelspec": {
   "display_name": "Python 3",
   "language": "python",
   "name": "python3"
  },
  "language_info": {
   "codemirror_mode": {
    "name": "ipython",
    "version": 3
   },
   "file_extension": ".py",
   "mimetype": "text/x-python",
   "name": "python",
   "nbconvert_exporter": "python",
   "pygments_lexer": "ipython3",
   "version": "3.8.5"
  }
 },
 "nbformat": 4,
 "nbformat_minor": 4
}
