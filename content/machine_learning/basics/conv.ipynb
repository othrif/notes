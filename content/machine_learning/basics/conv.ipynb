{
 "cells": [
  {
   "cell_type": "raw",
   "metadata": {},
   "source": [
    "---\n",
    "title: \"Convolutions from scratch\"\n",
    "date: 2020-04-12T14:41:32+02:00\n",
    "author: \"Othmane Rifki\"\n",
    "type: technical_note\n",
    "draft: false\n",
    "---"
   ]
  },
  {
   "cell_type": "markdown",
   "metadata": {},
   "source": [
    "### Discrete convolution in 1D\n",
    "\n",
    "$y = x * w  \\to y[i] = \\sum\\limits_{k=-\\infty}^{+\\infty} x[i-k] w[k]$\n",
    "\n",
    "In practice, we cannot sum through $-\\infty \\to +\\infty$. Instead, we pad with a finite number of zeros, called *zero-padding*. For an input **x** and filter **w** with *n* and *m* elements respectively, where $ m \\leq n $. The padded vector $x^p$ has size $n + 2p$. To compute the convolution:\n",
    "\n",
    "$y = x * w  \\to y[i] = \\sum\\limits_{k=0}^{k=m-1} x^p[i+m-k] w[k]$\n",
    "\n",
    "Note that **x** and **w** are indexed in different directions. To simplify the computation, flip one of the vectors and perform a dot product.\n",
    "\n",
    "\n",
    "#### Size of convolution output\n",
    "\n",
    "\n",
    "$o = \\lfloor \\frac{n + 2p - m}{s} \\rfloor + 1$  \n",
    "\n",
    "\n",
    "where $\\lfloor . \\rfloor$ is the floor operation.\n"
   ]
  },
  {
   "cell_type": "code",
   "execution_count": 78,
   "metadata": {},
   "outputs": [
    {
     "name": "stdout",
     "output_type": "stream",
     "text": [
      "Conv1d Implementation: [ 5. 14. 16. 26. 24. 34. 19. 22.]\n",
      "Numpy Results: [ 5 14 16 26 24 34 19 22]\n"
     ]
    }
   ],
   "source": [
    "import numpy as np\n",
    "\n",
    "def conv1d(x, w, p=0, s=1):\n",
    "    w_rot = np.array(w[::-1])\n",
    "    x_padded = np.array(x)\n",
    "    if p > 0:\n",
    "        zero_pad = np.zeros(shape=p)\n",
    "        x_padded = np.concatenate(\n",
    "            [zero_pad, x_padded, zero_pad])\n",
    "    res = []\n",
    "    for i in range(0, int((len(x_padded) - len(w_rot)) / s) + 1, s):\n",
    "        res.append(np.sum(\n",
    "            x_padded[i:i+w_rot.shape[0]] * w_rot))\n",
    "        # Same as dot product:\n",
    "        #res.append(np.dot(\n",
    "        #    x_padded[i:i+w_rot.shape[0]],w_rot))\n",
    "    return np.array(res)\n",
    "\n",
    "\n",
    "## Testing:\n",
    "x = [1, 3, 2, 4, 5, 6, 1, 3]\n",
    "w = [1, 0, 3, 1, 2]\n",
    "\n",
    "print('Conv1d Implementation:',\n",
    "      conv1d(x, w, p=2, s=1))\n",
    "\n",
    "print('Numpy Results:',\n",
    "      np.convolve(x, w, mode='same')) "
   ]
  },
  {
   "cell_type": "markdown",
   "metadata": {},
   "source": [
    "### Discrete convolution in 2D\n",
    "\n",
    "$Y = X * W  \\to Y[i,j] = \\sum\\limits_{k_1=-\\infty}^{+\\infty}  \\sum\\limits_{k_2=-\\infty}^{+\\infty} X[i-k_1,j-k_2]  W[k_1, k_2]$"
   ]
  },
  {
   "cell_type": "code",
   "execution_count": 40,
   "metadata": {},
   "outputs": [
    {
     "data": {
      "text/plain": [
       "array([[0., 0., 0.],\n",
       "       [0., 0., 0.]])"
      ]
     },
     "execution_count": 40,
     "metadata": {},
     "output_type": "execute_result"
    }
   ],
   "source": [
    "np.zeros((2,3))"
   ]
  },
  {
   "cell_type": "code",
   "execution_count": 76,
   "metadata": {},
   "outputs": [],
   "source": [
    "def conv2d(X, W, p=(1,1), s=(1,1)):\n",
    "\n",
    "    # Rotate rows and columns of the kernel matrix\n",
    "    W_rot = np.array(W)[::-1,::-1]\n",
    "    # convert to numpy array\n",
    "    X_input = np.array(X)\n",
    "    # Pad with zeros the n + 2p\n",
    "    X_pad = np.zeros( (2*p[0] + X_input.shape[0], 2*p[1] + X_input.shape[1]))\n",
    "    # Replace the core of the padded zero matrix with the actual values\n",
    "    X_pad[p[0]:p[0]+X_input.shape[0], p[1]:p[1]+X_input.shape[1]] = X_input\n",
    "    \n",
    "    # Build the output matrix after convolutions\n",
    "    res = []\n",
    "    for k1 in range(0, int((X_pad.shape[0]-W_rot.shape[0])/s[0]) + 1, s[0] ):\n",
    "        res.append([])\n",
    "        for k2 in range(0, int((X_pad.shape[1]-W_rot.shape[1])/s[1]) + 1, s[1] ):\n",
    "            res[-1].append(\n",
    "                np.sum(X_pad[k1:k1+W_rot.shape[0],k2:k2+W_rot.shape[1]] *  W_rot)\n",
    "            )\n",
    "            \n",
    "    return np.array(res)\n",
    "            "
   ]
  },
  {
   "cell_type": "code",
   "execution_count": 77,
   "metadata": {},
   "outputs": [
    {
     "name": "stdout",
     "output_type": "stream",
     "text": [
      "Expected Dimensions: (4,4)\n",
      "Conv2d Implementation:\n",
      " [[11. 25. 32. 13.]\n",
      " [19. 25. 24. 13.]\n",
      " [13. 28. 25. 17.]\n",
      " [11. 17. 14.  9.]]\n",
      "SciPy Results:\n",
      " [[11 25 32 13]\n",
      " [19 25 24 13]\n",
      " [13 28 25 17]\n",
      " [11 17 14  9]]\n"
     ]
    }
   ],
   "source": [
    "\n",
    "## Testing:\n",
    "X = [[1, 3, 2, 4], [5, 6, 1, 3], [1, 2, 0, 2], [3, 4, 3, 2]]\n",
    "W = [[1, 0, 3], [1, 2, 1], [0, 1, 1]]\n",
    "p=(1,1)\n",
    "s=(1,1)\n",
    "print(f'Expected Dimensions: ({int((len(X) + 2*p[0] - len(W))/s[0]) + 1},{int((len(X[0]) + 2*p[1] - len(W[0]))/s[1]) + 1})')\n",
    "\n",
    "print('Conv2d Implementation:\\n',\n",
    "    conv2d(X, W, p, s))\n",
    "\n",
    "import scipy.signal\n",
    "print('SciPy Results:\\n',\n",
    "    scipy.signal.convolve2d(X, W, mode='same'))"
   ]
  }
 ],
 "metadata": {
  "kernelspec": {
   "display_name": "Python 3 (ipykernel)",
   "language": "python",
   "name": "python3"
  },
  "language_info": {
   "codemirror_mode": {
    "name": "ipython",
    "version": 3
   },
   "file_extension": ".py",
   "mimetype": "text/x-python",
   "name": "python",
   "nbconvert_exporter": "python",
   "pygments_lexer": "ipython3",
   "version": "3.9.6"
  }
 },
 "nbformat": 4,
 "nbformat_minor": 4
}
