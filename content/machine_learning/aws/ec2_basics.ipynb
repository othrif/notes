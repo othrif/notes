{
 "cells": [
  {
   "cell_type": "raw",
   "metadata": {},
   "source": [
    "---\n",
    "title: \"EC2 basics\"\n",
    "date: 2020-04-12T14:41:32+02:00\n",
    "author: \"Othmane Rifki\"\n",
    "type: technical_note\n",
    "draft: false\n",
    "---"
   ]
  },
  {
   "cell_type": "markdown",
   "metadata": {},
   "source": [
    "### Describe instances\n",
    "``` bash \n",
    "aws ec2 describe-instances --profile personal\n",
    "```\n",
    "\n",
    "### ssh to an EC2 instance\n",
    "``` bash \n",
    "chmod 600 </path/my-key-pair.pem>\n",
    "ssh -i </path/my-key-pair.pem> ec2-user@<Public IPv4 DNS>\n",
    "```\n",
    "Run `aws configure` to put in your credentials to have access to s3."
   ]
  }
 ],
 "metadata": {
  "kernelspec": {
   "display_name": "Python 3",
   "language": "python",
   "name": "python3"
  },
  "language_info": {
   "codemirror_mode": {
    "name": "ipython",
    "version": 3
   },
   "file_extension": ".py",
   "mimetype": "text/x-python",
   "name": "python",
   "nbconvert_exporter": "python",
   "pygments_lexer": "ipython3",
   "version": "3.8.5"
  }
 },
 "nbformat": 4,
 "nbformat_minor": 4
}
