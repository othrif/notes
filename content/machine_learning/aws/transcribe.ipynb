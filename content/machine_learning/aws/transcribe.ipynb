{
 "cells": [
  {
   "cell_type": "raw",
   "metadata": {},
   "source": [
    "---\n",
    "title: \"AWS transcribe service\"\n",
    "date: 2020-04-12T14:41:32+02:00\n",
    "author: \"Othmane Rifki\"\n",
    "type: technical_note\n",
    "draft: false\n",
    "---"
   ]
  },
  {
   "cell_type": "markdown",
   "metadata": {},
   "source": [
    "### Check the status of jobs\n",
    "``` bash \n",
    "aws transcribe list-transcription-jobs --profile prod\n",
    "aws transcribe list-transcription-jobs --status IN_PROGRESS --profile prod\n",
    "aws transcribe list-transcription-jobs --status QUEUED --profile prod\n",
    "aws transcribe list-transcription-jobs --status COMPLETED --profile prod\n",
    "aws transcribe list-transcription-jobs --status FAILED --profile prod\n",
    "```"
   ]
  }
 ],
 "metadata": {
  "kernelspec": {
   "display_name": "Python 3",
   "language": "python",
   "name": "python3"
  },
  "language_info": {
   "codemirror_mode": {
    "name": "ipython",
    "version": 3
   },
   "file_extension": ".py",
   "mimetype": "text/x-python",
   "name": "python",
   "nbconvert_exporter": "python",
   "pygments_lexer": "ipython3",
   "version": "3.8.5"
  }
 },
 "nbformat": 4,
 "nbformat_minor": 4
}
