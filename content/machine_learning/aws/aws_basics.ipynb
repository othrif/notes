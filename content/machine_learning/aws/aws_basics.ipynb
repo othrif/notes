{
 "cells": [
  {
   "cell_type": "raw",
   "metadata": {},
   "source": [
    "---\n",
    "title: \"Copy from / to / between aws\"\n",
    "date: 2020-04-12T14:41:32+02:00\n",
    "author: \"Othmane Rifki\"\n",
    "type: technical_note\n",
    "draft: false\n",
    "---"
   ]
  },
  {
   "cell_type": "markdown",
   "metadata": {},
   "source": [
    "### Copying directory to s3 with structure intact\n",
    "``` bash \n",
    "aws s3 sync myDir s3://mybucket --profile prototype\n",
    "```\n",
    "\n",
    "### Recursively copying S3 objects to a local directory\n",
    "\n",
    "``` bash \n",
    "aws s3 cp s3://mybucket . --recursive --profile prototype\n",
    "```\n",
    "\n",
    "### Recursively copying local files to S3\n",
    "``` bash \n",
    "aws s3 cp myDir s3://mybucket/ --recursive --exclude \"*.jpg\" --profile prototype\n",
    "```\n",
    "\n",
    "### Recursively copying S3 objects to another bucket\n",
    "``` bash \n",
    "aws s3 cp s3://mybucket/ s3://mybucket2/ --recursive --exclude \"another/*\" --profile prototype\n",
    "```\n",
    "\n",
    "### Copying an S3 object to a local file\n",
    "``` bash \n",
    "aws s3 cp s3://mybucket/test.txt test2.txt --profile prototype\n",
    "```\n",
    "\n",
    "### Copying a local file to S3\n",
    "``` bash \n",
    "aws s3 cp test.txt s3://mybucket/test2.txt --profile prototype\n",
    "```\n",
    "\n",
    "### Copying a file from S3 to S3\n",
    "``` bash \n",
    "aws s3 cp s3://mybucket/test.txt s3://mybucket/test2.txt --profile prototype\n",
    "```\n",
    "\n",
    "### Rename folder in S3\n",
    "``` bash \n",
    "aws s3 mv s3://mybucket/folder_name_from/ s3://mybucket/folder_name_to/ --recursive --profile prototype\n",
    "```"
   ]
  }
 ],
 "metadata": {
  "kernelspec": {
   "display_name": "Python 3",
   "language": "python",
   "name": "python3"
  },
  "language_info": {
   "codemirror_mode": {
    "name": "ipython",
    "version": 3
   },
   "file_extension": ".py",
   "mimetype": "text/x-python",
   "name": "python",
   "nbconvert_exporter": "python",
   "pygments_lexer": "ipython3",
   "version": "3.8.5"
  }
 },
 "nbformat": 4,
 "nbformat_minor": 4
}
