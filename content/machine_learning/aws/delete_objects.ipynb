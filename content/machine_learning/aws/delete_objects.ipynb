{
 "cells": [
  {
   "cell_type": "raw",
   "metadata": {},
   "source": [
    "---\n",
    "title: \"Delete objects\"\n",
    "date: 2020-04-12T14:41:32+02:00\n",
    "author: \"Othmane Rifki\"\n",
    "type: technical_note\n",
    "draft: false\n",
    "---"
   ]
  },
  {
   "cell_type": "markdown",
   "metadata": {},
   "source": [
    "### List objects with a match\n",
    "``` bash \n",
    "aws s3 ls s3://mybucket/myfolder --profile prod | grep text_match\n",
    "aws s3 ls s3://mybucket/myfolder --profile prod | grep text_match > to_delete\n",
    "```\n",
    "\n",
    "### Delete single object\n",
    "\n",
    "``` bash \n",
    "aws s3 rm s3://mybucket/myfolder/my_object --profile prod\n",
    "```\n",
    "\n",
    "### Delete all objects given a text file containing their paths\n",
    "``` bash \n",
    "for i in `cat to_delete`; do aws s3 rm s3://mybucket/myfolder/${i} --profile prod; done\n",
    "```\n",
    "\n",
    "\n"
   ]
  }
 ],
 "metadata": {
  "kernelspec": {
   "display_name": "Python 3",
   "language": "python",
   "name": "python3"
  },
  "language_info": {
   "codemirror_mode": {
    "name": "ipython",
    "version": 3
   },
   "file_extension": ".py",
   "mimetype": "text/x-python",
   "name": "python",
   "nbconvert_exporter": "python",
   "pygments_lexer": "ipython3",
   "version": "3.8.5"
  }
 },
 "nbformat": 4,
 "nbformat_minor": 4
}
