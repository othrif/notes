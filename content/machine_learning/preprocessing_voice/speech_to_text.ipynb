{
 "cells": [
  {
   "cell_type": "raw",
   "metadata": {},
   "source": [
    "---\n",
    "title: \"Transcribe audio: speech to text\"\n",
    "date: 2020-04-12T14:41:32+02:00\n",
    "author: \"Othmane Rifki\"\n",
    "type: technical_note\n",
    "draft: false\n",
    "---"
   ]
  },
  {
   "cell_type": "code",
   "execution_count": 5,
   "metadata": {},
   "outputs": [],
   "source": [
    "filename = '/Users/othrif/github/dataInsights/courses/datacamp/spoken_language/stereo_phone_call.wav'"
   ]
  },
  {
   "cell_type": "markdown",
   "metadata": {},
   "source": [
    "# Using `speech_recognition`"
   ]
  },
  {
   "cell_type": "code",
   "execution_count": 6,
   "metadata": {},
   "outputs": [
    {
     "name": "stdout",
     "output_type": "stream",
     "text": [
      "hello this is Daniel from Acme Studios how can I best help you I was just wondering if I could get some support yeah sure thing what's your name and what's wrong with your device and not one of large some of my my my farts okay nice to meet you Josh what's the serial number of your device so I can track it down the serial number is 176-4588\n"
     ]
    }
   ],
   "source": [
    "import speech_recognition as sr\n",
    "\n",
    "recognizer = sr.Recognizer()\n",
    "recognizer.energy_threshold = 300\n",
    "tmg_file = sr.AudioFile(filename)\n",
    "\n",
    "with tmg_file as source:\n",
    "    tmg_audio = recognizer.record(source, duration=None, offset=None)\n",
    "\n",
    "text = recognizer.recognize_google(audio_data=tmg_audio, language='en-US')\n",
    "print(text)"
   ]
  }
 ],
 "metadata": {
  "kernelspec": {
   "display_name": "Python 3",
   "language": "python",
   "name": "python3"
  },
  "language_info": {
   "codemirror_mode": {
    "name": "ipython",
    "version": 3
   },
   "file_extension": ".py",
   "mimetype": "text/x-python",
   "name": "python",
   "nbconvert_exporter": "python",
   "pygments_lexer": "ipython3",
   "version": "3.8.5"
  }
 },
 "nbformat": 4,
 "nbformat_minor": 4
}
