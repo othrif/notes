{
 "cells": [
  {
   "cell_type": "raw",
   "metadata": {},
   "source": [
    "---\n",
    "title: \"Convert between audio formats\"\n",
    "date: 2020-04-12T14:41:32+02:00\n",
    "author: \"Othmane Rifki\"\n",
    "type: technical_note\n",
    "draft: false\n",
    "---"
   ]
  },
  {
   "cell_type": "markdown",
   "metadata": {},
   "source": [
    "# Convert in CLI\n",
    "\n",
    "``` bash \n",
    "sox new.wav new.mp3\n",
    "```"
   ]
  },
  {
   "cell_type": "markdown",
   "metadata": {},
   "source": [
    "### Convert to a different bit depth and sampling rate"
   ]
  },
  {
   "cell_type": "markdown",
   "metadata": {},
   "source": [
    "``` bash \n",
    "ffmpeg -i  input.wav -ac 1 -ar 16000 -sample_fmt s16 output.wav\n",
    "```\n",
    "Available bit depth optons:\n",
    "``` bash \n",
    "ffmpeg -sample_fmts\n",
    "```"
   ]
  },
  {
   "cell_type": "markdown",
   "metadata": {},
   "source": [
    "# Convert Numpy to WAV with `wavio`\n",
    "`wavio.write` writes a numpy array to a WAV file, optionally using a specified sample width."
   ]
  },
  {
   "cell_type": "markdown",
   "metadata": {},
   "source": [
    "### Create a numpy array of 16-bit sine wave"
   ]
  },
  {
   "cell_type": "code",
   "execution_count": 1,
   "metadata": {},
   "outputs": [],
   "source": [
    "import numpy as np\n",
    "\n",
    "frequency = 440  # Our played note will be 440 Hz\n",
    "fs = 44100  # 44100 samples per second\n",
    "seconds = 3  # Note duration of 3 seconds\n",
    "t = np.linspace(0, seconds, seconds * fs, False)\n",
    "note = np.sin(frequency * t * 2 * np.pi)\n",
    "audio = note * (2**15 - 1) / np.max(np.abs(note)) # Ensure that highest value is in 16-bit range\n",
    "my_np_array = audio.astype(np.int16) # Convert to 16-bit data"
   ]
  },
  {
   "cell_type": "markdown",
   "metadata": {},
   "source": [
    "### Save to `wav` file"
   ]
  },
  {
   "cell_type": "code",
   "execution_count": 2,
   "metadata": {},
   "outputs": [],
   "source": [
    "import wavio\n",
    "wavio.write('/tmp/myfile.wav', my_np_array, fs, sampwidth=2)"
   ]
  },
  {
   "cell_type": "code",
   "execution_count": 3,
   "metadata": {},
   "outputs": [
    {
     "name": "stdout",
     "output_type": "stream",
     "text": [
      "/tmp/myfile.wav\n"
     ]
    }
   ],
   "source": [
    "!ls /tmp/myfile*.wav"
   ]
  },
  {
   "cell_type": "markdown",
   "metadata": {},
   "source": [
    "# Convert with `pydub`\n",
    "Can convert between all [ffmpeg formats](https://www.ffmpeg.org/general.html#File-Formats)"
   ]
  },
  {
   "cell_type": "code",
   "execution_count": 4,
   "metadata": {},
   "outputs": [
    {
     "data": {
      "text/plain": [
       "<_io.BufferedRandom name='/tmp/myfile.mp3'>"
      ]
     },
     "execution_count": 4,
     "metadata": {},
     "output_type": "execute_result"
    }
   ],
   "source": [
    "from pydub import AudioSegment\n",
    "sound = AudioSegment.from_file('/tmp/myfile.wav', format='wav')\n",
    "sound.export('/tmp/myfile.mp3', format='mp3')"
   ]
  },
  {
   "cell_type": "code",
   "execution_count": 5,
   "metadata": {},
   "outputs": [
    {
     "name": "stdout",
     "output_type": "stream",
     "text": [
      "/tmp/myfile.mp3 /tmp/myfile.wav\n"
     ]
    }
   ],
   "source": [
    "!ls /tmp/myfile*"
   ]
  },
  {
   "cell_type": "markdown",
   "metadata": {},
   "source": [
    "# Convert with `soundfile`\n",
    "Can convert between all [libsndfile formats](http://www.mega-nerd.com/libsndfile/#Features)"
   ]
  },
  {
   "cell_type": "code",
   "execution_count": 6,
   "metadata": {},
   "outputs": [],
   "source": [
    "import soundfile as sf\n",
    "\n",
    "# Extract audio data and sampling rate from file \n",
    "data, fs = sf.read('/tmp/myfile.wav') \n",
    "# Save as FLAC file at correct sampling rate\n",
    "sf.write('/tmp/myfile.flac', data, fs)  "
   ]
  },
  {
   "cell_type": "code",
   "execution_count": 7,
   "metadata": {},
   "outputs": [
    {
     "name": "stdout",
     "output_type": "stream",
     "text": [
      "/tmp/myfile.flac /tmp/myfile.mp3  /tmp/myfile.wav\n"
     ]
    }
   ],
   "source": [
    "!ls /tmp/myfile*"
   ]
  }
 ],
 "metadata": {
  "kernelspec": {
   "display_name": "Python 3",
   "language": "python",
   "name": "python3"
  },
  "language_info": {
   "codemirror_mode": {
    "name": "ipython",
    "version": 3
   },
   "file_extension": ".py",
   "mimetype": "text/x-python",
   "name": "python",
   "nbconvert_exporter": "python",
   "pygments_lexer": "ipython3",
   "version": "3.8.5"
  }
 },
 "nbformat": 4,
 "nbformat_minor": 4
}
