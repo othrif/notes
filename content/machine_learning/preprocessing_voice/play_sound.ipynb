{
 "cells": [
  {
   "cell_type": "raw",
   "metadata": {},
   "source": [
    "---\n",
    "title: \"Play sound in jupyter and other libraries\"\n",
    "date: 2020-04-12T14:41:32+02:00\n",
    "author: \"Othmane Rifki\"\n",
    "type: technical_note\n",
    "draft: false\n",
    "---"
   ]
  },
  {
   "cell_type": "markdown",
   "metadata": {},
   "source": [
    "See resources here: https://realpython.com/playing-and-recording-sound-python/"
   ]
  },
  {
   "cell_type": "code",
   "execution_count": 1,
   "metadata": {},
   "outputs": [],
   "source": [
    "filename = '/Users/othrif/spectrum/voice/datasets/free-spoken-digit-dataset/recordings/4_yweweler_5.wav'"
   ]
  },
  {
   "cell_type": "markdown",
   "metadata": {},
   "source": [
    "# Play in CLI\n",
    "From `sox`: \n",
    "``` bash \n",
    "play existing-file.wav\n",
    "```"
   ]
  },
  {
   "cell_type": "markdown",
   "metadata": {},
   "source": [
    "# Play sound in Jupyter"
   ]
  },
  {
   "cell_type": "code",
   "execution_count": 7,
   "metadata": {},
   "outputs": [
    {
     "data": {
      "text/html": [
       "\n",
       "                <audio  controls=\"controls\" >\n",
       "                    <source src=\"data:audio/x-wav;base64,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\" type=\"audio/x-wav\" />\n",
       "                    Your browser does not support the audio element.\n",
       "                </audio>\n",
       "              "
      ],
      "text/plain": [
       "<IPython.lib.display.Audio object>"
      ]
     },
     "execution_count": 7,
     "metadata": {},
     "output_type": "execute_result"
    }
   ],
   "source": [
    "import IPython.display as ipd\n",
    "ipd.Audio(filename)"
   ]
  },
  {
   "cell_type": "markdown",
   "metadata": {},
   "source": [
    "### Play mp3 in Jupyter and load with `librosa`"
   ]
  },
  {
   "cell_type": "code",
   "execution_count": 3,
   "metadata": {},
   "outputs": [
    {
     "data": {
      "text/html": [
       "\n",
       "                <audio  controls=\"controls\" >\n",
       "                    <source src=\"data:audio/mpeg;base64,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\" type=\"audio/mpeg\" />\n",
       "                    Your browser does not support the audio element.\n",
       "                </audio>\n",
       "              "
      ],
      "text/plain": [
       "<IPython.lib.display.Audio object>"
      ]
     },
     "metadata": {},
     "output_type": "display_data"
    }
   ],
   "source": [
    "# common imports\n",
    "import IPython.display as ipd\n",
    "import librosa\n",
    "import warnings\n",
    "warnings.filterwarnings('ignore')\n",
    "\n",
    "newfile='/Users/othrif/spectrum/voice/learning/simple_audio/test/test.mp3'\n",
    "ipd.display(ipd.Audio(newfile))\n",
    "sound,sr = librosa.load(newfile)"
   ]
  },
  {
   "cell_type": "markdown",
   "metadata": {},
   "source": [
    "# Play sound with `pydub`\n",
    "Some useful details [here](https://github.com/jiaaro/pydub/blob/master/API.markdown)"
   ]
  },
  {
   "cell_type": "code",
   "execution_count": 30,
   "metadata": {},
   "outputs": [],
   "source": [
    "from pydub import AudioSegment\n",
    "from pydub.playback import play\n",
    "\n",
    "sound = AudioSegment.from_file(filename, 'wav')\n",
    "play(sound)"
   ]
  },
  {
   "cell_type": "code",
   "execution_count": 31,
   "metadata": {},
   "outputs": [],
   "source": [
    "from pydub import AudioSegment\n",
    "from pydub.playback import play\n",
    "\n",
    "# Play wav\n",
    "sound = AudioSegment.from_wav(filename)\n",
    "play(sound)\n",
    "\n",
    "# Play mp3\n",
    "sound = AudioSegment.from_mp3('/Users/othrif/spectrum/voice/learning/simple_audio/test/test.mp3')\n",
    "play(sound)"
   ]
  },
  {
   "cell_type": "markdown",
   "metadata": {},
   "source": [
    "# Play sound with `sounddevice`\n",
    "read a WAV file as a NumPy array and play it back   \n",
    "Interesting examples here: https://python-sounddevice.readthedocs.io/en/latest/examples.html#plot-microphone-signal-s-in-real-time"
   ]
  },
  {
   "cell_type": "code",
   "execution_count": 15,
   "metadata": {},
   "outputs": [],
   "source": [
    "import sounddevice as sd\n",
    "import soundfile as sf\n",
    "\n",
    "# Extract data and sampling rate from file\n",
    "data, fs = sf.read(filename, dtype='float32')  \n",
    "sd.play(data, fs)\n",
    "status = sd.wait()  # Wait until file is done playing"
   ]
  }
 ],
 "metadata": {
  "kernelspec": {
   "display_name": "Python 3",
   "language": "python",
   "name": "python3"
  },
  "language_info": {
   "codemirror_mode": {
    "name": "ipython",
    "version": 3
   },
   "file_extension": ".py",
   "mimetype": "text/x-python",
   "name": "python",
   "nbconvert_exporter": "python",
   "pygments_lexer": "ipython3",
   "version": "3.8.5"
  }
 },
 "nbformat": 4,
 "nbformat_minor": 4
}
