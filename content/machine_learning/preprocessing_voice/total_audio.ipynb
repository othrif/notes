{
 "cells": [
  {
   "cell_type": "raw",
   "metadata": {},
   "source": [
    "---\n",
    "title: \"total time of audio\"\n",
    "date: 2020-04-12T14:41:32+02:00\n",
    "author: \"Othmane Rifki\"\n",
    "type: technical_note\n",
    "draft: false\n",
    "---"
   ]
  },
  {
   "cell_type": "markdown",
   "metadata": {},
   "source": [
    "### Really simple way that works in macos\n",
    "\n",
    "``` bash \n",
    "soxi -D * | awk 'BEGIN { s = 0 }; { s = s + $1 }; END { print s \" seconds\"}'\n",
    "```"
   ]
  },
  {
   "cell_type": "markdown",
   "metadata": {},
   "source": [
    "### More complex ways"
   ]
  },
  {
   "cell_type": "markdown",
   "metadata": {},
   "source": [
    "Calculate the total time of all audio files at a location.\n",
    "\n",
    "``` bash \n",
    "EPOCH='jan 1 1970'; sum=0; for i in `soxi * | grep Duration | awk -F\" \" '{print $3}' | grep :`; do sum=\"$(date -u -d \"$EPOCH $i\" +%s) + $sum\"; done; echo \"total = `echo $sum | bc` seconds\"\n",
    "```\n",
    "\n",
    "Alternative that works with large number of files:\n",
    "``` bash \n",
    "EPOCH='jan 1 1970'; sum=0; for i in `find . -iname \"*.wav\" -exec soxi {} \\; | grep Duration | awk -F\" \" '{print $3}' | grep :`; do sum=\"$(date -u -d \"$EPOCH $i\" +%s) + $sum\"; done; echo \"total = `echo $sum | bc` seconds\"\n",
    "```\n"
   ]
  }
 ],
 "metadata": {
  "kernelspec": {
   "display_name": "Python 3",
   "language": "python",
   "name": "python3"
  },
  "language_info": {
   "codemirror_mode": {
    "name": "ipython",
    "version": 3
   },
   "file_extension": ".py",
   "mimetype": "text/x-python",
   "name": "python",
   "nbconvert_exporter": "python",
   "pygments_lexer": "ipython3",
   "version": "3.8.5"
  }
 },
 "nbformat": 4,
 "nbformat_minor": 4
}
