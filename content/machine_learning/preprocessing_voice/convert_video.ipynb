{
 "cells": [
  {
   "cell_type": "raw",
   "metadata": {},
   "source": [
    "---\n",
    "title: \"Convert video\"\n",
    "date: 2020-04-12T14:41:32+02:00\n",
    "author: \"Othmane Rifki\"\n",
    "type: technical_note\n",
    "draft: false\n",
    "---"
   ]
  },
  {
   "cell_type": "markdown",
   "metadata": {},
   "source": [
    "# Convert video\n",
    "\n",
    "Convert video from one format to another:\n",
    "\n",
    "``` bash \n",
    "ffmpeg -i input.mov -vcodec h264 -acodec mp2 output.mp4\n",
    "```"
   ]
  },
  {
   "cell_type": "markdown",
   "metadata": {},
   "source": [
    "# Run diagnosis\n",
    "\n",
    "Run the following diagnosis for either audio or video:\n",
    "\n",
    "``` bash \n",
    "ffmpeg -i output.mp4\n",
    "ffprobe ouptut.mp4\n",
    "\n",
    "```"
   ]
  }
 ],
 "metadata": {
  "kernelspec": {
   "display_name": "Python 3",
   "language": "python",
   "name": "python3"
  },
  "language_info": {
   "codemirror_mode": {
    "name": "ipython",
    "version": 3
   },
   "file_extension": ".py",
   "mimetype": "text/x-python",
   "name": "python",
   "nbconvert_exporter": "python",
   "pygments_lexer": "ipython3",
   "version": "3.8.5"
  }
 },
 "nbformat": 4,
 "nbformat_minor": 4
}
