{
 "cells": [
  {
   "cell_type": "raw",
   "metadata": {},
   "source": [
    "---\n",
    "title: \"Reading embedding file\"\n",
    "date: 2020-04-12T14:41:32+02:00\n",
    "author: \"Othmane Rifki\"\n",
    "type: technical_note\n",
    "draft: false\n",
    "---"
   ]
  },
  {
   "cell_type": "code",
   "execution_count": 6,
   "metadata": {},
   "outputs": [
    {
     "name": "stdout",
     "output_type": "stream",
     "text": [
      "<_io.TextIOWrapper name='wiki-words.emb' mode='r' encoding='UTF-8'>\n"
     ]
    }
   ],
   "source": [
    "import numpy as np\n",
    "\n",
    "words = []\n",
    "vectors = []\n",
    "\n",
    "with open('wiki-words.emb', 'r') as f:\n",
    "    print(f)\n",
    "    for line in f:\n",
    "        print(line)\n",
    "        fields = line.split()\n",
    "        word = fields[0].decode('utf-8')\n",
    "        vector = np.fromiter((float(x) for x in fields[1:]),\n",
    "                             dtype=np.float)\n",
    "        words.append(word)\n",
    "        vectors.append(vector)\n",
    "\n",
    "# Matrix of embeddings\n",
    "matrix = np.array(vectors)\n",
    "# Vocabulary file\n",
    "text = '\\n'.join(words)\n",
    "vocab = text.encode('utf-8')"
   ]
  }
 ],
 "metadata": {
  "kernelspec": {
   "display_name": "Python 3",
   "language": "python",
   "name": "python3"
  },
  "language_info": {
   "codemirror_mode": {
    "name": "ipython",
    "version": 3
   },
   "file_extension": ".py",
   "mimetype": "text/x-python",
   "name": "python",
   "nbconvert_exporter": "python",
   "pygments_lexer": "ipython3",
   "version": "3.8.5"
  }
 },
 "nbformat": 4,
 "nbformat_minor": 4
}
