{
 "cells": [
  {
   "cell_type": "raw",
   "metadata": {},
   "source": [
    "---\n",
    "title: \"Encode text into integers and pad with zeros\n",
    "date: 2020-04-12T14:41:32+02:00\n",
    "author: \"Othmane Rifki\"\n",
    "type: technical_note\n",
    "draft: false\n",
    "---"
   ]
  },
  {
   "cell_type": "markdown",
   "metadata": {},
   "source": [
    "### Encode text into integers using Counter()"
   ]
  },
  {
   "cell_type": "code",
   "execution_count": 1,
   "metadata": {},
   "outputs": [
    {
     "data": {
      "text/html": [
       "<div>\n",
       "<style scoped>\n",
       "    .dataframe tbody tr th:only-of-type {\n",
       "        vertical-align: middle;\n",
       "    }\n",
       "\n",
       "    .dataframe tbody tr th {\n",
       "        vertical-align: top;\n",
       "    }\n",
       "\n",
       "    .dataframe thead th {\n",
       "        text-align: right;\n",
       "    }\n",
       "</style>\n",
       "<table border=\"1\" class=\"dataframe\">\n",
       "  <thead>\n",
       "    <tr style=\"text-align: right;\">\n",
       "      <th></th>\n",
       "      <th>sentiment</th>\n",
       "      <th>review</th>\n",
       "    </tr>\n",
       "  </thead>\n",
       "  <tbody>\n",
       "    <tr>\n",
       "      <th>0</th>\n",
       "      <td>1</td>\n",
       "      <td>This movie is great</td>\n",
       "    </tr>\n",
       "    <tr>\n",
       "      <th>1</th>\n",
       "      <td>0</td>\n",
       "      <td>OK... so... I really like Kris Kristofferson!</td>\n",
       "    </tr>\n",
       "    <tr>\n",
       "      <th>2</th>\n",
       "      <td>0</td>\n",
       "      <td>SPOILER: Do not watch this movie!</td>\n",
       "    </tr>\n",
       "    <tr>\n",
       "      <th>3</th>\n",
       "      <td>1</td>\n",
       "      <td>hi for all the people who have seen this wonde...</td>\n",
       "    </tr>\n",
       "    <tr>\n",
       "      <th>4</th>\n",
       "      <td>0</td>\n",
       "      <td>I recently bought the DVD, it is a waste.</td>\n",
       "    </tr>\n",
       "  </tbody>\n",
       "</table>\n",
       "</div>"
      ],
      "text/plain": [
       "   sentiment                                             review\n",
       "0          1                                This movie is great\n",
       "1          0      OK... so... I really like Kris Kristofferson!\n",
       "2          0                  SPOILER: Do not watch this movie!\n",
       "3          1  hi for all the people who have seen this wonde...\n",
       "4          0          I recently bought the DVD, it is a waste."
      ]
     },
     "execution_count": 1,
     "metadata": {},
     "output_type": "execute_result"
    }
   ],
   "source": [
    "import pandas as pd \n",
    "\n",
    "# Get data\n",
    "\n",
    "my_data = {'sentiment': [1, 0, 0, 1, 0],\n",
    " 'review': ['This movie is great',\n",
    "  'OK... so... I really like Kris Kristofferson!',\n",
    "  'SPOILER: Do not watch this movie!',\n",
    "  'hi for all the people who have seen this wonderful art.',\n",
    "  'I recently bought the DVD, it is a waste.']}\n",
    "\n",
    "df = pd.DataFrame(my_data)\n",
    "df"
   ]
  },
  {
   "cell_type": "code",
   "execution_count": 2,
   "metadata": {},
   "outputs": [],
   "source": [
    "from collections import Counter\n",
    "from string import punctuation\n",
    "\n",
    "# Seperate words and count each word's occurence\n",
    "counts = Counter()\n",
    "for i, review in enumerate(df['review']):\n",
    "    text = ''.join([c if c not in punctuation else ' '+c+' ' for c in review]).lower()\n",
    "    df.loc[i,'review'] = text\n",
    "    counts.update(text.split())"
   ]
  },
  {
   "cell_type": "code",
   "execution_count": 3,
   "metadata": {},
   "outputs": [
    {
     "name": "stdout",
     "output_type": "stream",
     "text": [
      "['.', 'this', 'movie', 'is', 'i']\n"
     ]
    },
    {
     "data": {
      "text/plain": [
       "{'.': 1,\n",
       " 'this': 2,\n",
       " 'movie': 3,\n",
       " 'is': 4,\n",
       " 'i': 5,\n",
       " '!': 6,\n",
       " 'the': 7,\n",
       " 'great': 8,\n",
       " 'ok': 9,\n",
       " 'so': 10,\n",
       " 'really': 11,\n",
       " 'like': 12,\n",
       " 'kris': 13,\n",
       " 'kristofferson': 14,\n",
       " 'spoiler': 15,\n",
       " ':': 16,\n",
       " 'do': 17,\n",
       " 'not': 18,\n",
       " 'watch': 19,\n",
       " 'hi': 20,\n",
       " 'for': 21,\n",
       " 'all': 22,\n",
       " 'people': 23,\n",
       " 'who': 24,\n",
       " 'have': 25,\n",
       " 'seen': 26,\n",
       " 'wonderful': 27,\n",
       " 'art': 28,\n",
       " 'recently': 29,\n",
       " 'bought': 30,\n",
       " 'dvd': 31,\n",
       " ',': 32,\n",
       " 'it': 33,\n",
       " 'a': 34,\n",
       " 'waste': 35}"
      ]
     },
     "execution_count": 3,
     "metadata": {},
     "output_type": "execute_result"
    }
   ],
   "source": [
    "# Map each unique word to an integer\n",
    "word_counts = sorted(counts, key=counts.get, reverse=True)\n",
    "print(word_counts[:5])\n",
    "word_to_int = {word: ii for ii, word in enumerate(word_counts, 1)}\n",
    "word_to_int"
   ]
  },
  {
   "cell_type": "code",
   "execution_count": 4,
   "metadata": {},
   "outputs": [
    {
     "name": "stdout",
     "output_type": "stream",
     "text": [
      "this movie is great -> [2, 3, 4, 8]\n"
     ]
    }
   ],
   "source": [
    "# Convert text to integers based on previous mapping\n",
    "mapped_reviews = []\n",
    "for review in df['review']:\n",
    "    mapped_reviews.append([word_to_int[word] for word in review.split()])\n",
    "print(df.loc[0,'review'], '->', mapped_reviews[0])"
   ]
  },
  {
   "cell_type": "markdown",
   "metadata": {},
   "source": [
    "### Pad with zeros for fixed input"
   ]
  },
  {
   "cell_type": "code",
   "execution_count": 5,
   "metadata": {},
   "outputs": [
    {
     "data": {
      "text/plain": [
       "array([[0, 0, 0, 0, 0, 0, 0, 0, 0, 0],\n",
       "       [0, 0, 0, 0, 0, 0, 0, 0, 0, 0],\n",
       "       [0, 0, 0, 0, 0, 0, 0, 0, 0, 0],\n",
       "       [0, 0, 0, 0, 0, 0, 0, 0, 0, 0],\n",
       "       [0, 0, 0, 0, 0, 0, 0, 0, 0, 0]])"
      ]
     },
     "execution_count": 5,
     "metadata": {},
     "output_type": "execute_result"
    }
   ],
   "source": [
    "import numpy as np\n",
    "\n",
    "# Define same length sequence\n",
    "# if sequence length < 200: left-pad with zeros\n",
    "# if sequence length > 200: use the last 200 elements \n",
    "\n",
    "sequence_length = 10\n",
    "sequences = np.zeros((len(mapped_reviews), sequence_length), dtype=int)\n",
    "sequences"
   ]
  },
  {
   "cell_type": "code",
   "execution_count": 6,
   "metadata": {},
   "outputs": [
    {
     "data": {
      "text/plain": [
       "[[2, 3, 4, 8],\n",
       " [9, 1, 1, 1, 10, 1, 1, 1, 5, 11, 12, 13, 14, 6],\n",
       " [15, 16, 17, 18, 19, 2, 3, 6],\n",
       " [20, 21, 22, 7, 23, 24, 25, 26, 2, 27, 28, 1],\n",
       " [5, 29, 30, 7, 31, 32, 33, 4, 34, 35, 1]]"
      ]
     },
     "execution_count": 6,
     "metadata": {},
     "output_type": "execute_result"
    }
   ],
   "source": [
    "mapped_reviews"
   ]
  },
  {
   "cell_type": "code",
   "execution_count": 7,
   "metadata": {},
   "outputs": [
    {
     "data": {
      "text/plain": [
       "array([[ 0,  0,  0,  0,  0,  0,  2,  3,  4,  8],\n",
       "       [10,  1,  1,  1,  5, 11, 12, 13, 14,  6],\n",
       "       [ 0,  0, 15, 16, 17, 18, 19,  2,  3,  6],\n",
       "       [22,  7, 23, 24, 25, 26,  2, 27, 28,  1],\n",
       "       [29, 30,  7, 31, 32, 33,  4, 34, 35,  1]])"
      ]
     },
     "execution_count": 7,
     "metadata": {},
     "output_type": "execute_result"
    }
   ],
   "source": [
    "for i, row in enumerate(mapped_reviews):\n",
    "    review_arr = np.array(row)\n",
    "    sequences[i, -len(row):] = review_arr[-sequence_length:]\n",
    "sequences"
   ]
  }
 ],
 "metadata": {
  "kernelspec": {
   "display_name": "Python 3 (ipykernel)",
   "language": "python",
   "name": "python3"
  },
  "language_info": {
   "codemirror_mode": {
    "name": "ipython",
    "version": 3
   },
   "file_extension": ".py",
   "mimetype": "text/x-python",
   "name": "python",
   "nbconvert_exporter": "python",
   "pygments_lexer": "ipython3",
   "version": "3.9.6"
  }
 },
 "nbformat": 4,
 "nbformat_minor": 4
}
