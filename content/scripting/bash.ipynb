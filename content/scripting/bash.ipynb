{
 "cells": [
  {
   "cell_type": "raw",
   "metadata": {},
   "source": [
    "---\n",
    "title: \"Bash scripting\"\n",
    "date: 2020-04-12T14:41:32+02:00\n",
    "author: \"Othmane Rifki\"\n",
    "type: technical_note\n",
    "draft: false\n",
    "---"
   ]
  },
  {
   "cell_type": "markdown",
   "metadata": {},
   "source": [
    "### Multi-line comments\n",
    "\n",
    "``` bash\n",
    ": '\n",
    "This is a\n",
    "very neat comment\n",
    "in bash\n",
    "'\n",
    "```\n",
    "\n",
    "### Output common lines between two files\n",
    "\n",
    "``` bash \n",
    "grep -Fxf file1 file2 # using grep\n",
    "sort file1 file2 | uniq -d # using sort\n",
    "```\n",
    "\n",
    "### Replace white space with underscore in filename\n",
    "``` bash \n",
    "for f in *; do mv \"$f\" `echo $f | tr ' ' '_'`; done\n",
    "```\n",
    "\n",
    "### Processing a large number of files\n",
    "To avoid the error `Argument list too long`:\n",
    "``` bash \n",
    "ls | xargs -n 32 -P 8 cat >> ../saved_output\n",
    "```\n",
    "The xargs utility will take the output of ls, break it into chunks of 32 (32 arguments) and spawn up to 8 concurrent cat processes.  cat will be respawned  as long as their is data coming from ls.\n",
    "\n",
    "### Randomly select N files\n",
    "``` bash \n",
    "ls | shuf -n 50\n",
    "```\n",
    "\n",
    "### Replace string in file \n",
    "\n",
    "#### OSX\n",
    "``` bash \n",
    "sed -i '' 's/resources\\/input\\//\\/Users\\/othrif\\/projects\\/aoede\\/resources\\/input\\/versioned\\/v1\\//g' *txt\n",
    "```\n",
    "\n",
    "#### Linux\n",
    "``` bash \n",
    "sed 's/resources\\/input\\//\\/Users\\/othrif\\/projects\\/aoede\\/resources\\/input\\/versioned\\/v1\\//g' *txt\n",
    "```\n",
    "\n",
    "### Diff between two commands\n",
    "``` bash \n",
    "diff <(ls file1) <(ls file2)\n",
    "```\n",
    "\n",
    "### Find size of all files including hidden files\n",
    "``` bash \n",
    "du -shc .[^.]* *\n",
    "```"
   ]
  }
 ],
 "metadata": {
  "kernelspec": {
   "display_name": "Python 3 (ipykernel)",
   "language": "python",
   "name": "python3"
  },
  "language_info": {
   "codemirror_mode": {
    "name": "ipython",
    "version": 3
   },
   "file_extension": ".py",
   "mimetype": "text/x-python",
   "name": "python",
   "nbconvert_exporter": "python",
   "pygments_lexer": "ipython3",
   "version": "3.9.6"
  }
 },
 "nbformat": 4,
 "nbformat_minor": 4
}
