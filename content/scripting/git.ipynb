{
 "cells": [
  {
   "cell_type": "raw",
   "metadata": {},
   "source": [
    "---\n",
    "title: \"Working with git\"\n",
    "date: 2020-04-12T14:41:32+02:00\n",
    "author: \"Othmane Rifki\"\n",
    "type: technical_note\n",
    "draft: false\n",
    "---"
   ]
  },
  {
   "cell_type": "markdown",
   "metadata": {},
   "source": [
    "### Bring your branch up-to-date with master\n",
    "``` bash\n",
    "git checkout master\n",
    "git fetch -p origin\n",
    "git merge origin/master\n",
    "git checkout <feature-branch>\n",
    "git merge master\n",
    "git push origin <feature-branch>\n",
    "```"
   ]
  },
  {
   "cell_type": "markdown",
   "metadata": {},
   "source": [
    "### Create a new branch and check out an old  commit\n",
    "``` bash\n",
    "git checkout -b <new branch> <SHA-1>\n",
    "git add .\n",
    "git commit -m \"added a new branch from old commit\"\n",
    "git push --set-upstream origin <new branch>\n",
    "```"
   ]
  },
  {
   "cell_type": "markdown",
   "metadata": {},
   "source": [
    "### Tag code version\n",
    "``` bash \n",
    "git checkout main\n",
    "git pull\n",
    "git tag -a v0.1.2 -m \"tag message\"\n",
    "git push origin v0.1.2 # single tag\n",
    "# git push origin <tag> # push all tags\n",
    "```"
   ]
  },
  {
   "cell_type": "markdown",
   "metadata": {},
   "source": [
    "### Hard reset to a remote repository\n",
    "\n",
    "If you do something wrong and want to reset:\n",
    "``` bash \n",
    "git fetch origin\n",
    "git reset --hard origin/main\n",
    "```"
   ]
  },
  {
   "cell_type": "markdown",
   "metadata": {},
   "source": [
    "### Push a newly created repo to git\n",
    "``` bash \n",
    "git init\n",
    "git add .\n",
    "git commit -m \"Initial commit with the basic code structure\"\n",
    "git branch -m master main\n",
    "git remote add origin https://github.com/<repo>\n",
    "git push -u origin main\n",
    "```"
   ]
  },
  {
   "cell_type": "markdown",
   "metadata": {},
   "source": [
    "### Remove submodule\n",
    "To remove a submodule from a git repository you need to:\n",
    "\n",
    "Delete the relevant section from the `.gitmodules` file  \n",
    "Stage the `.gitmodules` changes: `git add .gitmodules`   \n",
    "Delete the relevant section from `.git/config`   \n",
    "Run `git rm --cached path_to_submodule` (no trailing slash)    \n",
    "Run `rm -rf .git/modules/path_to_submodule` (no trailing slash)   \n",
    "Commit `git commit -m \"Removed submodule\"`    \n",
    "Delete the now untracked submodule files `rm -rf path_to_submodule`   "
   ]
  },
  {
   "cell_type": "markdown",
   "metadata": {},
   "source": [
    "### Transfer from `github` to `gitlab`\n",
    "```\n",
    "git remote add github https://github.com/othrif/vbfmet-recast.git\n",
    "git push --mirror github\n",
    "```\n"
   ]
  },
  {
   "cell_type": "markdown",
   "metadata": {},
   "source": [
    "### Number of lines of code\n",
    "\n",
    "Add the following to `cloc-git`\n",
    "``` bash \n",
    "#!/usr/bin/env bash\n",
    "git clone --depth 1 \"$1\" temp-linecount-repo &&\n",
    "  printf \"('temp-linecount-repo' will be deleted automatically)\\n\\n\\n\" &&\n",
    "  cloc temp-linecount-repo &&\n",
    "  rm -rf temp-linecount-repo%\n",
    "```\n",
    "Then add it to a folder in your path such as `/usr/local/bin/` and set the proper permission with\n",
    "``` bash \n",
    "chmod a+x cloc-git\n",
    "```\n",
    "\n",
    "Find the number of lines with:\n",
    "``` bash \n",
    "cloc-git https://github.com/othrif/repo.git\n",
    "```\n"
   ]
  },
  {
   "cell_type": "markdown",
   "metadata": {},
   "source": [
    "### Avoid needing git token each time\n",
    "\n",
    "When you want to pull/push from git, you will need your username and token. *Note this is different than your github password*.\n",
    "\n",
    "To avoid needing to enter your credentials everytime, enable local caching of your credentials:\n",
    "``` bash \n",
    "git config credential.helper store\n",
    "```\n",
    "\n",
    "You can also use a public ssh key: copy the contents of `~/.ssh/id_rsa.pub` to [github settings](https://github.com/settings/keys)"
   ]
  }
 ],
 "metadata": {
  "kernelspec": {
   "display_name": "Python 3",
   "language": "python",
   "name": "python3"
  },
  "language_info": {
   "codemirror_mode": {
    "name": "ipython",
    "version": 3
   },
   "file_extension": ".py",
   "mimetype": "text/x-python",
   "name": "python",
   "nbconvert_exporter": "python",
   "pygments_lexer": "ipython3",
   "version": "3.8.5"
  }
 },
 "nbformat": 4,
 "nbformat_minor": 4
}
