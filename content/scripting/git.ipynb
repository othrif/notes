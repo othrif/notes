{
 "cells": [
  {
   "cell_type": "raw",
   "metadata": {},
   "source": [
    "---\n",
    "title: \"Working with git\"\n",
    "date: 2020-04-12T14:41:32+02:00\n",
    "author: \"Othmane Rifki\"\n",
    "type: technical_note\n",
    "draft: false\n",
    "---"
   ]
  },
  {
   "cell_type": "markdown",
   "metadata": {},
   "source": [
    "### Bring your branch up-to-date with master\n",
    "``` bash\n",
    "git checkout master\n",
    "git fetch -p origin\n",
    "git merge origin/master\n",
    "git checkout <feature-branch>\n",
    "git merge master\n",
    "git push origin <feature-branch>\n",
    "```"
   ]
  },
  {
   "cell_type": "markdown",
   "metadata": {},
   "source": [
    "### Create a new branch and check out an old  commit\n",
    "``` bash\n",
    "git checkout -b <new branch> <SHA-1>\n",
    "git add .\n",
    "git commit -m \"added a new branch from old commit\"\n",
    "git push --set-upstream origin <new branch>\n",
    "```"
   ]
  },
  {
   "cell_type": "markdown",
   "metadata": {},
   "source": [
    "### Remove submodule\n",
    "To remove a submodule from a git repository you need to:\n",
    "\n",
    "Delete the relevant section from the `.gitmodules` file  \n",
    "Stage the `.gitmodules` changes: `git add .gitmodules`   \n",
    "Delete the relevant section from `.git/config`   \n",
    "Run `git rm --cached path_to_submodule` (no trailing slash)    \n",
    "Run `rm -rf .git/modules/path_to_submodule` (no trailing slash)   \n",
    "Commit `git commit -m \"Removed submodule\"`    \n",
    "Delete the now untracked submodule files `rm -rf path_to_submodule`   "
   ]
  },
  {
   "cell_type": "markdown",
   "metadata": {},
   "source": [
    "### Transfer from `github` to `gitlab`\n",
    "```\n",
    "git remote add github https://github.com/othrif/vbfmet-recast.git\n",
    "git push --mirror github\n",
    "```\n"
   ]
  },
  {
   "cell_type": "code",
   "execution_count": null,
   "metadata": {},
   "outputs": [],
   "source": []
  }
 ],
 "metadata": {
  "kernelspec": {
   "display_name": "Python 3",
   "language": "python",
   "name": "python3"
  },
  "language_info": {
   "codemirror_mode": {
    "name": "ipython",
    "version": 3
   },
   "file_extension": ".py",
   "mimetype": "text/x-python",
   "name": "python",
   "nbconvert_exporter": "python",
   "pygments_lexer": "ipython3",
   "version": "3.7.3"
  }
 },
 "nbformat": 4,
 "nbformat_minor": 4
}
