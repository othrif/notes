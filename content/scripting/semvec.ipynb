{
 "cells": [
  {
   "cell_type": "raw",
   "metadata": {},
   "source": [
    "---\n",
    "title: \"Semantic versioning with git\"\n",
    "date: 2020-04-12T14:41:32+02:00\n",
    "author: \"Othmane Rifki\"\n",
    "type: technical_note\n",
    "draft: false\n",
    "---"
   ]
  },
  {
   "cell_type": "markdown",
   "metadata": {},
   "source": [
    "See: https://semver.org/\n",
    "\n",
    "\n",
    "#### Commit message header\n",
    "\n",
    "```\n",
    "<type>(<scope>): <short summary>\n",
    "  │       │             │\n",
    "  │       │             └─⫸ Summary in present tense. Not capitalized. No period at the end.\n",
    "  │       │\n",
    "  │       └─⫸ Commit Scope: common|compiler|compiler-cli|core|platform|packaging|changelog|docs|upgrade|etc.                   \n",
    "  │\n",
    "  └─⫸ Commit Type: build|ci|docs|feat|fix|perf|refactor|test\n",
    "```\n",
    "\n",
    "##### Type\n",
    "\n",
    "Must be one of the following:\n",
    "\n",
    "* **build**: Changes that affect the build system or external dependencies (example scopes: gulp, broccoli, npm)\n",
    "* **ci**: Changes to our CI configuration files and scripts (example scopes: Circle, BrowserStack, SauceLabs)\n",
    "* **docs**: Documentation only changes\n",
    "* **feat**: A new feature\n",
    "* **fix**: A bug fix\n",
    "* **perf**: A code change that improves performance\n",
    "* **refactor**: A code change that neither fixes a bug nor adds a feature\n",
    "* **test**: Adding missing tests or correcting existing tests\n",
    "\n"
   ]
  }
 ],
 "metadata": {
  "kernelspec": {
   "display_name": "Python 3 (ipykernel)",
   "language": "python",
   "name": "python3"
  },
  "language_info": {
   "codemirror_mode": {
    "name": "ipython",
    "version": 3
   },
   "file_extension": ".py",
   "mimetype": "text/x-python",
   "name": "python",
   "nbconvert_exporter": "python",
   "pygments_lexer": "ipython3",
   "version": "3.9.6"
  }
 },
 "nbformat": 4,
 "nbformat_minor": 4
}
